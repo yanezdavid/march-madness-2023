{
 "cells": [
  {
   "cell_type": "code",
   "execution_count": 1,
   "id": "04ad7caa",
   "metadata": {
    "_cell_guid": "b1076dfc-b9ad-4769-8c92-a6c4dae69d19",
    "_uuid": "8f2839f25d086af736a60e9eeb907d3b93b6e0e5",
    "execution": {
     "iopub.execute_input": "2023-02-28T07:39:29.461762Z",
     "iopub.status.busy": "2023-02-28T07:39:29.460990Z",
     "iopub.status.idle": "2023-02-28T07:39:29.476747Z",
     "shell.execute_reply": "2023-02-28T07:39:29.474839Z"
    },
    "papermill": {
     "duration": 0.028379,
     "end_time": "2023-02-28T07:39:29.480807",
     "exception": false,
     "start_time": "2023-02-28T07:39:29.452428",
     "status": "completed"
    },
    "tags": []
   },
   "outputs": [
    {
     "name": "stdout",
     "output_type": "stream",
     "text": [
      "Cities.csv\n",
      "Conferences.csv\n",
      "MConferenceTourneyGames.csv\n",
      "MGameCities.csv\n",
      "MMasseyOrdinals.csv\n",
      "MNCAATourneyCompactResults.csv\n",
      "MNCAATourneyDetailedResults.csv\n",
      "MNCAATourneySeedRoundSlots.csv\n",
      "MNCAATourneySeeds.csv\n",
      "MNCAATourneySlots.csv\n",
      "MRegularSeasonCompactResults.csv\n",
      "MRegularSeasonDetailedResults.csv\n",
      "MSeasons.csv\n",
      "MSecondaryTourneyCompactResults.csv\n",
      "MSecondaryTourneyTeams.csv\n",
      "MTeamCoaches.csv\n",
      "MTeamConferences.csv\n",
      "MTeamSpellings.csv\n",
      "MTeams.csv\n",
      "SampleSubmission2023.csv\n",
      "WGameCities.csv\n",
      "WNCAATourneyCompactResults.csv\n",
      "WNCAATourneyDetailedResults.csv\n",
      "WNCAATourneySeeds.csv\n",
      "WNCAATourneySlots.csv\n",
      "WRegularSeasonCompactResults.csv\n",
      "WRegularSeasonDetailedResults.csv\n",
      "WSeasons.csv\n",
      "WTeamConferences.csv\n",
      "WTeamSpellings.csv\n",
      "WTeams.csv\n"
     ]
    }
   ],
   "source": [
    "# You can write up to 20GB to the current directory (/kaggle/working/) that gets preserved as output when you create a version using \"Save & Run All\" \n",
    "# You can also write temporary files to /kaggle/temp/, but they won't be saved outside of the current session\n",
    "\n",
    "import os # operating system\n",
    "import pandas as pd # dataframe manipulation\n",
    "import numpy as np # linear algebra\n",
    "\n",
    "\n",
    "data_dir = \"/kaggle/input/march-machine-learning-mania-2023/\"\n",
    "\n",
    "for file in sorted(os.listdir(data_dir)):\n",
    "    print(file)"
   ]
  },
  {
   "cell_type": "markdown",
   "id": "e0297bf4",
   "metadata": {
    "papermill": {
     "duration": 0.005586,
     "end_time": "2023-02-28T07:39:29.492839",
     "exception": false,
     "start_time": "2023-02-28T07:39:29.487253",
     "status": "completed"
    },
    "tags": []
   },
   "source": [
    "\n",
    "### Goal of the Competition\n",
    "Another year, another chance to predict the upsets, call the probabilities, and put your bracketology skills to the leaderboard test. In our ninth annual March Machine Learning Mania competition, Kagglers will once again join the millions of fans who attempt to predict the outcomes of this year's college basketball tournaments. Unlike most fans, you will pick the winners and losers using a combination of rich historical data and computing power, while the ground truth unfolds on television.\n"
   ]
  },
  {
   "cell_type": "markdown",
   "id": "990d7435",
   "metadata": {
    "papermill": {
     "duration": 0.005374,
     "end_time": "2023-02-28T07:39:29.503903",
     "exception": false,
     "start_time": "2023-02-28T07:39:29.498529",
     "status": "completed"
    },
    "tags": []
   },
   "source": [
    "### Context\n",
    "You are provided data of historical NCAA games to forecast the outcomes of the Division 1 Men's and Women's basketball tournaments. This competition is the official 2023 edition, with points, medals, prizes, and basketball glory at stake.\n",
    "\n",
    "We have made several updates to the competition format compared to prior editions:\n",
    "\n",
    "1. There is a change in evaluation metric from log loss to Brier scores. See the Evaluation Page for full details.\n",
    "2. We are combining the Men's and Women's tournament into one single competition, instead of running separate tracks. The competition will award full points/medals as a result.\n",
    "3. We have changed the prediction format so that you may forecast the 2023 tournaments right away, instead of having to wait to see which teams are selected for the tournament.\n",
    "\n",
    "We have also launched a companion warmup competition, which is setup as a practice leaderboard covering the previous five tournaments. Because its only for practice and the ground historical game outcomes are public information, the warmup competition does not count for points/medals and will be taken down once it has served its purpose. Prior to the start of the tournaments, the leaderboard of this competition will reflect all zero scores. Kaggle will periodically fill in the outcomes and rescore once games begin.\n",
    "\n",
    "Good luck and happy forecasting!"
   ]
  },
  {
   "cell_type": "markdown",
   "id": "41bde8d6",
   "metadata": {
    "papermill": {
     "duration": 0.005322,
     "end_time": "2023-02-28T07:39:29.515285",
     "exception": false,
     "start_time": "2023-02-28T07:39:29.509963",
     "status": "completed"
    },
    "tags": []
   },
   "source": [
    "### Dataset Description\n",
    "Each season there are thousands of NCAA basketball games played between Division I college basketball teams, culminating in March Madness®, the 68-team national championship that starts in the middle of March. We have provided a large amount of historical data about college basketball games and teams, going back many years. Armed with this historical data, you can explore it and develop your own distinctive ways of predicting March Madness® game outcomes. You can even evaluate and compare different approaches by seeing which of them would have done best at predicting tournament games from the past.\n",
    "\n",
    "If you are unfamiliar with the format and intricacies of the NCAA® tournament, we encourage reading the wikipedia pages for the men's and women's tournaments before before diving into the data.  The data description and schema may seem daunting at first, but is not as complicated as it appears.\n",
    "\n",
    "Please note that in previous years, there were separate competitions for predicting the men's tournament games or the women's tournament games. In this year's competition, you will be submitting combined prediction files that include predictions for both the men's tournament and the women's tournament. Thus the data files incorporate both men's data and women's data. The files that pertain only to men's data will start with the letter prefix M, and the files that pertain only to women's data will start with the letter prefix W. Some files span both men's and women's data, such as Cities and Conferences, and these files do not start with an M prefix or a W prefix.\n",
    "\n",
    "As a reminder, you are encouraged to incorporate your own sources of data. We have provided extensive historical data to jump-start the modeling process, and this data is self-consistent (for instance, dates and team ID's are always treated the same way). Nevertheless, you may also be able to make productive use of external data. If you head down this path, please be forewarned that many sources have their own distinctive way of identifying the names of teams, and this can make it challenging to link up with our data. The MTeamSpellings and WTeamSpellings files, which are listed in the bottom section below, may help you map external team references into our own Team ID structure, and you may also need to understand exactly how dates work in our data."
   ]
  },
  {
   "cell_type": "markdown",
   "id": "6b539b22",
   "metadata": {
    "papermill": {
     "duration": 0.005394,
     "end_time": "2023-02-28T07:39:29.526385",
     "exception": false,
     "start_time": "2023-02-28T07:39:29.520991",
     "status": "completed"
    },
    "tags": []
   },
   "source": [
    "### What to Predict \n",
    "~~Warmup Competition - You should submit predicted probabilities for every possible matchup in the past 5 NCAA® tournaments (2017-2019 and 2021-2022). Note that there was no tournament held in 2020.~~\n",
    "\n",
    "**2023 Competition - You should submit predicted probabilities for every possible matchup before the 2023 tournament begins.**"
   ]
  },
  {
   "cell_type": "markdown",
   "id": "f3cf6448",
   "metadata": {
    "papermill": {
     "duration": 0.005744,
     "end_time": "2023-02-28T07:39:29.538317",
     "exception": false,
     "start_time": "2023-02-28T07:39:29.532573",
     "status": "completed"
    },
    "tags": []
   },
   "source": [
    "### Load and Prepare Data\n",
    "Load and combine data for analysis."
   ]
  },
  {
   "cell_type": "markdown",
   "id": "d61a0682",
   "metadata": {
    "papermill": {
     "duration": 0.00529,
     "end_time": "2023-02-28T07:39:29.549388",
     "exception": false,
     "start_time": "2023-02-28T07:39:29.544098",
     "status": "completed"
    },
    "tags": []
   },
   "source": [
    "#### MNCAATourneySeeds.csv & WNCAATourneySeeds.csv\n",
    "\n",
    "These files identify the seeds for all teams in each NCAA® tournament, for all seasons of historical data. Thus, there are between 64-68 rows for each year, depending on whether there were any play-in games and how many there were. In recent years the structure has settled at 68 total teams, with four \"play-in\" games leading to the final field of 64 teams entering Round 1 on Thursday/Friday of the first week (by definition, that is DayNum=136/137 each season). We will not know the seeds of the respective tournament teams, or even exactly which 68 teams it will be, until Selection Sunday on March 12, 2023 (DayNum=132).\n",
    "\n",
    "* **Season** - the year that the tournament was played in\n",
    "* **Seed** - this is a 3/4-character identifier of the seed, where the first character is either W, X, Y, or Z (identifying the region the team was in) and the next two digits (either 01, 02, ..., 15, or 16) tell you the seed within the region. For play-in teams, there is a fourth character (a or b) to further distinguish the seeds, since teams that face each other in the play-in games will have seeds with the same first three characters. The \"a\" and \"b\" are assigned based on which Team ID is lower numerically. As an example of the format of the seed, the first record in the MNCAATourneySeeds file is seed W01 from 1985, which means we are looking at the #1 seed in the W region (which we can see from the \"MSeasons.csv\" file was the East region).\n",
    "* **TeamID** - this identifies the id number of the team, as specified in the MTeams.csv or WTeams.csv file"
   ]
  },
  {
   "cell_type": "markdown",
   "id": "b4f0f4ca",
   "metadata": {
    "papermill": {
     "duration": 0.005394,
     "end_time": "2023-02-28T07:39:29.560543",
     "exception": false,
     "start_time": "2023-02-28T07:39:29.555149",
     "status": "completed"
    },
    "tags": []
   },
   "source": [
    "Create function to concat dataframes to reduce redundancy:"
   ]
  },
  {
   "cell_type": "code",
   "execution_count": 2,
   "id": "33d58b78",
   "metadata": {
    "execution": {
     "iopub.execute_input": "2023-02-28T07:39:29.574092Z",
     "iopub.status.busy": "2023-02-28T07:39:29.573352Z",
     "iopub.status.idle": "2023-02-28T07:39:29.579960Z",
     "shell.execute_reply": "2023-02-28T07:39:29.578742Z"
    },
    "papermill": {
     "duration": 0.016442,
     "end_time": "2023-02-28T07:39:29.582620",
     "exception": false,
     "start_time": "2023-02-28T07:39:29.566178",
     "status": "completed"
    },
    "tags": []
   },
   "outputs": [],
   "source": [
    "def concat_dfs(data_dir, dfs):\n",
    "    \"\"\"Returns a concatenated dataframe from a list of dataframe basenames in the data_dir.\n",
    "    \n",
    "    Args:\n",
    "        dfs - list: list of dataframe basenames to concatenate together\n",
    "        data_dir - str: directory of dataframe basenames\n",
    "        \n",
    "    Returns:\n",
    "        df_concat - object: concatenated dataframe\n",
    "    \"\"\"\n",
    "    dfs_to_concat = []\n",
    "    for df in dfs:\n",
    "        df_path = os.path.join(data_dir, df)\n",
    "        df = pd.read_csv(df_path)\n",
    "        dfs_to_concat.append(df)\n",
    "    df_concat = pd.concat(dfs_to_concat)\n",
    "    return df_concat"
   ]
  },
  {
   "cell_type": "markdown",
   "id": "4a280453",
   "metadata": {
    "papermill": {
     "duration": 0.005277,
     "end_time": "2023-02-28T07:39:29.593650",
     "exception": false,
     "start_time": "2023-02-28T07:39:29.588373",
     "status": "completed"
    },
    "tags": []
   },
   "source": [
    "Concatenate and check dataframe for men's and women's tournament seeding. "
   ]
  },
  {
   "cell_type": "code",
   "execution_count": 3,
   "id": "d55d9a7e",
   "metadata": {
    "execution": {
     "iopub.execute_input": "2023-02-28T07:39:29.608429Z",
     "iopub.status.busy": "2023-02-28T07:39:29.607546Z",
     "iopub.status.idle": "2023-02-28T07:39:29.664835Z",
     "shell.execute_reply": "2023-02-28T07:39:29.663871Z"
    },
    "papermill": {
     "duration": 0.068154,
     "end_time": "2023-02-28T07:39:29.667377",
     "exception": false,
     "start_time": "2023-02-28T07:39:29.599223",
     "status": "completed"
    },
    "tags": []
   },
   "outputs": [
    {
     "data": {
      "text/html": [
       "<div>\n",
       "<style scoped>\n",
       "    .dataframe tbody tr th:only-of-type {\n",
       "        vertical-align: middle;\n",
       "    }\n",
       "\n",
       "    .dataframe tbody tr th {\n",
       "        vertical-align: top;\n",
       "    }\n",
       "\n",
       "    .dataframe thead th {\n",
       "        text-align: right;\n",
       "    }\n",
       "</style>\n",
       "<table border=\"1\" class=\"dataframe\">\n",
       "  <thead>\n",
       "    <tr style=\"text-align: right;\">\n",
       "      <th></th>\n",
       "      <th>Season</th>\n",
       "      <th>Seed</th>\n",
       "      <th>TeamID</th>\n",
       "    </tr>\n",
       "  </thead>\n",
       "  <tbody>\n",
       "    <tr>\n",
       "      <th>0</th>\n",
       "      <td>1985</td>\n",
       "      <td>W01</td>\n",
       "      <td>1207</td>\n",
       "    </tr>\n",
       "    <tr>\n",
       "      <th>1</th>\n",
       "      <td>1985</td>\n",
       "      <td>W02</td>\n",
       "      <td>1210</td>\n",
       "    </tr>\n",
       "    <tr>\n",
       "      <th>2</th>\n",
       "      <td>1985</td>\n",
       "      <td>W03</td>\n",
       "      <td>1228</td>\n",
       "    </tr>\n",
       "    <tr>\n",
       "      <th>3</th>\n",
       "      <td>1985</td>\n",
       "      <td>W04</td>\n",
       "      <td>1260</td>\n",
       "    </tr>\n",
       "    <tr>\n",
       "      <th>4</th>\n",
       "      <td>1985</td>\n",
       "      <td>W05</td>\n",
       "      <td>1374</td>\n",
       "    </tr>\n",
       "  </tbody>\n",
       "</table>\n",
       "</div>"
      ],
      "text/plain": [
       "   Season Seed  TeamID\n",
       "0    1985  W01    1207\n",
       "1    1985  W02    1210\n",
       "2    1985  W03    1228\n",
       "3    1985  W04    1260\n",
       "4    1985  W05    1374"
      ]
     },
     "execution_count": 3,
     "metadata": {},
     "output_type": "execute_result"
    }
   ],
   "source": [
    "dfs = [\"MNCAATourneySeeds.csv\", \"WNCAATourneySeeds.csv\"]\n",
    "\n",
    "df_tourney_seeds = concat_dfs(data_dir, dfs)\n",
    "\n",
    "df_tourney_seeds.head()"
   ]
  },
  {
   "cell_type": "markdown",
   "id": "c060954f",
   "metadata": {
    "papermill": {
     "duration": 0.00563,
     "end_time": "2023-02-28T07:39:29.679065",
     "exception": false,
     "start_time": "2023-02-28T07:39:29.673435",
     "status": "completed"
    },
    "tags": []
   },
   "source": [
    "Check for missing values:"
   ]
  },
  {
   "cell_type": "code",
   "execution_count": 4,
   "id": "99c374f9",
   "metadata": {
    "execution": {
     "iopub.execute_input": "2023-02-28T07:39:29.693512Z",
     "iopub.status.busy": "2023-02-28T07:39:29.692690Z",
     "iopub.status.idle": "2023-02-28T07:39:29.702458Z",
     "shell.execute_reply": "2023-02-28T07:39:29.701393Z"
    },
    "papermill": {
     "duration": 0.019406,
     "end_time": "2023-02-28T07:39:29.704700",
     "exception": false,
     "start_time": "2023-02-28T07:39:29.685294",
     "status": "completed"
    },
    "tags": []
   },
   "outputs": [
    {
     "data": {
      "text/plain": [
       "Season    0\n",
       "Seed      0\n",
       "TeamID    0\n",
       "dtype: int64"
      ]
     },
     "execution_count": 4,
     "metadata": {},
     "output_type": "execute_result"
    }
   ],
   "source": [
    "df_tourney_seeds.isnull().sum()"
   ]
  },
  {
   "cell_type": "markdown",
   "id": "fc576ea3",
   "metadata": {
    "papermill": {
     "duration": 0.00558,
     "end_time": "2023-02-28T07:39:29.716409",
     "exception": false,
     "start_time": "2023-02-28T07:39:29.710829",
     "status": "completed"
    },
    "tags": []
   },
   "source": [
    "Check for duplicated values:"
   ]
  },
  {
   "cell_type": "code",
   "execution_count": 5,
   "id": "c08021dc",
   "metadata": {
    "execution": {
     "iopub.execute_input": "2023-02-28T07:39:29.729849Z",
     "iopub.status.busy": "2023-02-28T07:39:29.729408Z",
     "iopub.status.idle": "2023-02-28T07:39:29.745376Z",
     "shell.execute_reply": "2023-02-28T07:39:29.744214Z"
    },
    "papermill": {
     "duration": 0.025483,
     "end_time": "2023-02-28T07:39:29.747683",
     "exception": false,
     "start_time": "2023-02-28T07:39:29.722200",
     "status": "completed"
    },
    "tags": []
   },
   "outputs": [
    {
     "data": {
      "text/plain": [
       "0"
      ]
     },
     "execution_count": 5,
     "metadata": {},
     "output_type": "execute_result"
    }
   ],
   "source": [
    "df_tourney_seeds.duplicated().sum()"
   ]
  },
  {
   "cell_type": "markdown",
   "id": "1b576eeb",
   "metadata": {
    "papermill": {
     "duration": 0.005776,
     "end_time": "2023-02-28T07:39:29.759407",
     "exception": false,
     "start_time": "2023-02-28T07:39:29.753631",
     "status": "completed"
    },
    "tags": []
   },
   "source": [
    "#### MRegularSeasonCompactResults.csv & WRegularSeasonCompactResults.csv\n",
    "\n",
    "These files identify the game-by-game results for many seasons of historical data, starting with the 1985 season for men (the first year the NCAA® had a 64-team men's tournament) and the 1998 season for women. For each season, the file includes all games played from DayNum 0 through 132. It is important to realize that the \"Regular Season\" games are simply defined to be all games played on DayNum=132 or earlier (DayNum=132 is Selection Sunday, and there are always a few conference tournament finals actually played early in the day on Selection Sunday itself). Thus a game played on or before Selection Sunday will show up here whether it was a pre-season tournament, a non-conference game, a regular conference game, a conference tournament game, or whatever.\n",
    "\n",
    "* **Season** - this is the year of the associated entry in MSeasons.csv or WSeasons.csv, namely the year in which the final tournament occurs. For example, during the 2016 season, there were regular season games played between November 2015 and March 2016, and all of those games will show up with a Season of 2016.\n",
    "* **DayNum** - this integer always ranges from 0 to 132, and tells you what day the game was played on. It represents an offset from the \"DayZero\" date in the \"MSeasons.csv\" or \"WSeasons.csv\" file. For example, the first game in the \"MRegularSeasonCompactResults.csv\" file was DayNum=20. Combined with the fact from the \"MSeasons.csv\" file that day zero was 10/29/1984 that year, this means the first game was played 20 days later, or 11/18/1984. There are no teams that ever played more than one game on a given date, so you can use this fact if you need a unique key (combining Season and DayNum and WTeamID). In order to accomplish this uniqueness, we had to adjust one game's date. In March 2008, the men's SEC postseason tournament had to reschedule one game (Georgia-Kentucky) to a subsequent day because of a tornado, so Georgia had to actually play two games on the same day. In order to enforce this uniqueness, we moved the game date for the Georgia-Kentucky game back to its original scheduled date.\n",
    "* **WTeamID** - this identifies the id number of the team that won the game, as listed in the \"MTeams.csv\" or \"WTeams.csv\" file. No matter whether the game was won by the home team or visiting team, or if it was a neutral-site game, the \"WTeamID\" always identifies the winning team. Please note that in this case the \"W\" in \"WTeamID does not refer to women's data; the \"W\" is for \"winning\". Both the men's data and women's data will identify the winning team id by this WTeamID column. The same note applies to WScore and WLoc below - these are \"W\" for \"winning\" and not for \"women's\".\n",
    "* **WScore** - this identifies the number of points scored by the winning team.\n",
    "* **LTeamID** - this identifies the id number of the team that lost the game.\n",
    "* **LScore** - this identifies the number of points scored by the losing team. Thus you can be confident that WScore will be greater than LScore for all games listed.\n",
    "* **WLoc** - this identifies the \"location\" of the winning team. If the winning team was the home team, this value will be \"H\". If the winning team was the visiting (or \"away\") team, this value will be \"A\". If it was played on a neutral court, then this value will be \"N\". Sometimes it is unclear whether the site should be considered neutral, since it is near one team's home court, or even on their court during a tournament, but for this determination we have simply used the Kenneth Massey data in its current state, where the \"@\" sign is either listed with the winning team, the losing team, or neither team. If you would like to investigate this factor more closely, we invite you to explore Data Section 3, which provides the city that each game was played in, irrespective of whether it was considered to be a neutral site.\n",
    "* **NumOT** - this indicates the number of overtime periods in the game, an integer 0 or higher."
   ]
  },
  {
   "cell_type": "code",
   "execution_count": 6,
   "id": "b3aaeb6f",
   "metadata": {
    "execution": {
     "iopub.execute_input": "2023-02-28T07:39:29.773688Z",
     "iopub.status.busy": "2023-02-28T07:39:29.772565Z",
     "iopub.status.idle": "2023-02-28T07:39:30.162064Z",
     "shell.execute_reply": "2023-02-28T07:39:30.160765Z"
    },
    "papermill": {
     "duration": 0.399375,
     "end_time": "2023-02-28T07:39:30.164649",
     "exception": false,
     "start_time": "2023-02-28T07:39:29.765274",
     "status": "completed"
    },
    "tags": []
   },
   "outputs": [
    {
     "data": {
      "text/html": [
       "<div>\n",
       "<style scoped>\n",
       "    .dataframe tbody tr th:only-of-type {\n",
       "        vertical-align: middle;\n",
       "    }\n",
       "\n",
       "    .dataframe tbody tr th {\n",
       "        vertical-align: top;\n",
       "    }\n",
       "\n",
       "    .dataframe thead th {\n",
       "        text-align: right;\n",
       "    }\n",
       "</style>\n",
       "<table border=\"1\" class=\"dataframe\">\n",
       "  <thead>\n",
       "    <tr style=\"text-align: right;\">\n",
       "      <th></th>\n",
       "      <th>Season</th>\n",
       "      <th>DayNum</th>\n",
       "      <th>WTeamID</th>\n",
       "      <th>WScore</th>\n",
       "      <th>LTeamID</th>\n",
       "      <th>LScore</th>\n",
       "      <th>WLoc</th>\n",
       "      <th>NumOT</th>\n",
       "    </tr>\n",
       "  </thead>\n",
       "  <tbody>\n",
       "    <tr>\n",
       "      <th>0</th>\n",
       "      <td>1985</td>\n",
       "      <td>20</td>\n",
       "      <td>1228</td>\n",
       "      <td>81</td>\n",
       "      <td>1328</td>\n",
       "      <td>64</td>\n",
       "      <td>N</td>\n",
       "      <td>0</td>\n",
       "    </tr>\n",
       "    <tr>\n",
       "      <th>1</th>\n",
       "      <td>1985</td>\n",
       "      <td>25</td>\n",
       "      <td>1106</td>\n",
       "      <td>77</td>\n",
       "      <td>1354</td>\n",
       "      <td>70</td>\n",
       "      <td>H</td>\n",
       "      <td>0</td>\n",
       "    </tr>\n",
       "    <tr>\n",
       "      <th>2</th>\n",
       "      <td>1985</td>\n",
       "      <td>25</td>\n",
       "      <td>1112</td>\n",
       "      <td>63</td>\n",
       "      <td>1223</td>\n",
       "      <td>56</td>\n",
       "      <td>H</td>\n",
       "      <td>0</td>\n",
       "    </tr>\n",
       "    <tr>\n",
       "      <th>3</th>\n",
       "      <td>1985</td>\n",
       "      <td>25</td>\n",
       "      <td>1165</td>\n",
       "      <td>70</td>\n",
       "      <td>1432</td>\n",
       "      <td>54</td>\n",
       "      <td>H</td>\n",
       "      <td>0</td>\n",
       "    </tr>\n",
       "    <tr>\n",
       "      <th>4</th>\n",
       "      <td>1985</td>\n",
       "      <td>25</td>\n",
       "      <td>1192</td>\n",
       "      <td>86</td>\n",
       "      <td>1447</td>\n",
       "      <td>74</td>\n",
       "      <td>H</td>\n",
       "      <td>0</td>\n",
       "    </tr>\n",
       "  </tbody>\n",
       "</table>\n",
       "</div>"
      ],
      "text/plain": [
       "   Season  DayNum  WTeamID  WScore  LTeamID  LScore WLoc  NumOT\n",
       "0    1985      20     1228      81     1328      64    N      0\n",
       "1    1985      25     1106      77     1354      70    H      0\n",
       "2    1985      25     1112      63     1223      56    H      0\n",
       "3    1985      25     1165      70     1432      54    H      0\n",
       "4    1985      25     1192      86     1447      74    H      0"
      ]
     },
     "execution_count": 6,
     "metadata": {},
     "output_type": "execute_result"
    }
   ],
   "source": [
    "dfs = [\"MRegularSeasonCompactResults.csv\", \"WRegularSeasonCompactResults.csv\"]\n",
    "\n",
    "df_regular_season_results = concat_dfs(data_dir, dfs)\n",
    "\n",
    "df_regular_season_results.head()"
   ]
  },
  {
   "cell_type": "markdown",
   "id": "ea9ba914",
   "metadata": {
    "papermill": {
     "duration": 0.006013,
     "end_time": "2023-02-28T07:39:30.176870",
     "exception": false,
     "start_time": "2023-02-28T07:39:30.170857",
     "status": "completed"
    },
    "tags": []
   },
   "source": [
    "```NumOT``` & ```WLoc``` doesn't seem important for predicting outcomes of games given we are not predicting with knowledge of the home court advantage. Drop them:"
   ]
  },
  {
   "cell_type": "code",
   "execution_count": 7,
   "id": "da67a93b",
   "metadata": {
    "execution": {
     "iopub.execute_input": "2023-02-28T07:39:30.192240Z",
     "iopub.status.busy": "2023-02-28T07:39:30.190947Z",
     "iopub.status.idle": "2023-02-28T07:39:30.227408Z",
     "shell.execute_reply": "2023-02-28T07:39:30.226041Z"
    },
    "papermill": {
     "duration": 0.046864,
     "end_time": "2023-02-28T07:39:30.230095",
     "exception": false,
     "start_time": "2023-02-28T07:39:30.183231",
     "status": "completed"
    },
    "tags": []
   },
   "outputs": [
    {
     "data": {
      "text/html": [
       "<div>\n",
       "<style scoped>\n",
       "    .dataframe tbody tr th:only-of-type {\n",
       "        vertical-align: middle;\n",
       "    }\n",
       "\n",
       "    .dataframe tbody tr th {\n",
       "        vertical-align: top;\n",
       "    }\n",
       "\n",
       "    .dataframe thead th {\n",
       "        text-align: right;\n",
       "    }\n",
       "</style>\n",
       "<table border=\"1\" class=\"dataframe\">\n",
       "  <thead>\n",
       "    <tr style=\"text-align: right;\">\n",
       "      <th></th>\n",
       "      <th>Season</th>\n",
       "      <th>DayNum</th>\n",
       "      <th>WTeamID</th>\n",
       "      <th>WScore</th>\n",
       "      <th>LTeamID</th>\n",
       "      <th>LScore</th>\n",
       "    </tr>\n",
       "  </thead>\n",
       "  <tbody>\n",
       "    <tr>\n",
       "      <th>0</th>\n",
       "      <td>1985</td>\n",
       "      <td>20</td>\n",
       "      <td>1228</td>\n",
       "      <td>81</td>\n",
       "      <td>1328</td>\n",
       "      <td>64</td>\n",
       "    </tr>\n",
       "    <tr>\n",
       "      <th>1</th>\n",
       "      <td>1985</td>\n",
       "      <td>25</td>\n",
       "      <td>1106</td>\n",
       "      <td>77</td>\n",
       "      <td>1354</td>\n",
       "      <td>70</td>\n",
       "    </tr>\n",
       "    <tr>\n",
       "      <th>2</th>\n",
       "      <td>1985</td>\n",
       "      <td>25</td>\n",
       "      <td>1112</td>\n",
       "      <td>63</td>\n",
       "      <td>1223</td>\n",
       "      <td>56</td>\n",
       "    </tr>\n",
       "    <tr>\n",
       "      <th>3</th>\n",
       "      <td>1985</td>\n",
       "      <td>25</td>\n",
       "      <td>1165</td>\n",
       "      <td>70</td>\n",
       "      <td>1432</td>\n",
       "      <td>54</td>\n",
       "    </tr>\n",
       "    <tr>\n",
       "      <th>4</th>\n",
       "      <td>1985</td>\n",
       "      <td>25</td>\n",
       "      <td>1192</td>\n",
       "      <td>86</td>\n",
       "      <td>1447</td>\n",
       "      <td>74</td>\n",
       "    </tr>\n",
       "  </tbody>\n",
       "</table>\n",
       "</div>"
      ],
      "text/plain": [
       "   Season  DayNum  WTeamID  WScore  LTeamID  LScore\n",
       "0    1985      20     1228      81     1328      64\n",
       "1    1985      25     1106      77     1354      70\n",
       "2    1985      25     1112      63     1223      56\n",
       "3    1985      25     1165      70     1432      54\n",
       "4    1985      25     1192      86     1447      74"
      ]
     },
     "execution_count": 7,
     "metadata": {},
     "output_type": "execute_result"
    }
   ],
   "source": [
    "df_regular_season_results = df_regular_season_results.drop(columns=[\"NumOT\", \"WLoc\"])\n",
    "\n",
    "df_regular_season_results.head()"
   ]
  },
  {
   "cell_type": "markdown",
   "id": "ea6cf34a",
   "metadata": {
    "papermill": {
     "duration": 0.006221,
     "end_time": "2023-02-28T07:39:30.242873",
     "exception": false,
     "start_time": "2023-02-28T07:39:30.236652",
     "status": "completed"
    },
    "tags": []
   },
   "source": [
    "#### Create additional features"
   ]
  },
  {
   "cell_type": "markdown",
   "id": "e2e205b9",
   "metadata": {
    "papermill": {
     "duration": 0.006321,
     "end_time": "2023-02-28T07:39:30.255702",
     "exception": false,
     "start_time": "2023-02-28T07:39:30.249381",
     "status": "completed"
    },
    "tags": []
   },
   "source": [
    "**Point differential (winning team's score - losing team's score)** is an important metric that measures the strength of the winning team; strong teams not only win, but win big. Create a new point differential feature on the ```df_regular_season_results``` dataframe:"
   ]
  },
  {
   "cell_type": "code",
   "execution_count": 8,
   "id": "f072d20e",
   "metadata": {
    "execution": {
     "iopub.execute_input": "2023-02-28T07:39:30.271485Z",
     "iopub.status.busy": "2023-02-28T07:39:30.270084Z",
     "iopub.status.idle": "2023-02-28T07:39:30.286318Z",
     "shell.execute_reply": "2023-02-28T07:39:30.285098Z"
    },
    "papermill": {
     "duration": 0.026564,
     "end_time": "2023-02-28T07:39:30.288762",
     "exception": false,
     "start_time": "2023-02-28T07:39:30.262198",
     "status": "completed"
    },
    "tags": []
   },
   "outputs": [
    {
     "data": {
      "text/html": [
       "<div>\n",
       "<style scoped>\n",
       "    .dataframe tbody tr th:only-of-type {\n",
       "        vertical-align: middle;\n",
       "    }\n",
       "\n",
       "    .dataframe tbody tr th {\n",
       "        vertical-align: top;\n",
       "    }\n",
       "\n",
       "    .dataframe thead th {\n",
       "        text-align: right;\n",
       "    }\n",
       "</style>\n",
       "<table border=\"1\" class=\"dataframe\">\n",
       "  <thead>\n",
       "    <tr style=\"text-align: right;\">\n",
       "      <th></th>\n",
       "      <th>Season</th>\n",
       "      <th>DayNum</th>\n",
       "      <th>WTeamID</th>\n",
       "      <th>WScore</th>\n",
       "      <th>LTeamID</th>\n",
       "      <th>LScore</th>\n",
       "      <th>PointDif</th>\n",
       "    </tr>\n",
       "  </thead>\n",
       "  <tbody>\n",
       "    <tr>\n",
       "      <th>0</th>\n",
       "      <td>1985</td>\n",
       "      <td>20</td>\n",
       "      <td>1228</td>\n",
       "      <td>81</td>\n",
       "      <td>1328</td>\n",
       "      <td>64</td>\n",
       "      <td>17</td>\n",
       "    </tr>\n",
       "    <tr>\n",
       "      <th>1</th>\n",
       "      <td>1985</td>\n",
       "      <td>25</td>\n",
       "      <td>1106</td>\n",
       "      <td>77</td>\n",
       "      <td>1354</td>\n",
       "      <td>70</td>\n",
       "      <td>7</td>\n",
       "    </tr>\n",
       "    <tr>\n",
       "      <th>2</th>\n",
       "      <td>1985</td>\n",
       "      <td>25</td>\n",
       "      <td>1112</td>\n",
       "      <td>63</td>\n",
       "      <td>1223</td>\n",
       "      <td>56</td>\n",
       "      <td>7</td>\n",
       "    </tr>\n",
       "    <tr>\n",
       "      <th>3</th>\n",
       "      <td>1985</td>\n",
       "      <td>25</td>\n",
       "      <td>1165</td>\n",
       "      <td>70</td>\n",
       "      <td>1432</td>\n",
       "      <td>54</td>\n",
       "      <td>16</td>\n",
       "    </tr>\n",
       "    <tr>\n",
       "      <th>4</th>\n",
       "      <td>1985</td>\n",
       "      <td>25</td>\n",
       "      <td>1192</td>\n",
       "      <td>86</td>\n",
       "      <td>1447</td>\n",
       "      <td>74</td>\n",
       "      <td>12</td>\n",
       "    </tr>\n",
       "  </tbody>\n",
       "</table>\n",
       "</div>"
      ],
      "text/plain": [
       "   Season  DayNum  WTeamID  WScore  LTeamID  LScore  PointDif\n",
       "0    1985      20     1228      81     1328      64        17\n",
       "1    1985      25     1106      77     1354      70         7\n",
       "2    1985      25     1112      63     1223      56         7\n",
       "3    1985      25     1165      70     1432      54        16\n",
       "4    1985      25     1192      86     1447      74        12"
      ]
     },
     "execution_count": 8,
     "metadata": {},
     "output_type": "execute_result"
    }
   ],
   "source": [
    "df_regular_season_results[\"PointDif\"] = df_regular_season_results[\"WScore\"] - df_regular_season_results[\"LScore\"]\n",
    "\n",
    "df_regular_season_results.head()"
   ]
  },
  {
   "cell_type": "markdown",
   "id": "19298a57",
   "metadata": {
    "papermill": {
     "duration": 0.006447,
     "end_time": "2023-02-28T07:39:30.302079",
     "exception": false,
     "start_time": "2023-02-28T07:39:30.295632",
     "status": "completed"
    },
    "tags": []
   },
   "source": [
    "**Number of wins per season for each team**"
   ]
  },
  {
   "cell_type": "code",
   "execution_count": 9,
   "id": "98b6e849",
   "metadata": {
    "execution": {
     "iopub.execute_input": "2023-02-28T07:39:30.318159Z",
     "iopub.status.busy": "2023-02-28T07:39:30.316991Z",
     "iopub.status.idle": "2023-02-28T07:39:30.384680Z",
     "shell.execute_reply": "2023-02-28T07:39:30.383603Z"
    },
    "papermill": {
     "duration": 0.078747,
     "end_time": "2023-02-28T07:39:30.387562",
     "exception": false,
     "start_time": "2023-02-28T07:39:30.308815",
     "status": "completed"
    },
    "tags": []
   },
   "outputs": [],
   "source": [
    "season_team_group = df_regular_season_results.groupby([\"Season\", \"WTeamID\"]).count()\n",
    "season_team_group = season_team_group.reset_index()[[\"Season\", \"WTeamID\", \"DayNum\"]].rename(columns={\"DayNum\": \"NumWins\", \"WTeamID\": \"TeamID\"})"
   ]
  },
  {
   "cell_type": "code",
   "execution_count": null,
   "id": "ce12d740",
   "metadata": {
    "papermill": {
     "duration": 0.006463,
     "end_time": "2023-02-28T07:39:30.400846",
     "exception": false,
     "start_time": "2023-02-28T07:39:30.394383",
     "status": "completed"
    },
    "tags": []
   },
   "outputs": [],
   "source": []
  }
 ],
 "metadata": {
  "kernelspec": {
   "display_name": "Python 3",
   "language": "python",
   "name": "python3"
  },
  "language_info": {
   "codemirror_mode": {
    "name": "ipython",
    "version": 3
   },
   "file_extension": ".py",
   "mimetype": "text/x-python",
   "name": "python",
   "nbconvert_exporter": "python",
   "pygments_lexer": "ipython3",
   "version": "3.7.12"
  },
  "papermill": {
   "default_parameters": {},
   "duration": 12.206546,
   "end_time": "2023-02-28T07:39:31.130971",
   "environment_variables": {},
   "exception": null,
   "input_path": "__notebook__.ipynb",
   "output_path": "__notebook__.ipynb",
   "parameters": {},
   "start_time": "2023-02-28T07:39:18.924425",
   "version": "2.4.0"
  }
 },
 "nbformat": 4,
 "nbformat_minor": 5
}
