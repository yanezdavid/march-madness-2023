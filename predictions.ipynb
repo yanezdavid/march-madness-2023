{
 "cells": [
  {
   "cell_type": "code",
   "execution_count": 1,
   "id": "61320108",
   "metadata": {
    "_cell_guid": "b1076dfc-b9ad-4769-8c92-a6c4dae69d19",
    "_uuid": "8f2839f25d086af736a60e9eeb907d3b93b6e0e5",
    "execution": {
     "iopub.execute_input": "2023-02-28T23:21:31.426969Z",
     "iopub.status.busy": "2023-02-28T23:21:31.426556Z",
     "iopub.status.idle": "2023-02-28T23:21:31.440148Z",
     "shell.execute_reply": "2023-02-28T23:21:31.439059Z"
    },
    "papermill": {
     "duration": 0.031899,
     "end_time": "2023-02-28T23:21:31.443409",
     "exception": false,
     "start_time": "2023-02-28T23:21:31.411510",
     "status": "completed"
    },
    "tags": []
   },
   "outputs": [
    {
     "name": "stdout",
     "output_type": "stream",
     "text": [
      "Cities.csv\n",
      "Conferences.csv\n",
      "MConferenceTourneyGames.csv\n",
      "MGameCities.csv\n",
      "MMasseyOrdinals.csv\n",
      "MNCAATourneyCompactResults.csv\n",
      "MNCAATourneyDetailedResults.csv\n",
      "MNCAATourneySeedRoundSlots.csv\n",
      "MNCAATourneySeeds.csv\n",
      "MNCAATourneySlots.csv\n",
      "MRegularSeasonCompactResults.csv\n",
      "MRegularSeasonDetailedResults.csv\n",
      "MSeasons.csv\n",
      "MSecondaryTourneyCompactResults.csv\n",
      "MSecondaryTourneyTeams.csv\n",
      "MTeamCoaches.csv\n",
      "MTeamConferences.csv\n",
      "MTeamSpellings.csv\n",
      "MTeams.csv\n",
      "SampleSubmission2023.csv\n",
      "WGameCities.csv\n",
      "WNCAATourneyCompactResults.csv\n",
      "WNCAATourneyDetailedResults.csv\n",
      "WNCAATourneySeeds.csv\n",
      "WNCAATourneySlots.csv\n",
      "WRegularSeasonCompactResults.csv\n",
      "WRegularSeasonDetailedResults.csv\n",
      "WSeasons.csv\n",
      "WTeamConferences.csv\n",
      "WTeamSpellings.csv\n",
      "WTeams.csv\n"
     ]
    }
   ],
   "source": [
    "# You can write up to 20GB to the current directory (/kaggle/working/) that gets preserved as output when you create a version using \"Save & Run All\" \n",
    "# You can also write temporary files to /kaggle/temp/, but they won\"t be saved outside of the current session\n",
    "\n",
    "import os # operating system\n",
    "import pandas as pd # dataframe manipulation\n",
    "import numpy as np # linear algebra\n",
    "\n",
    "\n",
    "data_dir = \"/kaggle/input/march-machine-learning-mania-2023/\"\n",
    "\n",
    "for file in sorted(os.listdir(data_dir)):\n",
    "    print(file)"
   ]
  },
  {
   "cell_type": "markdown",
   "id": "45d250d9",
   "metadata": {
    "papermill": {
     "duration": 0.013213,
     "end_time": "2023-02-28T23:21:31.469198",
     "exception": false,
     "start_time": "2023-02-28T23:21:31.455985",
     "status": "completed"
    },
    "tags": []
   },
   "source": [
    "# WORK IN PROGRESS:"
   ]
  },
  {
   "cell_type": "markdown",
   "id": "0c539ba9",
   "metadata": {
    "papermill": {
     "duration": 0.012414,
     "end_time": "2023-02-28T23:21:31.494045",
     "exception": false,
     "start_time": "2023-02-28T23:21:31.481631",
     "status": "completed"
    },
    "tags": []
   },
   "source": [
    "\n",
    "### Goal of the Competition\n",
    "Another year, another chance to predict the upsets, call the probabilities, and put your bracketology skills to the leaderboard test. In our ninth annual March Machine Learning Mania competition, Kagglers will once again join the millions of fans who attempt to predict the outcomes of this year\"s college basketball tournaments. Unlike most fans, you will pick the winners and losers using a combination of rich historical data and computing power, while the ground truth unfolds on television.\n"
   ]
  },
  {
   "cell_type": "markdown",
   "id": "0c010e00",
   "metadata": {
    "papermill": {
     "duration": 0.011832,
     "end_time": "2023-02-28T23:21:31.519732",
     "exception": false,
     "start_time": "2023-02-28T23:21:31.507900",
     "status": "completed"
    },
    "tags": []
   },
   "source": [
    "### Context\n",
    "You are provided data of historical NCAA games to forecast the outcomes of the Division 1 Men\"s and Women\"s basketball tournaments. This competition is the official 2023 edition, with points, medals, prizes, and basketball glory at stake.\n",
    "\n",
    "We have made several updates to the competition format compared to prior editions:\n",
    "\n",
    "1. There is a change in evaluation metric from log loss to Brier scores. See the Evaluation Page for full details.\n",
    "2. We are combining the Men\"s and Women\"s tournament into one single competition, instead of running separate tracks. The competition will award full points/medals as a result.\n",
    "3. We have changed the prediction format so that you may forecast the 2023 tournaments right away, instead of having to wait to see which teams are selected for the tournament.\n",
    "\n",
    "We have also launched a companion warmup competition, which is setup as a practice leaderboard covering the previous five tournaments. Because its only for practice and the ground historical game outcomes are public information, the warmup competition does not count for points/medals and will be taken down once it has served its purpose. Prior to the start of the tournaments, the leaderboard of this competition will reflect all zero scores. Kaggle will periodically fill in the outcomes and rescore once games begin.\n",
    "\n",
    "Good luck and happy forecasting!"
   ]
  },
  {
   "cell_type": "markdown",
   "id": "91c350b6",
   "metadata": {
    "papermill": {
     "duration": 0.011781,
     "end_time": "2023-02-28T23:21:31.543627",
     "exception": false,
     "start_time": "2023-02-28T23:21:31.531846",
     "status": "completed"
    },
    "tags": []
   },
   "source": [
    "### Dataset Description\n",
    "Each season there are thousands of NCAA basketball games played between Division I college basketball teams, culminating in March Madness®, the 68-team national championship that starts in the middle of March. We have provided a large amount of historical data about college basketball games and teams, going back many years. Armed with this historical data, you can explore it and develop your own distinctive ways of predicting March Madness® game outcomes. You can even evaluate and compare different approaches by seeing which of them would have done best at predicting tournament games from the past.\n",
    "\n",
    "If you are unfamiliar with the format and intricacies of the NCAA® tournament, we encourage reading the wikipedia pages for the men\"s and women\"s tournaments before before diving into the data.  The data description and schema may seem daunting at first, but is not as complicated as it appears.\n",
    "\n",
    "Please note that in previous years, there were separate competitions for predicting the men\"s tournament games or the women\"s tournament games. In this year\"s competition, you will be submitting combined prediction files that include predictions for both the men\"s tournament and the women\"s tournament. Thus the data files incorporate both men\"s data and women\"s data. The files that pertain only to men\"s data will start with the letter prefix M, and the files that pertain only to women\"s data will start with the letter prefix W. Some files span both men\"s and women\"s data, such as Cities and Conferences, and these files do not start with an M prefix or a W prefix.\n",
    "\n",
    "As a reminder, you are encouraged to incorporate your own sources of data. We have provided extensive historical data to jump-start the modeling process, and this data is self-consistent (for instance, dates and team ID\"s are always treated the same way). Nevertheless, you may also be able to make productive use of external data. If you head down this path, please be forewarned that many sources have their own distinctive way of identifying the names of teams, and this can make it challenging to link up with our data. The MTeamSpellings and WTeamSpellings files, which are listed in the bottom section below, may help you map external team references into our own Team ID structure, and you may also need to understand exactly how dates work in our data."
   ]
  },
  {
   "cell_type": "markdown",
   "id": "a5cbab0c",
   "metadata": {
    "papermill": {
     "duration": 0.011966,
     "end_time": "2023-02-28T23:21:31.567689",
     "exception": false,
     "start_time": "2023-02-28T23:21:31.555723",
     "status": "completed"
    },
    "tags": []
   },
   "source": [
    "### What to Predict \n",
    "~~Warmup Competition - You should submit predicted probabilities for every possible matchup in the past 5 NCAA® tournaments (2017-2019 and 2021-2022). Note that there was no tournament held in 2020.~~\n",
    "\n",
    "**2023 Competition - You should submit predicted probabilities for every possible matchup before the 2023 tournament begins.**"
   ]
  },
  {
   "cell_type": "markdown",
   "id": "940704d4",
   "metadata": {
    "papermill": {
     "duration": 0.011749,
     "end_time": "2023-02-28T23:21:31.591448",
     "exception": false,
     "start_time": "2023-02-28T23:21:31.579699",
     "status": "completed"
    },
    "tags": []
   },
   "source": [
    "### Load and Prepare Data\n",
    "Load and combine data for analysis."
   ]
  },
  {
   "cell_type": "markdown",
   "id": "a26abb1b",
   "metadata": {
    "papermill": {
     "duration": 0.01536,
     "end_time": "2023-02-28T23:21:31.619032",
     "exception": false,
     "start_time": "2023-02-28T23:21:31.603672",
     "status": "completed"
    },
    "tags": []
   },
   "source": [
    "#### MNCAATourneySeeds.csv & WNCAATourneySeeds.csv\n",
    "\n",
    "These files identify the seeds for all teams in each NCAA® tournament, for all seasons of historical data. Thus, there are between 64-68 rows for each year, depending on whether there were any play-in games and how many there were. In recent years the structure has settled at 68 total teams, with four \"play-in\" games leading to the final field of 64 teams entering Round 1 on Thursday/Friday of the first week (by definition, that is DayNum=136/137 each season). We will not know the seeds of the respective tournament teams, or even exactly which 68 teams it will be, until Selection Sunday on March 12, 2023 (DayNum=132).\n",
    "\n",
    "* **Season** - the year that the tournament was played in\n",
    "* **Seed** - this is a 3/4-character identifier of the seed, where the first character is either W, X, Y, or Z (identifying the region the team was in) and the next two digits (either 01, 02, ..., 15, or 16) tell you the seed within the region. For play-in teams, there is a fourth character (a or b) to further distinguish the seeds, since teams that face each other in the play-in games will have seeds with the same first three characters. The \"a\" and \"b\" are assigned based on which Team ID is lower numerically. As an example of the format of the seed, the first record in the MNCAATourneySeeds file is seed W01 from 1985, which means we are looking at the #1 seed in the W region (which we can see from the \"MSeasons.csv\" file was the East region).\n",
    "* **TeamID** - this identifies the id number of the team, as specified in the MTeams.csv or WTeams.csv file"
   ]
  },
  {
   "cell_type": "markdown",
   "id": "aacc04c2",
   "metadata": {
    "papermill": {
     "duration": 0.015335,
     "end_time": "2023-02-28T23:21:31.647393",
     "exception": false,
     "start_time": "2023-02-28T23:21:31.632058",
     "status": "completed"
    },
    "tags": []
   },
   "source": [
    "Create function to concat dataframes to reduce redundancy:"
   ]
  },
  {
   "cell_type": "code",
   "execution_count": 2,
   "id": "04b1cd16",
   "metadata": {
    "execution": {
     "iopub.execute_input": "2023-02-28T23:21:31.673292Z",
     "iopub.status.busy": "2023-02-28T23:21:31.672854Z",
     "iopub.status.idle": "2023-02-28T23:21:31.680035Z",
     "shell.execute_reply": "2023-02-28T23:21:31.678815Z"
    },
    "papermill": {
     "duration": 0.023607,
     "end_time": "2023-02-28T23:21:31.682817",
     "exception": false,
     "start_time": "2023-02-28T23:21:31.659210",
     "status": "completed"
    },
    "tags": []
   },
   "outputs": [],
   "source": [
    "def concat_dfs(dfs, data_dir=\"/kaggle/input/march-machine-learning-mania-2023/\"):\n",
    "    \"\"\"Returns a concatenated dataframe from a list of dataframe basenames in the data_dir.\n",
    "    \n",
    "    Args:\n",
    "        dfs - list: list of dataframe basenames to concatenate together\n",
    "        data_dir - str: directory of dataframe basenames\n",
    "        \n",
    "    Returns:\n",
    "        df_concat - object: concatenated dataframe\n",
    "    \"\"\"\n",
    "    dfs_to_concat = []\n",
    "    for df in dfs:\n",
    "        if type(df) == str:\n",
    "            df_path = os.path.join(data_dir, df)\n",
    "            df = pd.read_csv(df_path)\n",
    "        dfs_to_concat.append(df)\n",
    "    df_concat = pd.concat(dfs_to_concat)\n",
    "    return df_concat"
   ]
  },
  {
   "cell_type": "markdown",
   "id": "a7c92e12",
   "metadata": {
    "papermill": {
     "duration": 0.011905,
     "end_time": "2023-02-28T23:21:31.709283",
     "exception": false,
     "start_time": "2023-02-28T23:21:31.697378",
     "status": "completed"
    },
    "tags": []
   },
   "source": [
    "Concatenate and check dataframe for men\"s and women\"s tournament seeding. "
   ]
  },
  {
   "cell_type": "code",
   "execution_count": 3,
   "id": "b4cf0dff",
   "metadata": {
    "execution": {
     "iopub.execute_input": "2023-02-28T23:21:31.736089Z",
     "iopub.status.busy": "2023-02-28T23:21:31.735179Z",
     "iopub.status.idle": "2023-02-28T23:21:31.785277Z",
     "shell.execute_reply": "2023-02-28T23:21:31.783960Z"
    },
    "papermill": {
     "duration": 0.067995,
     "end_time": "2023-02-28T23:21:31.789396",
     "exception": false,
     "start_time": "2023-02-28T23:21:31.721401",
     "status": "completed"
    },
    "tags": []
   },
   "outputs": [
    {
     "data": {
      "text/html": [
       "<div>\n",
       "<style scoped>\n",
       "    .dataframe tbody tr th:only-of-type {\n",
       "        vertical-align: middle;\n",
       "    }\n",
       "\n",
       "    .dataframe tbody tr th {\n",
       "        vertical-align: top;\n",
       "    }\n",
       "\n",
       "    .dataframe thead th {\n",
       "        text-align: right;\n",
       "    }\n",
       "</style>\n",
       "<table border=\"1\" class=\"dataframe\">\n",
       "  <thead>\n",
       "    <tr style=\"text-align: right;\">\n",
       "      <th></th>\n",
       "      <th>Season</th>\n",
       "      <th>Seed</th>\n",
       "      <th>TeamID</th>\n",
       "    </tr>\n",
       "  </thead>\n",
       "  <tbody>\n",
       "    <tr>\n",
       "      <th>0</th>\n",
       "      <td>1985</td>\n",
       "      <td>W01</td>\n",
       "      <td>1207</td>\n",
       "    </tr>\n",
       "    <tr>\n",
       "      <th>1</th>\n",
       "      <td>1985</td>\n",
       "      <td>W02</td>\n",
       "      <td>1210</td>\n",
       "    </tr>\n",
       "    <tr>\n",
       "      <th>2</th>\n",
       "      <td>1985</td>\n",
       "      <td>W03</td>\n",
       "      <td>1228</td>\n",
       "    </tr>\n",
       "    <tr>\n",
       "      <th>3</th>\n",
       "      <td>1985</td>\n",
       "      <td>W04</td>\n",
       "      <td>1260</td>\n",
       "    </tr>\n",
       "    <tr>\n",
       "      <th>4</th>\n",
       "      <td>1985</td>\n",
       "      <td>W05</td>\n",
       "      <td>1374</td>\n",
       "    </tr>\n",
       "  </tbody>\n",
       "</table>\n",
       "</div>"
      ],
      "text/plain": [
       "   Season Seed  TeamID\n",
       "0    1985  W01    1207\n",
       "1    1985  W02    1210\n",
       "2    1985  W03    1228\n",
       "3    1985  W04    1260\n",
       "4    1985  W05    1374"
      ]
     },
     "execution_count": 3,
     "metadata": {},
     "output_type": "execute_result"
    }
   ],
   "source": [
    "dfs = [\"MNCAATourneySeeds.csv\", \"WNCAATourneySeeds.csv\"]\n",
    "\n",
    "df_tourney_seeds = concat_dfs(dfs)\n",
    "\n",
    "df_tourney_seeds.head()"
   ]
  },
  {
   "cell_type": "markdown",
   "id": "0638aa59",
   "metadata": {
    "papermill": {
     "duration": 0.012174,
     "end_time": "2023-02-28T23:21:31.814955",
     "exception": false,
     "start_time": "2023-02-28T23:21:31.802781",
     "status": "completed"
    },
    "tags": []
   },
   "source": [
    "Check for missing values:"
   ]
  },
  {
   "cell_type": "code",
   "execution_count": 4,
   "id": "83e2d998",
   "metadata": {
    "execution": {
     "iopub.execute_input": "2023-02-28T23:21:31.841347Z",
     "iopub.status.busy": "2023-02-28T23:21:31.840956Z",
     "iopub.status.idle": "2023-02-28T23:21:31.850867Z",
     "shell.execute_reply": "2023-02-28T23:21:31.850005Z"
    },
    "papermill": {
     "duration": 0.025944,
     "end_time": "2023-02-28T23:21:31.853294",
     "exception": false,
     "start_time": "2023-02-28T23:21:31.827350",
     "status": "completed"
    },
    "tags": []
   },
   "outputs": [
    {
     "data": {
      "text/plain": [
       "Season    0\n",
       "Seed      0\n",
       "TeamID    0\n",
       "dtype: int64"
      ]
     },
     "execution_count": 4,
     "metadata": {},
     "output_type": "execute_result"
    }
   ],
   "source": [
    "df_tourney_seeds.isnull().sum()"
   ]
  },
  {
   "cell_type": "markdown",
   "id": "80822cd1",
   "metadata": {
    "papermill": {
     "duration": 0.012127,
     "end_time": "2023-02-28T23:21:31.877808",
     "exception": false,
     "start_time": "2023-02-28T23:21:31.865681",
     "status": "completed"
    },
    "tags": []
   },
   "source": [
    "Check for duplicated values:"
   ]
  },
  {
   "cell_type": "code",
   "execution_count": 5,
   "id": "32d33c45",
   "metadata": {
    "execution": {
     "iopub.execute_input": "2023-02-28T23:21:31.904747Z",
     "iopub.status.busy": "2023-02-28T23:21:31.904024Z",
     "iopub.status.idle": "2023-02-28T23:21:31.918725Z",
     "shell.execute_reply": "2023-02-28T23:21:31.917538Z"
    },
    "papermill": {
     "duration": 0.030945,
     "end_time": "2023-02-28T23:21:31.921046",
     "exception": false,
     "start_time": "2023-02-28T23:21:31.890101",
     "status": "completed"
    },
    "tags": []
   },
   "outputs": [
    {
     "data": {
      "text/plain": [
       "0"
      ]
     },
     "execution_count": 5,
     "metadata": {},
     "output_type": "execute_result"
    }
   ],
   "source": [
    "df_tourney_seeds.duplicated().sum()"
   ]
  },
  {
   "cell_type": "markdown",
   "id": "52dee69d",
   "metadata": {
    "papermill": {
     "duration": 0.01227,
     "end_time": "2023-02-28T23:21:31.946190",
     "exception": false,
     "start_time": "2023-02-28T23:21:31.933920",
     "status": "completed"
    },
    "tags": []
   },
   "source": [
    "#### MRegularSeasonCompactResults.csv & WRegularSeasonCompactResults.csv\n",
    "\n",
    "These files identify the game-by-game results for many seasons of historical data, starting with the 1985 season for men (the first year the NCAA® had a 64-team men\"s tournament) and the 1998 season for women. For each season, the file includes all games played from DayNum 0 through 132. It is important to realize that the \"Regular Season\" games are simply defined to be all games played on DayNum=132 or earlier (DayNum=132 is Selection Sunday, and there are always a few conference tournament finals actually played early in the day on Selection Sunday itself). Thus a game played on or before Selection Sunday will show up here whether it was a pre-season tournament, a non-conference game, a regular conference game, a conference tournament game, or whatever.\n",
    "\n",
    "* **Season** - this is the year of the associated entry in MSeasons.csv or WSeasons.csv, namely the year in which the final tournament occurs. For example, during the 2016 season, there were regular season games played between November 2015 and March 2016, and all of those games will show up with a Season of 2016.\n",
    "* **DayNum** - this integer always ranges from 0 to 132, and tells you what day the game was played on. It represents an offset from the \"DayZero\" date in the \"MSeasons.csv\" or \"WSeasons.csv\" file. For example, the first game in the \"MRegularSeasonCompactResults.csv\" file was DayNum=20. Combined with the fact from the \"MSeasons.csv\" file that day zero was 10/29/1984 that year, this means the first game was played 20 days later, or 11/18/1984. There are no teams that ever played more than one game on a given date, so you can use this fact if you need a unique key (combining Season and DayNum and WTeamID). In order to accomplish this uniqueness, we had to adjust one game\"s date. In March 2008, the men\"s SEC postseason tournament had to reschedule one game (Georgia-Kentucky) to a subsequent day because of a tornado, so Georgia had to actually play two games on the same day. In order to enforce this uniqueness, we moved the game date for the Georgia-Kentucky game back to its original scheduled date.\n",
    "* **WTeamID** - this identifies the id number of the team that won the game, as listed in the \"MTeams.csv\" or \"WTeams.csv\" file. No matter whether the game was won by the home team or visiting team, or if it was a neutral-site game, the \"WTeamID\" always identifies the winning team. Please note that in this case the \"W\" in \"WTeamID does not refer to women\"s data; the \"W\" is for \"winning\". Both the men\"s data and women\"s data will identify the winning team id by this WTeamID column. The same note applies to WScore and WLoc below - these are \"W\" for \"winning\" and not for \"women\"s\".\n",
    "* **WScore** - this identifies the number of points scored by the winning team.\n",
    "* **LTeamID** - this identifies the id number of the team that lost the game.\n",
    "* **LScore** - this identifies the number of points scored by the losing team. Thus you can be confident that WScore will be greater than LScore for all games listed.\n",
    "* **WLoc** - this identifies the \"location\" of the winning team. If the winning team was the home team, this value will be \"H\". If the winning team was the visiting (or \"away\") team, this value will be \"A\". If it was played on a neutral court, then this value will be \"N\". Sometimes it is unclear whether the site should be considered neutral, since it is near one team\"s home court, or even on their court during a tournament, but for this determination we have simply used the Kenneth Massey data in its current state, where the \"@\" sign is either listed with the winning team, the losing team, or neither team. If you would like to investigate this factor more closely, we invite you to explore Data Section 3, which provides the city that each game was played in, irrespective of whether it was considered to be a neutral site.\n",
    "* **NumOT** - this indicates the number of overtime periods in the game, an integer 0 or higher."
   ]
  },
  {
   "cell_type": "markdown",
   "id": "21db02dd",
   "metadata": {
    "papermill": {
     "duration": 0.012128,
     "end_time": "2023-02-28T23:21:31.970758",
     "exception": false,
     "start_time": "2023-02-28T23:21:31.958630",
     "status": "completed"
    },
    "tags": []
   },
   "source": [
    "Concat men\"s and women\"s dataframes:"
   ]
  },
  {
   "cell_type": "code",
   "execution_count": 6,
   "id": "7507417b",
   "metadata": {
    "execution": {
     "iopub.execute_input": "2023-02-28T23:21:31.997864Z",
     "iopub.status.busy": "2023-02-28T23:21:31.996863Z",
     "iopub.status.idle": "2023-02-28T23:21:32.334928Z",
     "shell.execute_reply": "2023-02-28T23:21:32.333721Z"
    },
    "papermill": {
     "duration": 0.354182,
     "end_time": "2023-02-28T23:21:32.337298",
     "exception": false,
     "start_time": "2023-02-28T23:21:31.983116",
     "status": "completed"
    },
    "tags": []
   },
   "outputs": [
    {
     "data": {
      "text/html": [
       "<div>\n",
       "<style scoped>\n",
       "    .dataframe tbody tr th:only-of-type {\n",
       "        vertical-align: middle;\n",
       "    }\n",
       "\n",
       "    .dataframe tbody tr th {\n",
       "        vertical-align: top;\n",
       "    }\n",
       "\n",
       "    .dataframe thead th {\n",
       "        text-align: right;\n",
       "    }\n",
       "</style>\n",
       "<table border=\"1\" class=\"dataframe\">\n",
       "  <thead>\n",
       "    <tr style=\"text-align: right;\">\n",
       "      <th></th>\n",
       "      <th>Season</th>\n",
       "      <th>DayNum</th>\n",
       "      <th>WTeamID</th>\n",
       "      <th>WScore</th>\n",
       "      <th>LTeamID</th>\n",
       "      <th>LScore</th>\n",
       "      <th>WLoc</th>\n",
       "      <th>NumOT</th>\n",
       "    </tr>\n",
       "  </thead>\n",
       "  <tbody>\n",
       "    <tr>\n",
       "      <th>0</th>\n",
       "      <td>1985</td>\n",
       "      <td>20</td>\n",
       "      <td>1228</td>\n",
       "      <td>81</td>\n",
       "      <td>1328</td>\n",
       "      <td>64</td>\n",
       "      <td>N</td>\n",
       "      <td>0</td>\n",
       "    </tr>\n",
       "    <tr>\n",
       "      <th>1</th>\n",
       "      <td>1985</td>\n",
       "      <td>25</td>\n",
       "      <td>1106</td>\n",
       "      <td>77</td>\n",
       "      <td>1354</td>\n",
       "      <td>70</td>\n",
       "      <td>H</td>\n",
       "      <td>0</td>\n",
       "    </tr>\n",
       "    <tr>\n",
       "      <th>2</th>\n",
       "      <td>1985</td>\n",
       "      <td>25</td>\n",
       "      <td>1112</td>\n",
       "      <td>63</td>\n",
       "      <td>1223</td>\n",
       "      <td>56</td>\n",
       "      <td>H</td>\n",
       "      <td>0</td>\n",
       "    </tr>\n",
       "    <tr>\n",
       "      <th>3</th>\n",
       "      <td>1985</td>\n",
       "      <td>25</td>\n",
       "      <td>1165</td>\n",
       "      <td>70</td>\n",
       "      <td>1432</td>\n",
       "      <td>54</td>\n",
       "      <td>H</td>\n",
       "      <td>0</td>\n",
       "    </tr>\n",
       "    <tr>\n",
       "      <th>4</th>\n",
       "      <td>1985</td>\n",
       "      <td>25</td>\n",
       "      <td>1192</td>\n",
       "      <td>86</td>\n",
       "      <td>1447</td>\n",
       "      <td>74</td>\n",
       "      <td>H</td>\n",
       "      <td>0</td>\n",
       "    </tr>\n",
       "  </tbody>\n",
       "</table>\n",
       "</div>"
      ],
      "text/plain": [
       "   Season  DayNum  WTeamID  WScore  LTeamID  LScore WLoc  NumOT\n",
       "0    1985      20     1228      81     1328      64    N      0\n",
       "1    1985      25     1106      77     1354      70    H      0\n",
       "2    1985      25     1112      63     1223      56    H      0\n",
       "3    1985      25     1165      70     1432      54    H      0\n",
       "4    1985      25     1192      86     1447      74    H      0"
      ]
     },
     "execution_count": 6,
     "metadata": {},
     "output_type": "execute_result"
    }
   ],
   "source": [
    "dfs = [\"MRegularSeasonCompactResults.csv\", \"WRegularSeasonCompactResults.csv\"]\n",
    "\n",
    "df_regular_season_results = concat_dfs(dfs)\n",
    "\n",
    "df_regular_season_results.head()"
   ]
  },
  {
   "cell_type": "markdown",
   "id": "a18fdfbf",
   "metadata": {
    "papermill": {
     "duration": 0.012711,
     "end_time": "2023-02-28T23:21:32.363462",
     "exception": false,
     "start_time": "2023-02-28T23:21:32.350751",
     "status": "completed"
    },
    "tags": []
   },
   "source": [
    "```NumOT``` & ```WLoc``` doesn\"t seem important for predicting outcomes of games given we are not predicting with knowledge of the home court advantage. Drop them:"
   ]
  },
  {
   "cell_type": "code",
   "execution_count": 7,
   "id": "de520fdc",
   "metadata": {
    "execution": {
     "iopub.execute_input": "2023-02-28T23:21:32.390343Z",
     "iopub.status.busy": "2023-02-28T23:21:32.389901Z",
     "iopub.status.idle": "2023-02-28T23:21:32.426440Z",
     "shell.execute_reply": "2023-02-28T23:21:32.425221Z"
    },
    "papermill": {
     "duration": 0.053001,
     "end_time": "2023-02-28T23:21:32.428900",
     "exception": false,
     "start_time": "2023-02-28T23:21:32.375899",
     "status": "completed"
    },
    "tags": []
   },
   "outputs": [
    {
     "data": {
      "text/html": [
       "<div>\n",
       "<style scoped>\n",
       "    .dataframe tbody tr th:only-of-type {\n",
       "        vertical-align: middle;\n",
       "    }\n",
       "\n",
       "    .dataframe tbody tr th {\n",
       "        vertical-align: top;\n",
       "    }\n",
       "\n",
       "    .dataframe thead th {\n",
       "        text-align: right;\n",
       "    }\n",
       "</style>\n",
       "<table border=\"1\" class=\"dataframe\">\n",
       "  <thead>\n",
       "    <tr style=\"text-align: right;\">\n",
       "      <th></th>\n",
       "      <th>Season</th>\n",
       "      <th>DayNum</th>\n",
       "      <th>WTeamID</th>\n",
       "      <th>WScore</th>\n",
       "      <th>LTeamID</th>\n",
       "      <th>LScore</th>\n",
       "    </tr>\n",
       "  </thead>\n",
       "  <tbody>\n",
       "    <tr>\n",
       "      <th>0</th>\n",
       "      <td>1985</td>\n",
       "      <td>20</td>\n",
       "      <td>1228</td>\n",
       "      <td>81</td>\n",
       "      <td>1328</td>\n",
       "      <td>64</td>\n",
       "    </tr>\n",
       "    <tr>\n",
       "      <th>1</th>\n",
       "      <td>1985</td>\n",
       "      <td>25</td>\n",
       "      <td>1106</td>\n",
       "      <td>77</td>\n",
       "      <td>1354</td>\n",
       "      <td>70</td>\n",
       "    </tr>\n",
       "    <tr>\n",
       "      <th>2</th>\n",
       "      <td>1985</td>\n",
       "      <td>25</td>\n",
       "      <td>1112</td>\n",
       "      <td>63</td>\n",
       "      <td>1223</td>\n",
       "      <td>56</td>\n",
       "    </tr>\n",
       "    <tr>\n",
       "      <th>3</th>\n",
       "      <td>1985</td>\n",
       "      <td>25</td>\n",
       "      <td>1165</td>\n",
       "      <td>70</td>\n",
       "      <td>1432</td>\n",
       "      <td>54</td>\n",
       "    </tr>\n",
       "    <tr>\n",
       "      <th>4</th>\n",
       "      <td>1985</td>\n",
       "      <td>25</td>\n",
       "      <td>1192</td>\n",
       "      <td>86</td>\n",
       "      <td>1447</td>\n",
       "      <td>74</td>\n",
       "    </tr>\n",
       "  </tbody>\n",
       "</table>\n",
       "</div>"
      ],
      "text/plain": [
       "   Season  DayNum  WTeamID  WScore  LTeamID  LScore\n",
       "0    1985      20     1228      81     1328      64\n",
       "1    1985      25     1106      77     1354      70\n",
       "2    1985      25     1112      63     1223      56\n",
       "3    1985      25     1165      70     1432      54\n",
       "4    1985      25     1192      86     1447      74"
      ]
     },
     "execution_count": 7,
     "metadata": {},
     "output_type": "execute_result"
    }
   ],
   "source": [
    "df_regular_season_results = df_regular_season_results.drop(columns=[\"NumOT\", \"WLoc\"])\n",
    "\n",
    "df_regular_season_results.head()"
   ]
  },
  {
   "cell_type": "markdown",
   "id": "c57cc578",
   "metadata": {
    "papermill": {
     "duration": 0.013013,
     "end_time": "2023-02-28T23:21:32.454675",
     "exception": false,
     "start_time": "2023-02-28T23:21:32.441662",
     "status": "completed"
    },
    "tags": []
   },
   "source": [
    "#### Create additional features"
   ]
  },
  {
   "cell_type": "markdown",
   "id": "847e551d",
   "metadata": {
    "papermill": {
     "duration": 0.012725,
     "end_time": "2023-02-28T23:21:32.481105",
     "exception": false,
     "start_time": "2023-02-28T23:21:32.468380",
     "status": "completed"
    },
    "tags": []
   },
   "source": [
    "**Point differential (winning team\"s score - losing team\"s score)** is an important metric that measures the strength of the winning team; strong teams not only win, but win big. Create a new point differential feature on the ```df_regular_season_results``` dataframe:"
   ]
  },
  {
   "cell_type": "code",
   "execution_count": 8,
   "id": "4b6aab81",
   "metadata": {
    "execution": {
     "iopub.execute_input": "2023-02-28T23:21:32.509741Z",
     "iopub.status.busy": "2023-02-28T23:21:32.508689Z",
     "iopub.status.idle": "2023-02-28T23:21:32.524810Z",
     "shell.execute_reply": "2023-02-28T23:21:32.523579Z"
    },
    "papermill": {
     "duration": 0.032746,
     "end_time": "2023-02-28T23:21:32.527107",
     "exception": false,
     "start_time": "2023-02-28T23:21:32.494361",
     "status": "completed"
    },
    "tags": []
   },
   "outputs": [
    {
     "data": {
      "text/html": [
       "<div>\n",
       "<style scoped>\n",
       "    .dataframe tbody tr th:only-of-type {\n",
       "        vertical-align: middle;\n",
       "    }\n",
       "\n",
       "    .dataframe tbody tr th {\n",
       "        vertical-align: top;\n",
       "    }\n",
       "\n",
       "    .dataframe thead th {\n",
       "        text-align: right;\n",
       "    }\n",
       "</style>\n",
       "<table border=\"1\" class=\"dataframe\">\n",
       "  <thead>\n",
       "    <tr style=\"text-align: right;\">\n",
       "      <th></th>\n",
       "      <th>Season</th>\n",
       "      <th>DayNum</th>\n",
       "      <th>WTeamID</th>\n",
       "      <th>WScore</th>\n",
       "      <th>LTeamID</th>\n",
       "      <th>LScore</th>\n",
       "      <th>PointDiff</th>\n",
       "    </tr>\n",
       "  </thead>\n",
       "  <tbody>\n",
       "    <tr>\n",
       "      <th>0</th>\n",
       "      <td>1985</td>\n",
       "      <td>20</td>\n",
       "      <td>1228</td>\n",
       "      <td>81</td>\n",
       "      <td>1328</td>\n",
       "      <td>64</td>\n",
       "      <td>17</td>\n",
       "    </tr>\n",
       "    <tr>\n",
       "      <th>1</th>\n",
       "      <td>1985</td>\n",
       "      <td>25</td>\n",
       "      <td>1106</td>\n",
       "      <td>77</td>\n",
       "      <td>1354</td>\n",
       "      <td>70</td>\n",
       "      <td>7</td>\n",
       "    </tr>\n",
       "    <tr>\n",
       "      <th>2</th>\n",
       "      <td>1985</td>\n",
       "      <td>25</td>\n",
       "      <td>1112</td>\n",
       "      <td>63</td>\n",
       "      <td>1223</td>\n",
       "      <td>56</td>\n",
       "      <td>7</td>\n",
       "    </tr>\n",
       "    <tr>\n",
       "      <th>3</th>\n",
       "      <td>1985</td>\n",
       "      <td>25</td>\n",
       "      <td>1165</td>\n",
       "      <td>70</td>\n",
       "      <td>1432</td>\n",
       "      <td>54</td>\n",
       "      <td>16</td>\n",
       "    </tr>\n",
       "    <tr>\n",
       "      <th>4</th>\n",
       "      <td>1985</td>\n",
       "      <td>25</td>\n",
       "      <td>1192</td>\n",
       "      <td>86</td>\n",
       "      <td>1447</td>\n",
       "      <td>74</td>\n",
       "      <td>12</td>\n",
       "    </tr>\n",
       "  </tbody>\n",
       "</table>\n",
       "</div>"
      ],
      "text/plain": [
       "   Season  DayNum  WTeamID  WScore  LTeamID  LScore  PointDiff\n",
       "0    1985      20     1228      81     1328      64         17\n",
       "1    1985      25     1106      77     1354      70          7\n",
       "2    1985      25     1112      63     1223      56          7\n",
       "3    1985      25     1165      70     1432      54         16\n",
       "4    1985      25     1192      86     1447      74         12"
      ]
     },
     "execution_count": 8,
     "metadata": {},
     "output_type": "execute_result"
    }
   ],
   "source": [
    "df_regular_season_results[\"PointDiff\"] = df_regular_season_results[\"WScore\"] - df_regular_season_results[\"LScore\"]\n",
    "\n",
    "df_regular_season_results.head()"
   ]
  },
  {
   "cell_type": "markdown",
   "id": "45e69c39",
   "metadata": {
    "papermill": {
     "duration": 0.012688,
     "end_time": "2023-02-28T23:21:32.553068",
     "exception": false,
     "start_time": "2023-02-28T23:21:32.540380",
     "status": "completed"
    },
    "tags": []
   },
   "source": [
    "Check for missing values:"
   ]
  },
  {
   "cell_type": "code",
   "execution_count": 9,
   "id": "d41eb987",
   "metadata": {
    "execution": {
     "iopub.execute_input": "2023-02-28T23:21:32.581439Z",
     "iopub.status.busy": "2023-02-28T23:21:32.580373Z",
     "iopub.status.idle": "2023-02-28T23:21:32.593045Z",
     "shell.execute_reply": "2023-02-28T23:21:32.591897Z"
    },
    "papermill": {
     "duration": 0.029329,
     "end_time": "2023-02-28T23:21:32.595326",
     "exception": false,
     "start_time": "2023-02-28T23:21:32.565997",
     "status": "completed"
    },
    "tags": []
   },
   "outputs": [
    {
     "data": {
      "text/plain": [
       "Season       0\n",
       "DayNum       0\n",
       "WTeamID      0\n",
       "WScore       0\n",
       "LTeamID      0\n",
       "LScore       0\n",
       "PointDiff    0\n",
       "dtype: int64"
      ]
     },
     "execution_count": 9,
     "metadata": {},
     "output_type": "execute_result"
    }
   ],
   "source": [
    "df_regular_season_results.isnull().sum()"
   ]
  },
  {
   "cell_type": "markdown",
   "id": "ba56867f",
   "metadata": {
    "papermill": {
     "duration": 0.012787,
     "end_time": "2023-02-28T23:21:32.621260",
     "exception": false,
     "start_time": "2023-02-28T23:21:32.608473",
     "status": "completed"
    },
    "tags": []
   },
   "source": [
    "Check for duplicated values:"
   ]
  },
  {
   "cell_type": "code",
   "execution_count": 10,
   "id": "f69433fa",
   "metadata": {
    "execution": {
     "iopub.execute_input": "2023-02-28T23:21:32.649813Z",
     "iopub.status.busy": "2023-02-28T23:21:32.649041Z",
     "iopub.status.idle": "2023-02-28T23:21:32.705671Z",
     "shell.execute_reply": "2023-02-28T23:21:32.704529Z"
    },
    "papermill": {
     "duration": 0.073692,
     "end_time": "2023-02-28T23:21:32.708145",
     "exception": false,
     "start_time": "2023-02-28T23:21:32.634453",
     "status": "completed"
    },
    "tags": []
   },
   "outputs": [
    {
     "data": {
      "text/plain": [
       "0"
      ]
     },
     "execution_count": 10,
     "metadata": {},
     "output_type": "execute_result"
    }
   ],
   "source": [
    "df_regular_season_results.duplicated().sum()"
   ]
  },
  {
   "cell_type": "markdown",
   "id": "aa34a63a",
   "metadata": {
    "papermill": {
     "duration": 0.013321,
     "end_time": "2023-02-28T23:21:32.735127",
     "exception": false,
     "start_time": "2023-02-28T23:21:32.721806",
     "status": "completed"
    },
    "tags": []
   },
   "source": [
    "**Total number of wins per season for each team:**"
   ]
  },
  {
   "cell_type": "code",
   "execution_count": 11,
   "id": "c7e5fbe2",
   "metadata": {
    "execution": {
     "iopub.execute_input": "2023-02-28T23:21:32.764646Z",
     "iopub.status.busy": "2023-02-28T23:21:32.764158Z",
     "iopub.status.idle": "2023-02-28T23:21:32.841502Z",
     "shell.execute_reply": "2023-02-28T23:21:32.839918Z"
    },
    "papermill": {
     "duration": 0.0985,
     "end_time": "2023-02-28T23:21:32.847267",
     "exception": false,
     "start_time": "2023-02-28T23:21:32.748767",
     "status": "completed"
    },
    "tags": []
   },
   "outputs": [
    {
     "data": {
      "text/html": [
       "<div>\n",
       "<style scoped>\n",
       "    .dataframe tbody tr th:only-of-type {\n",
       "        vertical-align: middle;\n",
       "    }\n",
       "\n",
       "    .dataframe tbody tr th {\n",
       "        vertical-align: top;\n",
       "    }\n",
       "\n",
       "    .dataframe thead th {\n",
       "        text-align: right;\n",
       "    }\n",
       "</style>\n",
       "<table border=\"1\" class=\"dataframe\">\n",
       "  <thead>\n",
       "    <tr style=\"text-align: right;\">\n",
       "      <th></th>\n",
       "      <th>Season</th>\n",
       "      <th>TeamID</th>\n",
       "      <th>TotalWins</th>\n",
       "    </tr>\n",
       "  </thead>\n",
       "  <tbody>\n",
       "    <tr>\n",
       "      <th>0</th>\n",
       "      <td>1985</td>\n",
       "      <td>1102</td>\n",
       "      <td>5</td>\n",
       "    </tr>\n",
       "    <tr>\n",
       "      <th>1</th>\n",
       "      <td>1985</td>\n",
       "      <td>1103</td>\n",
       "      <td>9</td>\n",
       "    </tr>\n",
       "    <tr>\n",
       "      <th>2</th>\n",
       "      <td>1985</td>\n",
       "      <td>1104</td>\n",
       "      <td>21</td>\n",
       "    </tr>\n",
       "    <tr>\n",
       "      <th>3</th>\n",
       "      <td>1985</td>\n",
       "      <td>1106</td>\n",
       "      <td>10</td>\n",
       "    </tr>\n",
       "    <tr>\n",
       "      <th>4</th>\n",
       "      <td>1985</td>\n",
       "      <td>1108</td>\n",
       "      <td>19</td>\n",
       "    </tr>\n",
       "  </tbody>\n",
       "</table>\n",
       "</div>"
      ],
      "text/plain": [
       "   Season  TeamID  TotalWins\n",
       "0    1985    1102          5\n",
       "1    1985    1103          9\n",
       "2    1985    1104         21\n",
       "3    1985    1106         10\n",
       "4    1985    1108         19"
      ]
     },
     "execution_count": 11,
     "metadata": {},
     "output_type": "execute_result"
    }
   ],
   "source": [
    "total_wins = df_regular_season_results.groupby([\"Season\", \"WTeamID\"]).count()\n",
    "total_wins = total_wins.reset_index()[[\"Season\", \"WTeamID\", \"DayNum\"]].rename(columns={\"DayNum\": \"TotalWins\", \"WTeamID\": \"TeamID\"})\n",
    "\n",
    "total_wins.head()"
   ]
  },
  {
   "cell_type": "markdown",
   "id": "91068f59",
   "metadata": {
    "papermill": {
     "duration": 0.020706,
     "end_time": "2023-02-28T23:21:32.888439",
     "exception": false,
     "start_time": "2023-02-28T23:21:32.867733",
     "status": "completed"
    },
    "tags": []
   },
   "source": [
    "**Total number of losses per season for each team:**"
   ]
  },
  {
   "cell_type": "code",
   "execution_count": 12,
   "id": "2f3f71a0",
   "metadata": {
    "execution": {
     "iopub.execute_input": "2023-02-28T23:21:32.918643Z",
     "iopub.status.busy": "2023-02-28T23:21:32.917397Z",
     "iopub.status.idle": "2023-02-28T23:21:32.959859Z",
     "shell.execute_reply": "2023-02-28T23:21:32.958957Z"
    },
    "papermill": {
     "duration": 0.059953,
     "end_time": "2023-02-28T23:21:32.962303",
     "exception": false,
     "start_time": "2023-02-28T23:21:32.902350",
     "status": "completed"
    },
    "tags": []
   },
   "outputs": [
    {
     "data": {
      "text/html": [
       "<div>\n",
       "<style scoped>\n",
       "    .dataframe tbody tr th:only-of-type {\n",
       "        vertical-align: middle;\n",
       "    }\n",
       "\n",
       "    .dataframe tbody tr th {\n",
       "        vertical-align: top;\n",
       "    }\n",
       "\n",
       "    .dataframe thead th {\n",
       "        text-align: right;\n",
       "    }\n",
       "</style>\n",
       "<table border=\"1\" class=\"dataframe\">\n",
       "  <thead>\n",
       "    <tr style=\"text-align: right;\">\n",
       "      <th></th>\n",
       "      <th>Season</th>\n",
       "      <th>TeamID</th>\n",
       "      <th>TotalLosses</th>\n",
       "    </tr>\n",
       "  </thead>\n",
       "  <tbody>\n",
       "    <tr>\n",
       "      <th>0</th>\n",
       "      <td>1985</td>\n",
       "      <td>1102</td>\n",
       "      <td>19</td>\n",
       "    </tr>\n",
       "    <tr>\n",
       "      <th>1</th>\n",
       "      <td>1985</td>\n",
       "      <td>1103</td>\n",
       "      <td>14</td>\n",
       "    </tr>\n",
       "    <tr>\n",
       "      <th>2</th>\n",
       "      <td>1985</td>\n",
       "      <td>1104</td>\n",
       "      <td>9</td>\n",
       "    </tr>\n",
       "    <tr>\n",
       "      <th>3</th>\n",
       "      <td>1985</td>\n",
       "      <td>1106</td>\n",
       "      <td>14</td>\n",
       "    </tr>\n",
       "    <tr>\n",
       "      <th>4</th>\n",
       "      <td>1985</td>\n",
       "      <td>1108</td>\n",
       "      <td>6</td>\n",
       "    </tr>\n",
       "  </tbody>\n",
       "</table>\n",
       "</div>"
      ],
      "text/plain": [
       "   Season  TeamID  TotalLosses\n",
       "0    1985    1102           19\n",
       "1    1985    1103           14\n",
       "2    1985    1104            9\n",
       "3    1985    1106           14\n",
       "4    1985    1108            6"
      ]
     },
     "execution_count": 12,
     "metadata": {},
     "output_type": "execute_result"
    }
   ],
   "source": [
    "total_losses = df_regular_season_results.groupby([\"Season\", \"LTeamID\"]).count()\n",
    "total_losses = total_losses.reset_index()[[\"Season\", \"LTeamID\", \"DayNum\"]].rename(columns={\"DayNum\": \"TotalLosses\", \"LTeamID\": \"TeamID\"})\n",
    "\n",
    "total_losses.head()"
   ]
  },
  {
   "cell_type": "markdown",
   "id": "d20c71cd",
   "metadata": {
    "papermill": {
     "duration": 0.013652,
     "end_time": "2023-02-28T23:21:32.990184",
     "exception": false,
     "start_time": "2023-02-28T23:21:32.976532",
     "status": "completed"
    },
    "tags": []
   },
   "source": [
    "**Median Win Point Differential:**"
   ]
  },
  {
   "cell_type": "code",
   "execution_count": 13,
   "id": "3852ea65",
   "metadata": {
    "execution": {
     "iopub.execute_input": "2023-02-28T23:21:33.019985Z",
     "iopub.status.busy": "2023-02-28T23:21:33.019185Z",
     "iopub.status.idle": "2023-02-28T23:21:33.104921Z",
     "shell.execute_reply": "2023-02-28T23:21:33.103653Z"
    },
    "papermill": {
     "duration": 0.103511,
     "end_time": "2023-02-28T23:21:33.107458",
     "exception": false,
     "start_time": "2023-02-28T23:21:33.003947",
     "status": "completed"
    },
    "tags": []
   },
   "outputs": [
    {
     "data": {
      "text/html": [
       "<div>\n",
       "<style scoped>\n",
       "    .dataframe tbody tr th:only-of-type {\n",
       "        vertical-align: middle;\n",
       "    }\n",
       "\n",
       "    .dataframe tbody tr th {\n",
       "        vertical-align: top;\n",
       "    }\n",
       "\n",
       "    .dataframe thead th {\n",
       "        text-align: right;\n",
       "    }\n",
       "</style>\n",
       "<table border=\"1\" class=\"dataframe\">\n",
       "  <thead>\n",
       "    <tr style=\"text-align: right;\">\n",
       "      <th></th>\n",
       "      <th>Season</th>\n",
       "      <th>TeamID</th>\n",
       "      <th>WinPointDiff</th>\n",
       "    </tr>\n",
       "  </thead>\n",
       "  <tbody>\n",
       "    <tr>\n",
       "      <th>0</th>\n",
       "      <td>1985</td>\n",
       "      <td>1102</td>\n",
       "      <td>4.0</td>\n",
       "    </tr>\n",
       "    <tr>\n",
       "      <th>1</th>\n",
       "      <td>1985</td>\n",
       "      <td>1103</td>\n",
       "      <td>7.0</td>\n",
       "    </tr>\n",
       "    <tr>\n",
       "      <th>2</th>\n",
       "      <td>1985</td>\n",
       "      <td>1104</td>\n",
       "      <td>13.0</td>\n",
       "    </tr>\n",
       "    <tr>\n",
       "      <th>3</th>\n",
       "      <td>1985</td>\n",
       "      <td>1106</td>\n",
       "      <td>5.5</td>\n",
       "    </tr>\n",
       "    <tr>\n",
       "      <th>4</th>\n",
       "      <td>1985</td>\n",
       "      <td>1108</td>\n",
       "      <td>14.0</td>\n",
       "    </tr>\n",
       "  </tbody>\n",
       "</table>\n",
       "</div>"
      ],
      "text/plain": [
       "   Season  TeamID  WinPointDiff\n",
       "0    1985    1102           4.0\n",
       "1    1985    1103           7.0\n",
       "2    1985    1104          13.0\n",
       "3    1985    1106           5.5\n",
       "4    1985    1108          14.0"
      ]
     },
     "execution_count": 13,
     "metadata": {},
     "output_type": "execute_result"
    }
   ],
   "source": [
    "median_win_point_diff = df_regular_season_results.groupby([\"Season\", \"WTeamID\"]).median() # median instead of mean to better filter outliers\n",
    "median_win_point_diff = median_win_point_diff.reset_index()[[\"Season\", \"WTeamID\", \"PointDiff\"]].rename(columns={\"WTeamID\" : \"TeamID\", \"PointDiff\" : \"WinPointDiff\"})\n",
    "\n",
    "median_win_point_diff.head()"
   ]
  },
  {
   "cell_type": "markdown",
   "id": "c1f8d8f4",
   "metadata": {
    "papermill": {
     "duration": 0.013533,
     "end_time": "2023-02-28T23:21:33.134927",
     "exception": false,
     "start_time": "2023-02-28T23:21:33.121394",
     "status": "completed"
    },
    "tags": []
   },
   "source": [
    "**Median Loss Point Differential:**"
   ]
  },
  {
   "cell_type": "code",
   "execution_count": 14,
   "id": "207dd6d7",
   "metadata": {
    "execution": {
     "iopub.execute_input": "2023-02-28T23:21:33.164687Z",
     "iopub.status.busy": "2023-02-28T23:21:33.164249Z",
     "iopub.status.idle": "2023-02-28T23:21:33.255686Z",
     "shell.execute_reply": "2023-02-28T23:21:33.254437Z"
    },
    "papermill": {
     "duration": 0.109403,
     "end_time": "2023-02-28T23:21:33.258310",
     "exception": false,
     "start_time": "2023-02-28T23:21:33.148907",
     "status": "completed"
    },
    "tags": []
   },
   "outputs": [
    {
     "data": {
      "text/html": [
       "<div>\n",
       "<style scoped>\n",
       "    .dataframe tbody tr th:only-of-type {\n",
       "        vertical-align: middle;\n",
       "    }\n",
       "\n",
       "    .dataframe tbody tr th {\n",
       "        vertical-align: top;\n",
       "    }\n",
       "\n",
       "    .dataframe thead th {\n",
       "        text-align: right;\n",
       "    }\n",
       "</style>\n",
       "<table border=\"1\" class=\"dataframe\">\n",
       "  <thead>\n",
       "    <tr style=\"text-align: right;\">\n",
       "      <th></th>\n",
       "      <th>Season</th>\n",
       "      <th>TeamID</th>\n",
       "      <th>LossPointDiff</th>\n",
       "    </tr>\n",
       "  </thead>\n",
       "  <tbody>\n",
       "    <tr>\n",
       "      <th>0</th>\n",
       "      <td>1985</td>\n",
       "      <td>1102</td>\n",
       "      <td>9.0</td>\n",
       "    </tr>\n",
       "    <tr>\n",
       "      <th>1</th>\n",
       "      <td>1985</td>\n",
       "      <td>1103</td>\n",
       "      <td>9.5</td>\n",
       "    </tr>\n",
       "    <tr>\n",
       "      <th>2</th>\n",
       "      <td>1985</td>\n",
       "      <td>1104</td>\n",
       "      <td>4.0</td>\n",
       "    </tr>\n",
       "    <tr>\n",
       "      <th>3</th>\n",
       "      <td>1985</td>\n",
       "      <td>1106</td>\n",
       "      <td>10.5</td>\n",
       "    </tr>\n",
       "    <tr>\n",
       "      <th>4</th>\n",
       "      <td>1985</td>\n",
       "      <td>1108</td>\n",
       "      <td>12.5</td>\n",
       "    </tr>\n",
       "  </tbody>\n",
       "</table>\n",
       "</div>"
      ],
      "text/plain": [
       "   Season  TeamID  LossPointDiff\n",
       "0    1985    1102            9.0\n",
       "1    1985    1103            9.5\n",
       "2    1985    1104            4.0\n",
       "3    1985    1106           10.5\n",
       "4    1985    1108           12.5"
      ]
     },
     "execution_count": 14,
     "metadata": {},
     "output_type": "execute_result"
    }
   ],
   "source": [
    "median_loss_point_diff = df_regular_season_results.groupby([\"Season\", \"LTeamID\"]).median() # median instead of mean to better filter outliers\n",
    "median_loss_point_diff = median_loss_point_diff.reset_index()[[\"Season\", \"LTeamID\", \"PointDiff\"]].rename(columns={\"LTeamID\" : \"TeamID\", \"PointDiff\" : \"LossPointDiff\"})\n",
    "\n",
    "median_loss_point_diff.head()"
   ]
  },
  {
   "cell_type": "markdown",
   "id": "6a3807e4",
   "metadata": {
    "papermill": {
     "duration": 0.013675,
     "end_time": "2023-02-28T23:21:33.286108",
     "exception": false,
     "start_time": "2023-02-28T23:21:33.272433",
     "status": "completed"
    },
    "tags": []
   },
   "source": [
    "Merge new features into one dataframe:"
   ]
  },
  {
   "cell_type": "code",
   "execution_count": 15,
   "id": "3434bf9d",
   "metadata": {
    "execution": {
     "iopub.execute_input": "2023-02-28T23:21:33.316334Z",
     "iopub.status.busy": "2023-02-28T23:21:33.315509Z",
     "iopub.status.idle": "2023-02-28T23:21:33.441596Z",
     "shell.execute_reply": "2023-02-28T23:21:33.440320Z"
    },
    "papermill": {
     "duration": 0.144115,
     "end_time": "2023-02-28T23:21:33.444149",
     "exception": false,
     "start_time": "2023-02-28T23:21:33.300034",
     "status": "completed"
    },
    "tags": []
   },
   "outputs": [
    {
     "data": {
      "text/html": [
       "<div>\n",
       "<style scoped>\n",
       "    .dataframe tbody tr th:only-of-type {\n",
       "        vertical-align: middle;\n",
       "    }\n",
       "\n",
       "    .dataframe tbody tr th {\n",
       "        vertical-align: top;\n",
       "    }\n",
       "\n",
       "    .dataframe thead th {\n",
       "        text-align: right;\n",
       "    }\n",
       "</style>\n",
       "<table border=\"1\" class=\"dataframe\">\n",
       "  <thead>\n",
       "    <tr style=\"text-align: right;\">\n",
       "      <th></th>\n",
       "      <th>Season</th>\n",
       "      <th>TeamID</th>\n",
       "      <th>LossPointDiff</th>\n",
       "      <th>WinPointDiff</th>\n",
       "      <th>TotalLosses</th>\n",
       "      <th>TotalWins</th>\n",
       "    </tr>\n",
       "  </thead>\n",
       "  <tbody>\n",
       "    <tr>\n",
       "      <th>0</th>\n",
       "      <td>1985</td>\n",
       "      <td>1102</td>\n",
       "      <td>9.0</td>\n",
       "      <td>4.0</td>\n",
       "      <td>19</td>\n",
       "      <td>5</td>\n",
       "    </tr>\n",
       "    <tr>\n",
       "      <th>1</th>\n",
       "      <td>1985</td>\n",
       "      <td>1103</td>\n",
       "      <td>9.5</td>\n",
       "      <td>7.0</td>\n",
       "      <td>14</td>\n",
       "      <td>9</td>\n",
       "    </tr>\n",
       "    <tr>\n",
       "      <th>2</th>\n",
       "      <td>1985</td>\n",
       "      <td>1104</td>\n",
       "      <td>4.0</td>\n",
       "      <td>13.0</td>\n",
       "      <td>9</td>\n",
       "      <td>21</td>\n",
       "    </tr>\n",
       "    <tr>\n",
       "      <th>3</th>\n",
       "      <td>1985</td>\n",
       "      <td>1106</td>\n",
       "      <td>10.5</td>\n",
       "      <td>5.5</td>\n",
       "      <td>14</td>\n",
       "      <td>10</td>\n",
       "    </tr>\n",
       "    <tr>\n",
       "      <th>4</th>\n",
       "      <td>1985</td>\n",
       "      <td>1108</td>\n",
       "      <td>12.5</td>\n",
       "      <td>14.0</td>\n",
       "      <td>6</td>\n",
       "      <td>19</td>\n",
       "    </tr>\n",
       "  </tbody>\n",
       "</table>\n",
       "</div>"
      ],
      "text/plain": [
       "   Season  TeamID  LossPointDiff  WinPointDiff  TotalLosses  TotalWins\n",
       "0    1985    1102            9.0           4.0           19          5\n",
       "1    1985    1103            9.5           7.0           14          9\n",
       "2    1985    1104            4.0          13.0            9         21\n",
       "3    1985    1106           10.5           5.5           14         10\n",
       "4    1985    1108           12.5          14.0            6         19"
      ]
     },
     "execution_count": 15,
     "metadata": {},
     "output_type": "execute_result"
    }
   ],
   "source": [
    "df_regular_season_w = df_regular_season_results.groupby([\"Season\", \"WTeamID\"]).count().reset_index()[[\"Season\", \"WTeamID\"]].rename(columns={\"WTeamID\": \"TeamID\"})\n",
    "df_regular_season_l = df_regular_season_results.groupby([\"Season\", \"LTeamID\"]).count().reset_index()[[\"Season\", \"LTeamID\"]].rename(columns={\"LTeamID\": \"TeamID\"})\n",
    "\n",
    "dfs = [df_regular_season_w, df_regular_season_l]\n",
    "\n",
    "df_regular_season_merged = concat_dfs(dfs).drop_duplicates().sort_values([\"Season\", \"TeamID\"]).reset_index(drop=True)\n",
    "\n",
    "dfs_to_merge = [median_loss_point_diff, median_win_point_diff, total_losses, total_wins]\n",
    "merge_on = [\"Season\", \"TeamID\"]\n",
    "\n",
    "for df_to_merge in dfs_to_merge:\n",
    "    df_regular_season_merged = df_regular_season_merged.merge(df_to_merge, on=merge_on)\n",
    "    \n",
    "df_regular_season_merged.head()"
   ]
  },
  {
   "cell_type": "markdown",
   "id": "3c8883d3",
   "metadata": {
    "papermill": {
     "duration": 0.014194,
     "end_time": "2023-02-28T23:21:33.472797",
     "exception": false,
     "start_time": "2023-02-28T23:21:33.458603",
     "status": "completed"
    },
    "tags": []
   },
   "source": [
    "#### Create additional summary features:"
   ]
  },
  {
   "cell_type": "markdown",
   "id": "ff24d43e",
   "metadata": {
    "papermill": {
     "duration": 0.013958,
     "end_time": "2023-02-28T23:21:33.501432",
     "exception": false,
     "start_time": "2023-02-28T23:21:33.487474",
     "status": "completed"
    },
    "tags": []
   },
   "source": [
    "**Win Rate (```TotalWins``` / Total oppurtunities for wins)**"
   ]
  },
  {
   "cell_type": "code",
   "execution_count": 16,
   "id": "98b34734",
   "metadata": {
    "execution": {
     "iopub.execute_input": "2023-02-28T23:21:33.531940Z",
     "iopub.status.busy": "2023-02-28T23:21:33.531567Z",
     "iopub.status.idle": "2023-02-28T23:21:33.547578Z",
     "shell.execute_reply": "2023-02-28T23:21:33.546388Z"
    },
    "papermill": {
     "duration": 0.034197,
     "end_time": "2023-02-28T23:21:33.549865",
     "exception": false,
     "start_time": "2023-02-28T23:21:33.515668",
     "status": "completed"
    },
    "tags": []
   },
   "outputs": [
    {
     "data": {
      "text/html": [
       "<div>\n",
       "<style scoped>\n",
       "    .dataframe tbody tr th:only-of-type {\n",
       "        vertical-align: middle;\n",
       "    }\n",
       "\n",
       "    .dataframe tbody tr th {\n",
       "        vertical-align: top;\n",
       "    }\n",
       "\n",
       "    .dataframe thead th {\n",
       "        text-align: right;\n",
       "    }\n",
       "</style>\n",
       "<table border=\"1\" class=\"dataframe\">\n",
       "  <thead>\n",
       "    <tr style=\"text-align: right;\">\n",
       "      <th></th>\n",
       "      <th>Season</th>\n",
       "      <th>TeamID</th>\n",
       "      <th>LossPointDiff</th>\n",
       "      <th>WinPointDiff</th>\n",
       "      <th>TotalLosses</th>\n",
       "      <th>TotalWins</th>\n",
       "      <th>WinRate</th>\n",
       "    </tr>\n",
       "  </thead>\n",
       "  <tbody>\n",
       "    <tr>\n",
       "      <th>0</th>\n",
       "      <td>1985</td>\n",
       "      <td>1102</td>\n",
       "      <td>9.0</td>\n",
       "      <td>4.0</td>\n",
       "      <td>19</td>\n",
       "      <td>5</td>\n",
       "      <td>0.208333</td>\n",
       "    </tr>\n",
       "    <tr>\n",
       "      <th>1</th>\n",
       "      <td>1985</td>\n",
       "      <td>1103</td>\n",
       "      <td>9.5</td>\n",
       "      <td>7.0</td>\n",
       "      <td>14</td>\n",
       "      <td>9</td>\n",
       "      <td>0.391304</td>\n",
       "    </tr>\n",
       "    <tr>\n",
       "      <th>2</th>\n",
       "      <td>1985</td>\n",
       "      <td>1104</td>\n",
       "      <td>4.0</td>\n",
       "      <td>13.0</td>\n",
       "      <td>9</td>\n",
       "      <td>21</td>\n",
       "      <td>0.700000</td>\n",
       "    </tr>\n",
       "    <tr>\n",
       "      <th>3</th>\n",
       "      <td>1985</td>\n",
       "      <td>1106</td>\n",
       "      <td>10.5</td>\n",
       "      <td>5.5</td>\n",
       "      <td>14</td>\n",
       "      <td>10</td>\n",
       "      <td>0.416667</td>\n",
       "    </tr>\n",
       "    <tr>\n",
       "      <th>4</th>\n",
       "      <td>1985</td>\n",
       "      <td>1108</td>\n",
       "      <td>12.5</td>\n",
       "      <td>14.0</td>\n",
       "      <td>6</td>\n",
       "      <td>19</td>\n",
       "      <td>0.760000</td>\n",
       "    </tr>\n",
       "  </tbody>\n",
       "</table>\n",
       "</div>"
      ],
      "text/plain": [
       "   Season  TeamID  LossPointDiff  WinPointDiff  TotalLosses  TotalWins  \\\n",
       "0    1985    1102            9.0           4.0           19          5   \n",
       "1    1985    1103            9.5           7.0           14          9   \n",
       "2    1985    1104            4.0          13.0            9         21   \n",
       "3    1985    1106           10.5           5.5           14         10   \n",
       "4    1985    1108           12.5          14.0            6         19   \n",
       "\n",
       "    WinRate  \n",
       "0  0.208333  \n",
       "1  0.391304  \n",
       "2  0.700000  \n",
       "3  0.416667  \n",
       "4  0.760000  "
      ]
     },
     "execution_count": 16,
     "metadata": {},
     "output_type": "execute_result"
    }
   ],
   "source": [
    "df_regular_season_merged[\"WinRate\"] = df_regular_season_merged[\"TotalWins\"] / ((df_regular_season_merged[\"TotalWins\"] + df_regular_season_merged[\"TotalLosses\"]))\n",
    "\n",
    "df_regular_season_merged.head()"
   ]
  },
  {
   "cell_type": "markdown",
   "id": "55747780",
   "metadata": {
    "papermill": {
     "duration": 0.014798,
     "end_time": "2023-02-28T23:21:33.579835",
     "exception": false,
     "start_time": "2023-02-28T23:21:33.565037",
     "status": "completed"
    },
    "tags": []
   },
   "source": [
    "Drop ```TotalWins``` & ```TotalLosses``` since ```WinRate``` captures both of these:"
   ]
  },
  {
   "cell_type": "code",
   "execution_count": 17,
   "id": "73804657",
   "metadata": {
    "execution": {
     "iopub.execute_input": "2023-02-28T23:21:33.611660Z",
     "iopub.status.busy": "2023-02-28T23:21:33.611206Z",
     "iopub.status.idle": "2023-02-28T23:21:33.626269Z",
     "shell.execute_reply": "2023-02-28T23:21:33.625417Z"
    },
    "papermill": {
     "duration": 0.033483,
     "end_time": "2023-02-28T23:21:33.628597",
     "exception": false,
     "start_time": "2023-02-28T23:21:33.595114",
     "status": "completed"
    },
    "tags": []
   },
   "outputs": [
    {
     "data": {
      "text/html": [
       "<div>\n",
       "<style scoped>\n",
       "    .dataframe tbody tr th:only-of-type {\n",
       "        vertical-align: middle;\n",
       "    }\n",
       "\n",
       "    .dataframe tbody tr th {\n",
       "        vertical-align: top;\n",
       "    }\n",
       "\n",
       "    .dataframe thead th {\n",
       "        text-align: right;\n",
       "    }\n",
       "</style>\n",
       "<table border=\"1\" class=\"dataframe\">\n",
       "  <thead>\n",
       "    <tr style=\"text-align: right;\">\n",
       "      <th></th>\n",
       "      <th>Season</th>\n",
       "      <th>TeamID</th>\n",
       "      <th>LossPointDiff</th>\n",
       "      <th>WinPointDiff</th>\n",
       "      <th>WinRate</th>\n",
       "    </tr>\n",
       "  </thead>\n",
       "  <tbody>\n",
       "    <tr>\n",
       "      <th>0</th>\n",
       "      <td>1985</td>\n",
       "      <td>1102</td>\n",
       "      <td>9.0</td>\n",
       "      <td>4.0</td>\n",
       "      <td>0.208333</td>\n",
       "    </tr>\n",
       "    <tr>\n",
       "      <th>1</th>\n",
       "      <td>1985</td>\n",
       "      <td>1103</td>\n",
       "      <td>9.5</td>\n",
       "      <td>7.0</td>\n",
       "      <td>0.391304</td>\n",
       "    </tr>\n",
       "    <tr>\n",
       "      <th>2</th>\n",
       "      <td>1985</td>\n",
       "      <td>1104</td>\n",
       "      <td>4.0</td>\n",
       "      <td>13.0</td>\n",
       "      <td>0.700000</td>\n",
       "    </tr>\n",
       "    <tr>\n",
       "      <th>3</th>\n",
       "      <td>1985</td>\n",
       "      <td>1106</td>\n",
       "      <td>10.5</td>\n",
       "      <td>5.5</td>\n",
       "      <td>0.416667</td>\n",
       "    </tr>\n",
       "    <tr>\n",
       "      <th>4</th>\n",
       "      <td>1985</td>\n",
       "      <td>1108</td>\n",
       "      <td>12.5</td>\n",
       "      <td>14.0</td>\n",
       "      <td>0.760000</td>\n",
       "    </tr>\n",
       "  </tbody>\n",
       "</table>\n",
       "</div>"
      ],
      "text/plain": [
       "   Season  TeamID  LossPointDiff  WinPointDiff   WinRate\n",
       "0    1985    1102            9.0           4.0  0.208333\n",
       "1    1985    1103            9.5           7.0  0.391304\n",
       "2    1985    1104            4.0          13.0  0.700000\n",
       "3    1985    1106           10.5           5.5  0.416667\n",
       "4    1985    1108           12.5          14.0  0.760000"
      ]
     },
     "execution_count": 17,
     "metadata": {},
     "output_type": "execute_result"
    }
   ],
   "source": [
    "df_regular_season_merged = df_regular_season_merged.drop(columns=[\"TotalWins\", \"TotalLosses\"])\n",
    "\n",
    "df_regular_season_merged.head()"
   ]
  },
  {
   "cell_type": "markdown",
   "id": "0aae2483",
   "metadata": {
    "papermill": {
     "duration": 0.014426,
     "end_time": "2023-02-28T23:21:33.657969",
     "exception": false,
     "start_time": "2023-02-28T23:21:33.643543",
     "status": "completed"
    },
    "tags": []
   },
   "source": [
    "Check for missing values:"
   ]
  },
  {
   "cell_type": "code",
   "execution_count": 18,
   "id": "8a619a74",
   "metadata": {
    "execution": {
     "iopub.execute_input": "2023-02-28T23:21:33.689821Z",
     "iopub.status.busy": "2023-02-28T23:21:33.689422Z",
     "iopub.status.idle": "2023-02-28T23:21:33.698089Z",
     "shell.execute_reply": "2023-02-28T23:21:33.697193Z"
    },
    "papermill": {
     "duration": 0.027442,
     "end_time": "2023-02-28T23:21:33.700281",
     "exception": false,
     "start_time": "2023-02-28T23:21:33.672839",
     "status": "completed"
    },
    "tags": []
   },
   "outputs": [
    {
     "data": {
      "text/plain": [
       "Season           0\n",
       "TeamID           0\n",
       "LossPointDiff    0\n",
       "WinPointDiff     0\n",
       "WinRate          0\n",
       "dtype: int64"
      ]
     },
     "execution_count": 18,
     "metadata": {},
     "output_type": "execute_result"
    }
   ],
   "source": [
    "df_regular_season_merged.isnull().sum()"
   ]
  },
  {
   "cell_type": "markdown",
   "id": "342cf5bb",
   "metadata": {
    "papermill": {
     "duration": 0.014998,
     "end_time": "2023-02-28T23:21:33.731136",
     "exception": false,
     "start_time": "2023-02-28T23:21:33.716138",
     "status": "completed"
    },
    "tags": []
   },
   "source": [
    "Check for duplicated values:"
   ]
  },
  {
   "cell_type": "code",
   "execution_count": 19,
   "id": "4e985c5e",
   "metadata": {
    "execution": {
     "iopub.execute_input": "2023-02-28T23:21:33.762916Z",
     "iopub.status.busy": "2023-02-28T23:21:33.762462Z",
     "iopub.status.idle": "2023-02-28T23:21:33.774440Z",
     "shell.execute_reply": "2023-02-28T23:21:33.773293Z"
    },
    "papermill": {
     "duration": 0.030661,
     "end_time": "2023-02-28T23:21:33.776825",
     "exception": false,
     "start_time": "2023-02-28T23:21:33.746164",
     "status": "completed"
    },
    "tags": []
   },
   "outputs": [
    {
     "data": {
      "text/plain": [
       "0"
      ]
     },
     "execution_count": 19,
     "metadata": {},
     "output_type": "execute_result"
    }
   ],
   "source": [
    "df_regular_season_merged.duplicated().sum()"
   ]
  },
  {
   "cell_type": "markdown",
   "id": "c30898f2",
   "metadata": {
    "papermill": {
     "duration": 0.014747,
     "end_time": "2023-02-28T23:21:33.807514",
     "exception": false,
     "start_time": "2023-02-28T23:21:33.792767",
     "status": "completed"
    },
    "tags": []
   },
   "source": [
    "#### MNCAATourneyCompactResults.csv and WNCAATourneyCompactResults.csv\n",
    "\n",
    "These files identify the game-by-game NCAA® tournament results for all seasons of historical data. The data is formatted exactly like the corresponding RegularSeasonCompactResults data. All men\"s games will show up as neutral site (so WLoc is always N) and some women\"s games will show up as neutral site, depending on the specifics. Note that this tournament game data also includes the play-in games for those years that had play-in games. Thus each season you will see between 63 and 67 games listed, depending on how many play-in games there were.\n",
    "\n",
    "Because of the consistent structure of the NCAA® tournament schedule, you can generally tell what round a game was, depending on the exact DayNum. However, the men\"s 2021 tournament scheduling was slightly different, and the women\"s scheduling has varied a lot. Nevertheless, in general the men\"s schedule will be:\n",
    "\n",
    "* **DayNum=134 or 135 (Tue/Wed)** - play-in games to get the tournament field down to the final 64 teams\n",
    "* **DayNum=136 or 137 (Thu/Fri)** - Round 1, to bring the tournament field from 64 teams to 32 teams\n",
    "* **DayNum=138 or 139 (Sat/Sun)** - Round 2, to bring the tournament field from 32 teams to 16 teams\n",
    "* **DayNum=143 or 144 (Thu/Fri)** - Round 3, otherwise known as \"Sweet Sixteen\", to bring the tournament field from 16 teams to 8 teams\n",
    "* **DayNum=145 or 146 (Sat/Sun)** - Round 4, otherwise known as \"Elite Eight\" or \"regional finals\", to bring the tournament field from 8 teams to 4 teams\n",
    "* **DayNum=152 (Sat)** - Round 5, otherwise known as \"Final Four\" or \"national semifinals\", to bring the tournament field from 4 teams to 2 teams\n",
    "* **DayNum=154 (Mon)** - Round 6, otherwise known as \"national final\" or \"national championship\", to bring the tournament field from 2 teams to 1 champion team\n",
    "\n",
    "Special note: Each year, there are also going to be other games that happened after Selection Sunday, which are not part of the NCAA® Tournament. This includes tournaments like the postseason NIT, the CBI, the CIT, and the Vegas 16. Such games are not listed in the Regular Season or the NCAA® Tourney files; they can be found in the \"Secondary Tourney\" data files (only for men\"s data) within Data Section 6. Although they would not be games you would ever be predicting directly for the NCAA® tournament, and they would not be games you would have data from at the time of predicting NCAA® tournament outcomes, you may nevertheless wish to make use of these games for model optimization, depending on your methodology. The more games that you can test your predictions against, the better your optimized model might eventually become, depending on how applicable all those games are. A similar argument might be advanced in favor of optimizing your predictions against conference tournament games, which might be viewed as reasonable proxies for NCAA® tournament games.\n",
    "\n"
   ]
  },
  {
   "cell_type": "code",
   "execution_count": 20,
   "id": "888fc225",
   "metadata": {
    "execution": {
     "iopub.execute_input": "2023-02-28T23:21:33.841867Z",
     "iopub.status.busy": "2023-02-28T23:21:33.841051Z",
     "iopub.status.idle": "2023-02-28T23:21:33.873177Z",
     "shell.execute_reply": "2023-02-28T23:21:33.872278Z"
    },
    "papermill": {
     "duration": 0.052351,
     "end_time": "2023-02-28T23:21:33.875752",
     "exception": false,
     "start_time": "2023-02-28T23:21:33.823401",
     "status": "completed"
    },
    "tags": []
   },
   "outputs": [
    {
     "data": {
      "text/html": [
       "<div>\n",
       "<style scoped>\n",
       "    .dataframe tbody tr th:only-of-type {\n",
       "        vertical-align: middle;\n",
       "    }\n",
       "\n",
       "    .dataframe tbody tr th {\n",
       "        vertical-align: top;\n",
       "    }\n",
       "\n",
       "    .dataframe thead th {\n",
       "        text-align: right;\n",
       "    }\n",
       "</style>\n",
       "<table border=\"1\" class=\"dataframe\">\n",
       "  <thead>\n",
       "    <tr style=\"text-align: right;\">\n",
       "      <th></th>\n",
       "      <th>Season</th>\n",
       "      <th>DayNum</th>\n",
       "      <th>WTeamID</th>\n",
       "      <th>WScore</th>\n",
       "      <th>LTeamID</th>\n",
       "      <th>LScore</th>\n",
       "      <th>WLoc</th>\n",
       "      <th>NumOT</th>\n",
       "    </tr>\n",
       "  </thead>\n",
       "  <tbody>\n",
       "    <tr>\n",
       "      <th>0</th>\n",
       "      <td>1985</td>\n",
       "      <td>136</td>\n",
       "      <td>1116</td>\n",
       "      <td>63</td>\n",
       "      <td>1234</td>\n",
       "      <td>54</td>\n",
       "      <td>N</td>\n",
       "      <td>0</td>\n",
       "    </tr>\n",
       "    <tr>\n",
       "      <th>1</th>\n",
       "      <td>1985</td>\n",
       "      <td>136</td>\n",
       "      <td>1120</td>\n",
       "      <td>59</td>\n",
       "      <td>1345</td>\n",
       "      <td>58</td>\n",
       "      <td>N</td>\n",
       "      <td>0</td>\n",
       "    </tr>\n",
       "    <tr>\n",
       "      <th>2</th>\n",
       "      <td>1985</td>\n",
       "      <td>136</td>\n",
       "      <td>1207</td>\n",
       "      <td>68</td>\n",
       "      <td>1250</td>\n",
       "      <td>43</td>\n",
       "      <td>N</td>\n",
       "      <td>0</td>\n",
       "    </tr>\n",
       "    <tr>\n",
       "      <th>3</th>\n",
       "      <td>1985</td>\n",
       "      <td>136</td>\n",
       "      <td>1229</td>\n",
       "      <td>58</td>\n",
       "      <td>1425</td>\n",
       "      <td>55</td>\n",
       "      <td>N</td>\n",
       "      <td>0</td>\n",
       "    </tr>\n",
       "    <tr>\n",
       "      <th>4</th>\n",
       "      <td>1985</td>\n",
       "      <td>136</td>\n",
       "      <td>1242</td>\n",
       "      <td>49</td>\n",
       "      <td>1325</td>\n",
       "      <td>38</td>\n",
       "      <td>N</td>\n",
       "      <td>0</td>\n",
       "    </tr>\n",
       "  </tbody>\n",
       "</table>\n",
       "</div>"
      ],
      "text/plain": [
       "   Season  DayNum  WTeamID  WScore  LTeamID  LScore WLoc  NumOT\n",
       "0    1985     136     1116      63     1234      54    N      0\n",
       "1    1985     136     1120      59     1345      58    N      0\n",
       "2    1985     136     1207      68     1250      43    N      0\n",
       "3    1985     136     1229      58     1425      55    N      0\n",
       "4    1985     136     1242      49     1325      38    N      0"
      ]
     },
     "execution_count": 20,
     "metadata": {},
     "output_type": "execute_result"
    }
   ],
   "source": [
    "dfs = [\"MNCAATourneyCompactResults.csv\", \"WNCAATourneyCompactResults.csv\"]\n",
    "\n",
    "df_compact_results_concat = concat_dfs(dfs)\n",
    "\n",
    "df_compact_results_concat.head()"
   ]
  },
  {
   "cell_type": "markdown",
   "id": "9e2da696",
   "metadata": {
    "papermill": {
     "duration": 0.01503,
     "end_time": "2023-02-28T23:21:33.906747",
     "exception": false,
     "start_time": "2023-02-28T23:21:33.891717",
     "status": "completed"
    },
    "tags": []
   },
   "source": [
    "Like previous dataframes, drop ```WLoc``` & ```NumOT```:"
   ]
  },
  {
   "cell_type": "code",
   "execution_count": 21,
   "id": "a935cafc",
   "metadata": {
    "execution": {
     "iopub.execute_input": "2023-02-28T23:21:33.939956Z",
     "iopub.status.busy": "2023-02-28T23:21:33.938953Z",
     "iopub.status.idle": "2023-02-28T23:21:33.950498Z",
     "shell.execute_reply": "2023-02-28T23:21:33.949720Z"
    },
    "papermill": {
     "duration": 0.030648,
     "end_time": "2023-02-28T23:21:33.952679",
     "exception": false,
     "start_time": "2023-02-28T23:21:33.922031",
     "status": "completed"
    },
    "tags": []
   },
   "outputs": [
    {
     "data": {
      "text/html": [
       "<div>\n",
       "<style scoped>\n",
       "    .dataframe tbody tr th:only-of-type {\n",
       "        vertical-align: middle;\n",
       "    }\n",
       "\n",
       "    .dataframe tbody tr th {\n",
       "        vertical-align: top;\n",
       "    }\n",
       "\n",
       "    .dataframe thead th {\n",
       "        text-align: right;\n",
       "    }\n",
       "</style>\n",
       "<table border=\"1\" class=\"dataframe\">\n",
       "  <thead>\n",
       "    <tr style=\"text-align: right;\">\n",
       "      <th></th>\n",
       "      <th>Season</th>\n",
       "      <th>DayNum</th>\n",
       "      <th>WTeamID</th>\n",
       "      <th>WScore</th>\n",
       "      <th>LTeamID</th>\n",
       "      <th>LScore</th>\n",
       "    </tr>\n",
       "  </thead>\n",
       "  <tbody>\n",
       "    <tr>\n",
       "      <th>0</th>\n",
       "      <td>1985</td>\n",
       "      <td>136</td>\n",
       "      <td>1116</td>\n",
       "      <td>63</td>\n",
       "      <td>1234</td>\n",
       "      <td>54</td>\n",
       "    </tr>\n",
       "    <tr>\n",
       "      <th>1</th>\n",
       "      <td>1985</td>\n",
       "      <td>136</td>\n",
       "      <td>1120</td>\n",
       "      <td>59</td>\n",
       "      <td>1345</td>\n",
       "      <td>58</td>\n",
       "    </tr>\n",
       "    <tr>\n",
       "      <th>2</th>\n",
       "      <td>1985</td>\n",
       "      <td>136</td>\n",
       "      <td>1207</td>\n",
       "      <td>68</td>\n",
       "      <td>1250</td>\n",
       "      <td>43</td>\n",
       "    </tr>\n",
       "    <tr>\n",
       "      <th>3</th>\n",
       "      <td>1985</td>\n",
       "      <td>136</td>\n",
       "      <td>1229</td>\n",
       "      <td>58</td>\n",
       "      <td>1425</td>\n",
       "      <td>55</td>\n",
       "    </tr>\n",
       "    <tr>\n",
       "      <th>4</th>\n",
       "      <td>1985</td>\n",
       "      <td>136</td>\n",
       "      <td>1242</td>\n",
       "      <td>49</td>\n",
       "      <td>1325</td>\n",
       "      <td>38</td>\n",
       "    </tr>\n",
       "  </tbody>\n",
       "</table>\n",
       "</div>"
      ],
      "text/plain": [
       "   Season  DayNum  WTeamID  WScore  LTeamID  LScore\n",
       "0    1985     136     1116      63     1234      54\n",
       "1    1985     136     1120      59     1345      58\n",
       "2    1985     136     1207      68     1250      43\n",
       "3    1985     136     1229      58     1425      55\n",
       "4    1985     136     1242      49     1325      38"
      ]
     },
     "execution_count": 21,
     "metadata": {},
     "output_type": "execute_result"
    }
   ],
   "source": [
    "df_compact_results_concat = df_compact_results_concat.drop(columns=[\"WLoc\", \"NumOT\"])\n",
    "\n",
    "df_compact_results_concat.head()"
   ]
  },
  {
   "cell_type": "markdown",
   "id": "6c85992b",
   "metadata": {
    "papermill": {
     "duration": 0.015096,
     "end_time": "2023-02-28T23:21:33.983194",
     "exception": false,
     "start_time": "2023-02-28T23:21:33.968098",
     "status": "completed"
    },
    "tags": []
   },
   "source": [
    "Merge winning seeds with compact results:"
   ]
  },
  {
   "cell_type": "code",
   "execution_count": 22,
   "id": "0c66e9ce",
   "metadata": {
    "execution": {
     "iopub.execute_input": "2023-02-28T23:21:34.016451Z",
     "iopub.status.busy": "2023-02-28T23:21:34.016001Z",
     "iopub.status.idle": "2023-02-28T23:21:34.037248Z",
     "shell.execute_reply": "2023-02-28T23:21:34.035947Z"
    },
    "papermill": {
     "duration": 0.040905,
     "end_time": "2023-02-28T23:21:34.039638",
     "exception": false,
     "start_time": "2023-02-28T23:21:33.998733",
     "status": "completed"
    },
    "tags": []
   },
   "outputs": [
    {
     "data": {
      "text/html": [
       "<div>\n",
       "<style scoped>\n",
       "    .dataframe tbody tr th:only-of-type {\n",
       "        vertical-align: middle;\n",
       "    }\n",
       "\n",
       "    .dataframe tbody tr th {\n",
       "        vertical-align: top;\n",
       "    }\n",
       "\n",
       "    .dataframe thead th {\n",
       "        text-align: right;\n",
       "    }\n",
       "</style>\n",
       "<table border=\"1\" class=\"dataframe\">\n",
       "  <thead>\n",
       "    <tr style=\"text-align: right;\">\n",
       "      <th></th>\n",
       "      <th>Season</th>\n",
       "      <th>DayNum</th>\n",
       "      <th>WTeamID</th>\n",
       "      <th>WScore</th>\n",
       "      <th>LTeamID</th>\n",
       "      <th>LScore</th>\n",
       "      <th>SeedW</th>\n",
       "    </tr>\n",
       "  </thead>\n",
       "  <tbody>\n",
       "    <tr>\n",
       "      <th>0</th>\n",
       "      <td>1985</td>\n",
       "      <td>136</td>\n",
       "      <td>1116</td>\n",
       "      <td>63</td>\n",
       "      <td>1234</td>\n",
       "      <td>54</td>\n",
       "      <td>X09</td>\n",
       "    </tr>\n",
       "    <tr>\n",
       "      <th>1</th>\n",
       "      <td>1985</td>\n",
       "      <td>136</td>\n",
       "      <td>1120</td>\n",
       "      <td>59</td>\n",
       "      <td>1345</td>\n",
       "      <td>58</td>\n",
       "      <td>Z11</td>\n",
       "    </tr>\n",
       "    <tr>\n",
       "      <th>2</th>\n",
       "      <td>1985</td>\n",
       "      <td>136</td>\n",
       "      <td>1207</td>\n",
       "      <td>68</td>\n",
       "      <td>1250</td>\n",
       "      <td>43</td>\n",
       "      <td>W01</td>\n",
       "    </tr>\n",
       "    <tr>\n",
       "      <th>3</th>\n",
       "      <td>1985</td>\n",
       "      <td>136</td>\n",
       "      <td>1229</td>\n",
       "      <td>58</td>\n",
       "      <td>1425</td>\n",
       "      <td>55</td>\n",
       "      <td>Y09</td>\n",
       "    </tr>\n",
       "    <tr>\n",
       "      <th>4</th>\n",
       "      <td>1985</td>\n",
       "      <td>136</td>\n",
       "      <td>1242</td>\n",
       "      <td>49</td>\n",
       "      <td>1325</td>\n",
       "      <td>38</td>\n",
       "      <td>Z03</td>\n",
       "    </tr>\n",
       "  </tbody>\n",
       "</table>\n",
       "</div>"
      ],
      "text/plain": [
       "   Season  DayNum  WTeamID  WScore  LTeamID  LScore SeedW\n",
       "0    1985     136     1116      63     1234      54   X09\n",
       "1    1985     136     1120      59     1345      58   Z11\n",
       "2    1985     136     1207      68     1250      43   W01\n",
       "3    1985     136     1229      58     1425      55   Y09\n",
       "4    1985     136     1242      49     1325      38   Z03"
      ]
     },
     "execution_count": 22,
     "metadata": {},
     "output_type": "execute_result"
    }
   ],
   "source": [
    "df_merge = pd.merge(\n",
    "    df_compact_results_concat, \n",
    "    df_tourney_seeds, \n",
    "    how=\"left\", \n",
    "    left_on=[\"Season\", \"WTeamID\"], \n",
    "    right_on=[\"Season\", \"TeamID\"]\n",
    ").drop(columns=\"TeamID\").rename(columns={\"Seed\": \"SeedW\"})\n",
    "\n",
    "df_merge.head()"
   ]
  },
  {
   "cell_type": "markdown",
   "id": "b4aa3454",
   "metadata": {
    "papermill": {
     "duration": 0.01524,
     "end_time": "2023-02-28T23:21:34.070519",
     "exception": false,
     "start_time": "2023-02-28T23:21:34.055279",
     "status": "completed"
    },
    "tags": []
   },
   "source": [
    "Merge losing seeds with compact results:"
   ]
  },
  {
   "cell_type": "code",
   "execution_count": 23,
   "id": "f1ac9578",
   "metadata": {
    "execution": {
     "iopub.execute_input": "2023-02-28T23:21:34.104116Z",
     "iopub.status.busy": "2023-02-28T23:21:34.103437Z",
     "iopub.status.idle": "2023-02-28T23:21:34.124186Z",
     "shell.execute_reply": "2023-02-28T23:21:34.122981Z"
    },
    "papermill": {
     "duration": 0.040663,
     "end_time": "2023-02-28T23:21:34.126792",
     "exception": false,
     "start_time": "2023-02-28T23:21:34.086129",
     "status": "completed"
    },
    "tags": []
   },
   "outputs": [
    {
     "data": {
      "text/html": [
       "<div>\n",
       "<style scoped>\n",
       "    .dataframe tbody tr th:only-of-type {\n",
       "        vertical-align: middle;\n",
       "    }\n",
       "\n",
       "    .dataframe tbody tr th {\n",
       "        vertical-align: top;\n",
       "    }\n",
       "\n",
       "    .dataframe thead th {\n",
       "        text-align: right;\n",
       "    }\n",
       "</style>\n",
       "<table border=\"1\" class=\"dataframe\">\n",
       "  <thead>\n",
       "    <tr style=\"text-align: right;\">\n",
       "      <th></th>\n",
       "      <th>Season</th>\n",
       "      <th>DayNum</th>\n",
       "      <th>WTeamID</th>\n",
       "      <th>WScore</th>\n",
       "      <th>LTeamID</th>\n",
       "      <th>LScore</th>\n",
       "      <th>SeedW</th>\n",
       "      <th>SeedL</th>\n",
       "    </tr>\n",
       "  </thead>\n",
       "  <tbody>\n",
       "    <tr>\n",
       "      <th>0</th>\n",
       "      <td>1985</td>\n",
       "      <td>136</td>\n",
       "      <td>1116</td>\n",
       "      <td>63</td>\n",
       "      <td>1234</td>\n",
       "      <td>54</td>\n",
       "      <td>X09</td>\n",
       "      <td>X08</td>\n",
       "    </tr>\n",
       "    <tr>\n",
       "      <th>1</th>\n",
       "      <td>1985</td>\n",
       "      <td>136</td>\n",
       "      <td>1120</td>\n",
       "      <td>59</td>\n",
       "      <td>1345</td>\n",
       "      <td>58</td>\n",
       "      <td>Z11</td>\n",
       "      <td>Z06</td>\n",
       "    </tr>\n",
       "    <tr>\n",
       "      <th>2</th>\n",
       "      <td>1985</td>\n",
       "      <td>136</td>\n",
       "      <td>1207</td>\n",
       "      <td>68</td>\n",
       "      <td>1250</td>\n",
       "      <td>43</td>\n",
       "      <td>W01</td>\n",
       "      <td>W16</td>\n",
       "    </tr>\n",
       "    <tr>\n",
       "      <th>3</th>\n",
       "      <td>1985</td>\n",
       "      <td>136</td>\n",
       "      <td>1229</td>\n",
       "      <td>58</td>\n",
       "      <td>1425</td>\n",
       "      <td>55</td>\n",
       "      <td>Y09</td>\n",
       "      <td>Y08</td>\n",
       "    </tr>\n",
       "    <tr>\n",
       "      <th>4</th>\n",
       "      <td>1985</td>\n",
       "      <td>136</td>\n",
       "      <td>1242</td>\n",
       "      <td>49</td>\n",
       "      <td>1325</td>\n",
       "      <td>38</td>\n",
       "      <td>Z03</td>\n",
       "      <td>Z14</td>\n",
       "    </tr>\n",
       "  </tbody>\n",
       "</table>\n",
       "</div>"
      ],
      "text/plain": [
       "   Season  DayNum  WTeamID  WScore  LTeamID  LScore SeedW SeedL\n",
       "0    1985     136     1116      63     1234      54   X09   X08\n",
       "1    1985     136     1120      59     1345      58   Z11   Z06\n",
       "2    1985     136     1207      68     1250      43   W01   W16\n",
       "3    1985     136     1229      58     1425      55   Y09   Y08\n",
       "4    1985     136     1242      49     1325      38   Z03   Z14"
      ]
     },
     "execution_count": 23,
     "metadata": {},
     "output_type": "execute_result"
    }
   ],
   "source": [
    "df_merge = pd.merge(\n",
    "    df_merge, \n",
    "    df_tourney_seeds, \n",
    "    how=\"left\", \n",
    "    left_on=[\"Season\", \"LTeamID\"], \n",
    "    right_on=[\"Season\", \"TeamID\"]\n",
    ").drop(columns=\"TeamID\").rename(columns={\"Seed\": \"SeedL\"})\n",
    "\n",
    "df_merge.head()"
   ]
  },
  {
   "cell_type": "markdown",
   "id": "daecbf76",
   "metadata": {
    "papermill": {
     "duration": 0.015471,
     "end_time": "2023-02-28T23:21:34.158420",
     "exception": false,
     "start_time": "2023-02-28T23:21:34.142949",
     "status": "completed"
    },
    "tags": []
   },
   "source": [
    "```SeedL``` & ```SeedW``` look like the wrong format (str). Create a function to preprocess and reformat these features:"
   ]
  },
  {
   "cell_type": "code",
   "execution_count": 24,
   "id": "78fa904d",
   "metadata": {
    "execution": {
     "iopub.execute_input": "2023-02-28T23:21:34.191974Z",
     "iopub.status.busy": "2023-02-28T23:21:34.191589Z",
     "iopub.status.idle": "2023-02-28T23:21:34.196672Z",
     "shell.execute_reply": "2023-02-28T23:21:34.195640Z"
    },
    "papermill": {
     "duration": 0.024608,
     "end_time": "2023-02-28T23:21:34.198784",
     "exception": false,
     "start_time": "2023-02-28T23:21:34.174176",
     "status": "completed"
    },
    "tags": []
   },
   "outputs": [],
   "source": [
    "import re # regular expression\n",
    "\n",
    "def format_seeds(seed):\n",
    "    \"\"\"Reformats seeds from strings to correct integer placements.\n",
    "    \n",
    "    Args:\n",
    "        seed - str: seed with a character followed by two numbers - A21.\n",
    "        \n",
    "    Returns:\n",
    "        formatted_seed - int: formatted seed to an int.\n",
    "    \"\"\"\n",
    "    formatted_seed = int(re.sub(\"[^0-9]\", \"\", seed))\n",
    "    return formatted_seed"
   ]
  },
  {
   "cell_type": "markdown",
   "id": "bc0af7b5",
   "metadata": {
    "papermill": {
     "duration": 0.015397,
     "end_time": "2023-02-28T23:21:34.229954",
     "exception": false,
     "start_time": "2023-02-28T23:21:34.214557",
     "status": "completed"
    },
    "tags": []
   },
   "source": [
    "Reformat ```SeedL``` & ```SeedW```:"
   ]
  },
  {
   "cell_type": "code",
   "execution_count": 25,
   "id": "756cb1d7",
   "metadata": {
    "execution": {
     "iopub.execute_input": "2023-02-28T23:21:34.263580Z",
     "iopub.status.busy": "2023-02-28T23:21:34.262802Z",
     "iopub.status.idle": "2023-02-28T23:21:34.292205Z",
     "shell.execute_reply": "2023-02-28T23:21:34.290997Z"
    },
    "papermill": {
     "duration": 0.049099,
     "end_time": "2023-02-28T23:21:34.294851",
     "exception": false,
     "start_time": "2023-02-28T23:21:34.245752",
     "status": "completed"
    },
    "tags": []
   },
   "outputs": [
    {
     "data": {
      "text/html": [
       "<div>\n",
       "<style scoped>\n",
       "    .dataframe tbody tr th:only-of-type {\n",
       "        vertical-align: middle;\n",
       "    }\n",
       "\n",
       "    .dataframe tbody tr th {\n",
       "        vertical-align: top;\n",
       "    }\n",
       "\n",
       "    .dataframe thead th {\n",
       "        text-align: right;\n",
       "    }\n",
       "</style>\n",
       "<table border=\"1\" class=\"dataframe\">\n",
       "  <thead>\n",
       "    <tr style=\"text-align: right;\">\n",
       "      <th></th>\n",
       "      <th>Season</th>\n",
       "      <th>DayNum</th>\n",
       "      <th>WTeamID</th>\n",
       "      <th>WScore</th>\n",
       "      <th>LTeamID</th>\n",
       "      <th>LScore</th>\n",
       "      <th>SeedW</th>\n",
       "      <th>SeedL</th>\n",
       "    </tr>\n",
       "  </thead>\n",
       "  <tbody>\n",
       "    <tr>\n",
       "      <th>0</th>\n",
       "      <td>1985</td>\n",
       "      <td>136</td>\n",
       "      <td>1116</td>\n",
       "      <td>63</td>\n",
       "      <td>1234</td>\n",
       "      <td>54</td>\n",
       "      <td>9</td>\n",
       "      <td>8</td>\n",
       "    </tr>\n",
       "    <tr>\n",
       "      <th>1</th>\n",
       "      <td>1985</td>\n",
       "      <td>136</td>\n",
       "      <td>1120</td>\n",
       "      <td>59</td>\n",
       "      <td>1345</td>\n",
       "      <td>58</td>\n",
       "      <td>11</td>\n",
       "      <td>6</td>\n",
       "    </tr>\n",
       "    <tr>\n",
       "      <th>2</th>\n",
       "      <td>1985</td>\n",
       "      <td>136</td>\n",
       "      <td>1207</td>\n",
       "      <td>68</td>\n",
       "      <td>1250</td>\n",
       "      <td>43</td>\n",
       "      <td>1</td>\n",
       "      <td>16</td>\n",
       "    </tr>\n",
       "    <tr>\n",
       "      <th>3</th>\n",
       "      <td>1985</td>\n",
       "      <td>136</td>\n",
       "      <td>1229</td>\n",
       "      <td>58</td>\n",
       "      <td>1425</td>\n",
       "      <td>55</td>\n",
       "      <td>9</td>\n",
       "      <td>8</td>\n",
       "    </tr>\n",
       "    <tr>\n",
       "      <th>4</th>\n",
       "      <td>1985</td>\n",
       "      <td>136</td>\n",
       "      <td>1242</td>\n",
       "      <td>49</td>\n",
       "      <td>1325</td>\n",
       "      <td>38</td>\n",
       "      <td>3</td>\n",
       "      <td>14</td>\n",
       "    </tr>\n",
       "  </tbody>\n",
       "</table>\n",
       "</div>"
      ],
      "text/plain": [
       "   Season  DayNum  WTeamID  WScore  LTeamID  LScore  SeedW  SeedL\n",
       "0    1985     136     1116      63     1234      54      9      8\n",
       "1    1985     136     1120      59     1345      58     11      6\n",
       "2    1985     136     1207      68     1250      43      1     16\n",
       "3    1985     136     1229      58     1425      55      9      8\n",
       "4    1985     136     1242      49     1325      38      3     14"
      ]
     },
     "execution_count": 25,
     "metadata": {},
     "output_type": "execute_result"
    }
   ],
   "source": [
    "df_merge[\"SeedL\"] = df_merge[\"SeedL\"].apply(format_seeds)\n",
    "df_merge[\"SeedW\"] = df_merge[\"SeedW\"].apply(format_seeds)\n",
    "\n",
    "df_merge.head()"
   ]
  },
  {
   "cell_type": "markdown",
   "id": "66892031",
   "metadata": {
    "papermill": {
     "duration": 0.015576,
     "end_time": "2023-02-28T23:21:34.326461",
     "exception": false,
     "start_time": "2023-02-28T23:21:34.310885",
     "status": "completed"
    },
    "tags": []
   },
   "source": [
    "Merge ```df_merge``` with the extracted features from the Regular Season Compact data:"
   ]
  },
  {
   "cell_type": "markdown",
   "id": "5a0d6038",
   "metadata": {
    "papermill": {
     "duration": 0.016375,
     "end_time": "2023-02-28T23:21:34.359116",
     "exception": false,
     "start_time": "2023-02-28T23:21:34.342741",
     "status": "completed"
    },
    "tags": []
   },
   "source": [
    "Losing TeamIDs:"
   ]
  },
  {
   "cell_type": "code",
   "execution_count": 26,
   "id": "534387d8",
   "metadata": {
    "execution": {
     "iopub.execute_input": "2023-02-28T23:21:34.393289Z",
     "iopub.status.busy": "2023-02-28T23:21:34.392264Z",
     "iopub.status.idle": "2023-02-28T23:21:34.415760Z",
     "shell.execute_reply": "2023-02-28T23:21:34.414614Z"
    },
    "papermill": {
     "duration": 0.043147,
     "end_time": "2023-02-28T23:21:34.418135",
     "exception": false,
     "start_time": "2023-02-28T23:21:34.374988",
     "status": "completed"
    },
    "tags": []
   },
   "outputs": [
    {
     "data": {
      "text/html": [
       "<div>\n",
       "<style scoped>\n",
       "    .dataframe tbody tr th:only-of-type {\n",
       "        vertical-align: middle;\n",
       "    }\n",
       "\n",
       "    .dataframe tbody tr th {\n",
       "        vertical-align: top;\n",
       "    }\n",
       "\n",
       "    .dataframe thead th {\n",
       "        text-align: right;\n",
       "    }\n",
       "</style>\n",
       "<table border=\"1\" class=\"dataframe\">\n",
       "  <thead>\n",
       "    <tr style=\"text-align: right;\">\n",
       "      <th></th>\n",
       "      <th>Season</th>\n",
       "      <th>DayNum</th>\n",
       "      <th>WTeamID</th>\n",
       "      <th>WScore</th>\n",
       "      <th>LTeamID</th>\n",
       "      <th>LScore</th>\n",
       "      <th>SeedW</th>\n",
       "      <th>SeedL</th>\n",
       "      <th>LossPointDiffL</th>\n",
       "      <th>WinPointDiff</th>\n",
       "      <th>WinRateL</th>\n",
       "    </tr>\n",
       "  </thead>\n",
       "  <tbody>\n",
       "    <tr>\n",
       "      <th>0</th>\n",
       "      <td>1985</td>\n",
       "      <td>136</td>\n",
       "      <td>1116</td>\n",
       "      <td>63</td>\n",
       "      <td>1234</td>\n",
       "      <td>54</td>\n",
       "      <td>9</td>\n",
       "      <td>8</td>\n",
       "      <td>4.0</td>\n",
       "      <td>14.0</td>\n",
       "      <td>0.666667</td>\n",
       "    </tr>\n",
       "    <tr>\n",
       "      <th>1</th>\n",
       "      <td>1985</td>\n",
       "      <td>136</td>\n",
       "      <td>1120</td>\n",
       "      <td>59</td>\n",
       "      <td>1345</td>\n",
       "      <td>58</td>\n",
       "      <td>11</td>\n",
       "      <td>6</td>\n",
       "      <td>11.5</td>\n",
       "      <td>10.0</td>\n",
       "      <td>0.680000</td>\n",
       "    </tr>\n",
       "    <tr>\n",
       "      <th>2</th>\n",
       "      <td>1985</td>\n",
       "      <td>136</td>\n",
       "      <td>1207</td>\n",
       "      <td>68</td>\n",
       "      <td>1250</td>\n",
       "      <td>43</td>\n",
       "      <td>1</td>\n",
       "      <td>16</td>\n",
       "      <td>6.0</td>\n",
       "      <td>4.0</td>\n",
       "      <td>0.379310</td>\n",
       "    </tr>\n",
       "    <tr>\n",
       "      <th>3</th>\n",
       "      <td>1985</td>\n",
       "      <td>136</td>\n",
       "      <td>1229</td>\n",
       "      <td>58</td>\n",
       "      <td>1425</td>\n",
       "      <td>55</td>\n",
       "      <td>9</td>\n",
       "      <td>8</td>\n",
       "      <td>5.0</td>\n",
       "      <td>7.0</td>\n",
       "      <td>0.678571</td>\n",
       "    </tr>\n",
       "    <tr>\n",
       "      <th>4</th>\n",
       "      <td>1985</td>\n",
       "      <td>136</td>\n",
       "      <td>1242</td>\n",
       "      <td>49</td>\n",
       "      <td>1325</td>\n",
       "      <td>38</td>\n",
       "      <td>3</td>\n",
       "      <td>14</td>\n",
       "      <td>7.0</td>\n",
       "      <td>8.0</td>\n",
       "      <td>0.740741</td>\n",
       "    </tr>\n",
       "  </tbody>\n",
       "</table>\n",
       "</div>"
      ],
      "text/plain": [
       "   Season  DayNum  WTeamID  WScore  LTeamID  LScore  SeedW  SeedL  \\\n",
       "0    1985     136     1116      63     1234      54      9      8   \n",
       "1    1985     136     1120      59     1345      58     11      6   \n",
       "2    1985     136     1207      68     1250      43      1     16   \n",
       "3    1985     136     1229      58     1425      55      9      8   \n",
       "4    1985     136     1242      49     1325      38      3     14   \n",
       "\n",
       "   LossPointDiffL  WinPointDiff  WinRateL  \n",
       "0             4.0          14.0  0.666667  \n",
       "1            11.5          10.0  0.680000  \n",
       "2             6.0           4.0  0.379310  \n",
       "3             5.0           7.0  0.678571  \n",
       "4             7.0           8.0  0.740741  "
      ]
     },
     "execution_count": 26,
     "metadata": {},
     "output_type": "execute_result"
    }
   ],
   "source": [
    "df_merge = pd.merge(\n",
    "    df_merge, \n",
    "    df_regular_season_merged, \n",
    "    how=\"left\", \n",
    "    left_on=[\"Season\", \"LTeamID\"], \n",
    "    right_on=[\"Season\", \"TeamID\"]\n",
    ").rename(columns={\"LossPointDiff\" : \"LossPointDiffL\",\n",
    "                  \"WinPointsDiff\" : \"WinPointsDiffL\",\n",
    "                  \"WinRate\" : \"WinRateL\"}\n",
    ").drop(columns=\"TeamID\")\n",
    "\n",
    "df_merge.head()"
   ]
  },
  {
   "cell_type": "markdown",
   "id": "7209aa0e",
   "metadata": {
    "papermill": {
     "duration": 0.016094,
     "end_time": "2023-02-28T23:21:34.450569",
     "exception": false,
     "start_time": "2023-02-28T23:21:34.434475",
     "status": "completed"
    },
    "tags": []
   },
   "source": [
    "Winning TeamIDs:"
   ]
  },
  {
   "cell_type": "code",
   "execution_count": 27,
   "id": "3d5c3fe4",
   "metadata": {
    "execution": {
     "iopub.execute_input": "2023-02-28T23:21:34.484524Z",
     "iopub.status.busy": "2023-02-28T23:21:34.484035Z",
     "iopub.status.idle": "2023-02-28T23:21:34.509528Z",
     "shell.execute_reply": "2023-02-28T23:21:34.508278Z"
    },
    "papermill": {
     "duration": 0.04563,
     "end_time": "2023-02-28T23:21:34.512233",
     "exception": false,
     "start_time": "2023-02-28T23:21:34.466603",
     "status": "completed"
    },
    "tags": []
   },
   "outputs": [
    {
     "data": {
      "text/html": [
       "<div>\n",
       "<style scoped>\n",
       "    .dataframe tbody tr th:only-of-type {\n",
       "        vertical-align: middle;\n",
       "    }\n",
       "\n",
       "    .dataframe tbody tr th {\n",
       "        vertical-align: top;\n",
       "    }\n",
       "\n",
       "    .dataframe thead th {\n",
       "        text-align: right;\n",
       "    }\n",
       "</style>\n",
       "<table border=\"1\" class=\"dataframe\">\n",
       "  <thead>\n",
       "    <tr style=\"text-align: right;\">\n",
       "      <th></th>\n",
       "      <th>Season</th>\n",
       "      <th>DayNum</th>\n",
       "      <th>WTeamID</th>\n",
       "      <th>WScore</th>\n",
       "      <th>LTeamID</th>\n",
       "      <th>LScore</th>\n",
       "      <th>SeedW</th>\n",
       "      <th>SeedL</th>\n",
       "      <th>LossPointDiffL</th>\n",
       "      <th>WinPointDiff_x</th>\n",
       "      <th>WinRateL</th>\n",
       "      <th>LossPointDiffW</th>\n",
       "      <th>WinPointDiff_y</th>\n",
       "      <th>WinRateW</th>\n",
       "    </tr>\n",
       "  </thead>\n",
       "  <tbody>\n",
       "    <tr>\n",
       "      <th>0</th>\n",
       "      <td>1985</td>\n",
       "      <td>136</td>\n",
       "      <td>1116</td>\n",
       "      <td>63</td>\n",
       "      <td>1234</td>\n",
       "      <td>54</td>\n",
       "      <td>9</td>\n",
       "      <td>8</td>\n",
       "      <td>4.0</td>\n",
       "      <td>14.0</td>\n",
       "      <td>0.666667</td>\n",
       "      <td>4.0</td>\n",
       "      <td>8.0</td>\n",
       "      <td>0.636364</td>\n",
       "    </tr>\n",
       "    <tr>\n",
       "      <th>1</th>\n",
       "      <td>1985</td>\n",
       "      <td>136</td>\n",
       "      <td>1120</td>\n",
       "      <td>59</td>\n",
       "      <td>1345</td>\n",
       "      <td>58</td>\n",
       "      <td>11</td>\n",
       "      <td>6</td>\n",
       "      <td>11.5</td>\n",
       "      <td>10.0</td>\n",
       "      <td>0.680000</td>\n",
       "      <td>7.0</td>\n",
       "      <td>7.0</td>\n",
       "      <td>0.620690</td>\n",
       "    </tr>\n",
       "    <tr>\n",
       "      <th>2</th>\n",
       "      <td>1985</td>\n",
       "      <td>136</td>\n",
       "      <td>1207</td>\n",
       "      <td>68</td>\n",
       "      <td>1250</td>\n",
       "      <td>43</td>\n",
       "      <td>1</td>\n",
       "      <td>16</td>\n",
       "      <td>6.0</td>\n",
       "      <td>4.0</td>\n",
       "      <td>0.379310</td>\n",
       "      <td>1.5</td>\n",
       "      <td>16.0</td>\n",
       "      <td>0.925926</td>\n",
       "    </tr>\n",
       "    <tr>\n",
       "      <th>3</th>\n",
       "      <td>1985</td>\n",
       "      <td>136</td>\n",
       "      <td>1229</td>\n",
       "      <td>58</td>\n",
       "      <td>1425</td>\n",
       "      <td>55</td>\n",
       "      <td>9</td>\n",
       "      <td>8</td>\n",
       "      <td>5.0</td>\n",
       "      <td>7.0</td>\n",
       "      <td>0.678571</td>\n",
       "      <td>10.0</td>\n",
       "      <td>10.0</td>\n",
       "      <td>0.740741</td>\n",
       "    </tr>\n",
       "    <tr>\n",
       "      <th>4</th>\n",
       "      <td>1985</td>\n",
       "      <td>136</td>\n",
       "      <td>1242</td>\n",
       "      <td>49</td>\n",
       "      <td>1325</td>\n",
       "      <td>38</td>\n",
       "      <td>3</td>\n",
       "      <td>14</td>\n",
       "      <td>7.0</td>\n",
       "      <td>8.0</td>\n",
       "      <td>0.740741</td>\n",
       "      <td>7.0</td>\n",
       "      <td>9.0</td>\n",
       "      <td>0.766667</td>\n",
       "    </tr>\n",
       "  </tbody>\n",
       "</table>\n",
       "</div>"
      ],
      "text/plain": [
       "   Season  DayNum  WTeamID  WScore  LTeamID  LScore  SeedW  SeedL  \\\n",
       "0    1985     136     1116      63     1234      54      9      8   \n",
       "1    1985     136     1120      59     1345      58     11      6   \n",
       "2    1985     136     1207      68     1250      43      1     16   \n",
       "3    1985     136     1229      58     1425      55      9      8   \n",
       "4    1985     136     1242      49     1325      38      3     14   \n",
       "\n",
       "   LossPointDiffL  WinPointDiff_x  WinRateL  LossPointDiffW  WinPointDiff_y  \\\n",
       "0             4.0            14.0  0.666667             4.0             8.0   \n",
       "1            11.5            10.0  0.680000             7.0             7.0   \n",
       "2             6.0             4.0  0.379310             1.5            16.0   \n",
       "3             5.0             7.0  0.678571            10.0            10.0   \n",
       "4             7.0             8.0  0.740741             7.0             9.0   \n",
       "\n",
       "   WinRateW  \n",
       "0  0.636364  \n",
       "1  0.620690  \n",
       "2  0.925926  \n",
       "3  0.740741  \n",
       "4  0.766667  "
      ]
     },
     "execution_count": 27,
     "metadata": {},
     "output_type": "execute_result"
    }
   ],
   "source": [
    "df_merge = pd.merge(\n",
    "    df_merge, \n",
    "    df_regular_season_merged, \n",
    "    how=\"left\", \n",
    "    left_on=[\"Season\", \"WTeamID\"], \n",
    "    right_on=[\"Season\", \"TeamID\"]\n",
    ").rename(columns={\"LossPointDiff\" : \"LossPointDiffW\",\n",
    "                  \"WinPointsDiff\" : \"WinPointsDiffW\",\n",
    "                  \"WinRate\" : \"WinRateW\"}\n",
    ").drop(columns=\"TeamID\")\n",
    "\n",
    "df_merge.head()"
   ]
  }
 ],
 "metadata": {
  "kernelspec": {
   "display_name": "Python 3",
   "language": "python",
   "name": "python3"
  },
  "language_info": {
   "codemirror_mode": {
    "name": "ipython",
    "version": 3
   },
   "file_extension": ".py",
   "mimetype": "text/x-python",
   "name": "python",
   "nbconvert_exporter": "python",
   "pygments_lexer": "ipython3",
   "version": "3.7.12"
  },
  "papermill": {
   "default_parameters": {},
   "duration": 13.488013,
   "end_time": "2023-02-28T23:21:35.150383",
   "environment_variables": {},
   "exception": null,
   "input_path": "__notebook__.ipynb",
   "output_path": "__notebook__.ipynb",
   "parameters": {},
   "start_time": "2023-02-28T23:21:21.662370",
   "version": "2.4.0"
  }
 },
 "nbformat": 4,
 "nbformat_minor": 5
}
