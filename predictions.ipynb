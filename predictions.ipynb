{
 "cells": [
  {
   "cell_type": "markdown",
   "id": "48e96e36",
   "metadata": {
    "papermill": {
     "duration": 0.01851,
     "end_time": "2023-03-03T06:59:46.782990",
     "exception": false,
     "start_time": "2023-03-03T06:59:46.764480",
     "status": "completed"
    },
    "tags": []
   },
   "source": [
    "### Import Libraries"
   ]
  },
  {
   "cell_type": "code",
   "execution_count": 1,
   "id": "c60a2ffb",
   "metadata": {
    "execution": {
     "iopub.execute_input": "2023-03-03T06:59:46.820939Z",
     "iopub.status.busy": "2023-03-03T06:59:46.820447Z",
     "iopub.status.idle": "2023-03-03T06:59:48.254460Z",
     "shell.execute_reply": "2023-03-03T06:59:48.253066Z"
    },
    "papermill": {
     "duration": 1.456145,
     "end_time": "2023-03-03T06:59:48.257869",
     "exception": false,
     "start_time": "2023-03-03T06:59:46.801724",
     "status": "completed"
    },
    "tags": []
   },
   "outputs": [],
   "source": [
    "import os # operating system\n",
    "import re # regular expression\n",
    "\n",
    "import pandas as pd # dataframe manipulation\n",
    "import numpy as np # linear algebra\n",
    "\n",
    "import matplotlib.pyplot as plt\n",
    "import seaborn as sns"
   ]
  },
  {
   "cell_type": "markdown",
   "id": "03628d28",
   "metadata": {
    "papermill": {
     "duration": 0.015639,
     "end_time": "2023-03-03T06:59:48.291606",
     "exception": false,
     "start_time": "2023-03-03T06:59:48.275967",
     "status": "completed"
    },
    "tags": []
   },
   "source": [
    "### Get Data from Kaggle"
   ]
  },
  {
   "cell_type": "code",
   "execution_count": 2,
   "id": "df20b480",
   "metadata": {
    "execution": {
     "iopub.execute_input": "2023-03-03T06:59:48.326842Z",
     "iopub.status.busy": "2023-03-03T06:59:48.325525Z",
     "iopub.status.idle": "2023-03-03T06:59:48.336652Z",
     "shell.execute_reply": "2023-03-03T06:59:48.334581Z"
    },
    "papermill": {
     "duration": 0.032138,
     "end_time": "2023-03-03T06:59:48.339758",
     "exception": false,
     "start_time": "2023-03-03T06:59:48.307620",
     "status": "completed"
    },
    "tags": []
   },
   "outputs": [
    {
     "name": "stdout",
     "output_type": "stream",
     "text": [
      "Cities.csv\n",
      "Conferences.csv\n",
      "MConferenceTourneyGames.csv\n",
      "MGameCities.csv\n",
      "MMasseyOrdinals.csv\n",
      "MNCAATourneyCompactResults.csv\n",
      "MNCAATourneyDetailedResults.csv\n",
      "MNCAATourneySeedRoundSlots.csv\n",
      "MNCAATourneySeeds.csv\n",
      "MNCAATourneySlots.csv\n",
      "MRegularSeasonCompactResults.csv\n",
      "MRegularSeasonDetailedResults.csv\n",
      "MSeasons.csv\n",
      "MSecondaryTourneyCompactResults.csv\n",
      "MSecondaryTourneyTeams.csv\n",
      "MTeamCoaches.csv\n",
      "MTeamConferences.csv\n",
      "MTeamSpellings.csv\n",
      "MTeams.csv\n",
      "SampleSubmission2023.csv\n",
      "WGameCities.csv\n",
      "WNCAATourneyCompactResults.csv\n",
      "WNCAATourneyDetailedResults.csv\n",
      "WNCAATourneySeeds.csv\n",
      "WNCAATourneySlots.csv\n",
      "WRegularSeasonCompactResults.csv\n",
      "WRegularSeasonDetailedResults.csv\n",
      "WSeasons.csv\n",
      "WTeamConferences.csv\n",
      "WTeamSpellings.csv\n",
      "WTeams.csv\n"
     ]
    }
   ],
   "source": [
    "# You can write up to 20GB to the current directory (/kaggle/working/) that gets preserved as output when you create a version using \"Save & Run All\" \n",
    "# You can also write temporary files to /kaggle/temp/, but they won\"t be saved outside of the current session\n",
    "\n",
    "data_dir = \"/kaggle/input/march-machine-learning-mania-2023/\"\n",
    "\n",
    "for file in sorted(os.listdir(data_dir)):\n",
    "    print(file)"
   ]
  },
  {
   "cell_type": "markdown",
   "id": "f1257b1b",
   "metadata": {
    "papermill": {
     "duration": 0.015918,
     "end_time": "2023-03-03T06:59:48.372173",
     "exception": false,
     "start_time": "2023-03-03T06:59:48.356255",
     "status": "completed"
    },
    "tags": []
   },
   "source": [
    "\n",
    "### Goal of the Competition\n",
    "Another year, another chance to predict the upsets, call the probabilities, and put your bracketology skills to the leaderboard test. In our ninth annual March Machine Learning Mania competition, Kagglers will once again join the millions of fans who attempt to predict the outcomes of this year\"s college basketball tournaments. Unlike most fans, you will pick the winners and losers using a combination of rich historical data and computing power, while the ground truth unfolds on television.\n"
   ]
  },
  {
   "cell_type": "markdown",
   "id": "4bcee0c0",
   "metadata": {
    "papermill": {
     "duration": 0.016119,
     "end_time": "2023-03-03T06:59:48.404476",
     "exception": false,
     "start_time": "2023-03-03T06:59:48.388357",
     "status": "completed"
    },
    "tags": []
   },
   "source": [
    "### Context\n",
    "You are provided data of historical NCAA games to forecast the outcomes of the Division 1 Men\"s and Women\"s basketball tournaments. This competition is the official 2023 edition, with points, medals, prizes, and basketball glory at stake.\n",
    "\n",
    "We have made several updates to the competition format compared to prior editions:\n",
    "\n",
    "1. There is a change in evaluation metric from log loss to Brier scores. See the Evaluation Page for full details.\n",
    "2. We are combining the Men\"s and Women\"s tournament into one single competition, instead of running separate tracks. The competition will award full points/medals as a result.\n",
    "3. We have changed the prediction format so that you may forecast the 2023 tournaments right away, instead of having to wait to see which teams are selected for the tournament.\n",
    "\n",
    "We have also launched a companion warmup competition, which is setup as a practice leaderboard covering the previous five tournaments. Because its only for practice and the ground historical game outcomes are public information, the warmup competition does not count for points/medals and will be taken down once it has served its purpose. Prior to the start of the tournaments, the leaderboard of this competition will reflect all zero scores. Kaggle will periodically fill in the outcomes and rescore once games begin.\n",
    "\n",
    "Good luck and happy forecasting!"
   ]
  },
  {
   "cell_type": "markdown",
   "id": "2b05a3e0",
   "metadata": {
    "papermill": {
     "duration": 0.01571,
     "end_time": "2023-03-03T06:59:48.437314",
     "exception": false,
     "start_time": "2023-03-03T06:59:48.421604",
     "status": "completed"
    },
    "tags": []
   },
   "source": [
    "### Dataset Description\n",
    "Each season there are thousands of NCAA basketball games played between Division I college basketball teams, culminating in March Madness®, the 68-team national championship that starts in the middle of March. We have provided a large amount of historical data about college basketball games and teams, going back many years. Armed with this historical data, you can explore it and develop your own distinctive ways of predicting March Madness® game outcomes. You can even evaluate and compare different approaches by seeing which of them would have done best at predicting tournament games from the past.\n",
    "\n",
    "If you are unfamiliar with the format and intricacies of the NCAA® tournament, we encourage reading the wikipedia pages for the men\"s and women\"s tournaments before before diving into the data.  The data description and schema may seem daunting at first, but is not as complicated as it appears.\n",
    "\n",
    "Please note that in previous years, there were separate competitions for predicting the men\"s tournament games or the women\"s tournament games. In this year\"s competition, you will be submitting combined prediction files that include predictions for both the men\"s tournament and the women\"s tournament. Thus the data files incorporate both men\"s data and women\"s data. The files that pertain only to men\"s data will start with the letter prefix M, and the files that pertain only to women\"s data will start with the letter prefix W. Some files span both men\"s and women\"s data, such as Cities and Conferences, and these files do not start with an M prefix or a W prefix.\n",
    "\n",
    "As a reminder, you are encouraged to incorporate your own sources of data. We have provided extensive historical data to jump-start the modeling process, and this data is self-consistent (for instance, dates and team ID\"s are always treated the same way). Nevertheless, you may also be able to make productive use of external data. If you head down this path, please be forewarned that many sources have their own distinctive way of identifying the names of teams, and this can make it challenging to link up with our data. The MTeamSpellings and WTeamSpellings files, which are listed in the bottom section below, may help you map external team references into our own Team ID structure, and you may also need to understand exactly how dates work in our data."
   ]
  },
  {
   "cell_type": "markdown",
   "id": "270e7eaa",
   "metadata": {
    "papermill": {
     "duration": 0.015745,
     "end_time": "2023-03-03T06:59:48.469208",
     "exception": false,
     "start_time": "2023-03-03T06:59:48.453463",
     "status": "completed"
    },
    "tags": []
   },
   "source": [
    "### What to Predict \n",
    "~~Warmup Competition - You should submit predicted probabilities for every possible matchup in the past 5 NCAA® tournaments (2017-2019 and 2021-2022). Note that there was no tournament held in 2020.~~\n",
    "\n",
    "**2023 Competition - You should submit predicted probabilities for every possible matchup before the 2023 tournament begins.**"
   ]
  },
  {
   "cell_type": "markdown",
   "id": "5c1c87bf",
   "metadata": {
    "papermill": {
     "duration": 0.015752,
     "end_time": "2023-03-03T06:59:48.501437",
     "exception": false,
     "start_time": "2023-03-03T06:59:48.485685",
     "status": "completed"
    },
    "tags": []
   },
   "source": [
    "### Load and Prepare Data\n",
    "Load and combine data for analysis."
   ]
  },
  {
   "cell_type": "markdown",
   "id": "927bb7db",
   "metadata": {
    "papermill": {
     "duration": 0.016099,
     "end_time": "2023-03-03T06:59:48.534502",
     "exception": false,
     "start_time": "2023-03-03T06:59:48.518403",
     "status": "completed"
    },
    "tags": []
   },
   "source": [
    "#### MNCAATourneySeeds.csv & WNCAATourneySeeds.csv\n",
    "\n",
    "These files identify the seeds for all teams in each NCAA® tournament, for all seasons of historical data. Thus, there are between 64-68 rows for each year, depending on whether there were any play-in games and how many there were. In recent years the structure has settled at 68 total teams, with four \"play-in\" games leading to the final field of 64 teams entering Round 1 on Thursday/Friday of the first week (by definition, that is DayNum=136/137 each season). We will not know the seeds of the respective tournament teams, or even exactly which 68 teams it will be, until Selection Sunday on March 12, 2023 (DayNum=132).\n",
    "\n",
    "* **Season** - the year that the tournament was played in\n",
    "* **Seed** - this is a 3/4-character identifier of the seed, where the first character is either W, X, Y, or Z (identifying the region the team was in) and the next two digits (either 01, 02, ..., 15, or 16) tell you the seed within the region. For play-in teams, there is a fourth character (a or b) to further distinguish the seeds, since teams that face each other in the play-in games will have seeds with the same first three characters. The \"a\" and \"b\" are assigned based on which Team ID is lower numerically. As an example of the format of the seed, the first record in the MNCAATourneySeeds file is seed W01 from 1985, which means we are looking at the #1 seed in the W region (which we can see from the \"MSeasons.csv\" file was the East region).\n",
    "* **TeamID** - this identifies the id number of the team, as specified in the MTeams.csv or WTeams.csv file"
   ]
  },
  {
   "cell_type": "markdown",
   "id": "dc8b9e76",
   "metadata": {
    "papermill": {
     "duration": 0.016326,
     "end_time": "2023-03-03T06:59:48.566972",
     "exception": false,
     "start_time": "2023-03-03T06:59:48.550646",
     "status": "completed"
    },
    "tags": []
   },
   "source": [
    "Create function to concat dataframes to reduce redundancy:"
   ]
  },
  {
   "cell_type": "code",
   "execution_count": 3,
   "id": "b4e49dea",
   "metadata": {
    "execution": {
     "iopub.execute_input": "2023-03-03T06:59:48.603052Z",
     "iopub.status.busy": "2023-03-03T06:59:48.601904Z",
     "iopub.status.idle": "2023-03-03T06:59:48.609367Z",
     "shell.execute_reply": "2023-03-03T06:59:48.608213Z"
    },
    "papermill": {
     "duration": 0.028719,
     "end_time": "2023-03-03T06:59:48.612575",
     "exception": false,
     "start_time": "2023-03-03T06:59:48.583856",
     "status": "completed"
    },
    "tags": []
   },
   "outputs": [],
   "source": [
    "def concat_dfs(dfs, data_dir=\"/kaggle/input/march-machine-learning-mania-2023/\"):\n",
    "    \"\"\"Returns a concatenated dataframe from a list of dataframe basenames in the data_dir.\n",
    "    \n",
    "    Args:\n",
    "        dfs - list: list of dataframe basenames to concatenate together\n",
    "        data_dir - str: directory of dataframe basenames\n",
    "        \n",
    "    Returns:\n",
    "        df_concat - object: concatenated dataframe\n",
    "    \"\"\"\n",
    "    dfs_to_concat = []\n",
    "    for df in dfs:\n",
    "        if type(df) == str:\n",
    "            df_path = os.path.join(data_dir, df)\n",
    "            df = pd.read_csv(df_path)\n",
    "        dfs_to_concat.append(df)\n",
    "    df_concat = pd.concat(dfs_to_concat)\n",
    "    return df_concat"
   ]
  },
  {
   "cell_type": "markdown",
   "id": "928cc8a8",
   "metadata": {
    "papermill": {
     "duration": 0.015854,
     "end_time": "2023-03-03T06:59:48.645501",
     "exception": false,
     "start_time": "2023-03-03T06:59:48.629647",
     "status": "completed"
    },
    "tags": []
   },
   "source": [
    "Concatenate and check dataframe for men\"s and women\"s tournament seeding. "
   ]
  },
  {
   "cell_type": "code",
   "execution_count": 4,
   "id": "1f0d6393",
   "metadata": {
    "execution": {
     "iopub.execute_input": "2023-03-03T06:59:48.680513Z",
     "iopub.status.busy": "2023-03-03T06:59:48.679644Z",
     "iopub.status.idle": "2023-03-03T06:59:48.735035Z",
     "shell.execute_reply": "2023-03-03T06:59:48.733876Z"
    },
    "papermill": {
     "duration": 0.076152,
     "end_time": "2023-03-03T06:59:48.737770",
     "exception": false,
     "start_time": "2023-03-03T06:59:48.661618",
     "status": "completed"
    },
    "tags": []
   },
   "outputs": [
    {
     "data": {
      "text/html": [
       "<div>\n",
       "<style scoped>\n",
       "    .dataframe tbody tr th:only-of-type {\n",
       "        vertical-align: middle;\n",
       "    }\n",
       "\n",
       "    .dataframe tbody tr th {\n",
       "        vertical-align: top;\n",
       "    }\n",
       "\n",
       "    .dataframe thead th {\n",
       "        text-align: right;\n",
       "    }\n",
       "</style>\n",
       "<table border=\"1\" class=\"dataframe\">\n",
       "  <thead>\n",
       "    <tr style=\"text-align: right;\">\n",
       "      <th></th>\n",
       "      <th>Season</th>\n",
       "      <th>Seed</th>\n",
       "      <th>TeamID</th>\n",
       "    </tr>\n",
       "  </thead>\n",
       "  <tbody>\n",
       "    <tr>\n",
       "      <th>0</th>\n",
       "      <td>1985</td>\n",
       "      <td>W01</td>\n",
       "      <td>1207</td>\n",
       "    </tr>\n",
       "    <tr>\n",
       "      <th>1</th>\n",
       "      <td>1985</td>\n",
       "      <td>W02</td>\n",
       "      <td>1210</td>\n",
       "    </tr>\n",
       "    <tr>\n",
       "      <th>2</th>\n",
       "      <td>1985</td>\n",
       "      <td>W03</td>\n",
       "      <td>1228</td>\n",
       "    </tr>\n",
       "    <tr>\n",
       "      <th>3</th>\n",
       "      <td>1985</td>\n",
       "      <td>W04</td>\n",
       "      <td>1260</td>\n",
       "    </tr>\n",
       "    <tr>\n",
       "      <th>4</th>\n",
       "      <td>1985</td>\n",
       "      <td>W05</td>\n",
       "      <td>1374</td>\n",
       "    </tr>\n",
       "  </tbody>\n",
       "</table>\n",
       "</div>"
      ],
      "text/plain": [
       "   Season Seed  TeamID\n",
       "0    1985  W01    1207\n",
       "1    1985  W02    1210\n",
       "2    1985  W03    1228\n",
       "3    1985  W04    1260\n",
       "4    1985  W05    1374"
      ]
     },
     "execution_count": 4,
     "metadata": {},
     "output_type": "execute_result"
    }
   ],
   "source": [
    "dfs = [\"MNCAATourneySeeds.csv\", \"WNCAATourneySeeds.csv\"]\n",
    "\n",
    "df_tourney_seeds = concat_dfs(dfs)\n",
    "\n",
    "df_tourney_seeds.head()"
   ]
  },
  {
   "cell_type": "markdown",
   "id": "821390da",
   "metadata": {
    "papermill": {
     "duration": 0.016255,
     "end_time": "2023-03-03T06:59:48.770777",
     "exception": false,
     "start_time": "2023-03-03T06:59:48.754522",
     "status": "completed"
    },
    "tags": []
   },
   "source": [
    "Check for missing values:"
   ]
  },
  {
   "cell_type": "code",
   "execution_count": 5,
   "id": "e16992b6",
   "metadata": {
    "execution": {
     "iopub.execute_input": "2023-03-03T06:59:48.808079Z",
     "iopub.status.busy": "2023-03-03T06:59:48.807110Z",
     "iopub.status.idle": "2023-03-03T06:59:48.819547Z",
     "shell.execute_reply": "2023-03-03T06:59:48.818013Z"
    },
    "papermill": {
     "duration": 0.035304,
     "end_time": "2023-03-03T06:59:48.823401",
     "exception": false,
     "start_time": "2023-03-03T06:59:48.788097",
     "status": "completed"
    },
    "tags": []
   },
   "outputs": [
    {
     "data": {
      "text/plain": [
       "Season    0\n",
       "Seed      0\n",
       "TeamID    0\n",
       "dtype: int64"
      ]
     },
     "execution_count": 5,
     "metadata": {},
     "output_type": "execute_result"
    }
   ],
   "source": [
    "df_tourney_seeds.isnull().sum()"
   ]
  },
  {
   "cell_type": "markdown",
   "id": "91528e83",
   "metadata": {
    "papermill": {
     "duration": 0.016894,
     "end_time": "2023-03-03T06:59:48.857616",
     "exception": false,
     "start_time": "2023-03-03T06:59:48.840722",
     "status": "completed"
    },
    "tags": []
   },
   "source": [
    "Check for duplicated values:"
   ]
  },
  {
   "cell_type": "code",
   "execution_count": 6,
   "id": "2bc1b25f",
   "metadata": {
    "execution": {
     "iopub.execute_input": "2023-03-03T06:59:48.894908Z",
     "iopub.status.busy": "2023-03-03T06:59:48.893947Z",
     "iopub.status.idle": "2023-03-03T06:59:48.911698Z",
     "shell.execute_reply": "2023-03-03T06:59:48.910541Z"
    },
    "papermill": {
     "duration": 0.039934,
     "end_time": "2023-03-03T06:59:48.914294",
     "exception": false,
     "start_time": "2023-03-03T06:59:48.874360",
     "status": "completed"
    },
    "tags": []
   },
   "outputs": [
    {
     "data": {
      "text/plain": [
       "0"
      ]
     },
     "execution_count": 6,
     "metadata": {},
     "output_type": "execute_result"
    }
   ],
   "source": [
    "df_tourney_seeds.duplicated().sum()"
   ]
  },
  {
   "cell_type": "markdown",
   "id": "893a8104",
   "metadata": {
    "papermill": {
     "duration": 0.01653,
     "end_time": "2023-03-03T06:59:48.947804",
     "exception": false,
     "start_time": "2023-03-03T06:59:48.931274",
     "status": "completed"
    },
    "tags": []
   },
   "source": [
    "#### MRegularSeasonCompactResults.csv & WRegularSeasonCompactResults.csv\n",
    "\n",
    "These files identify the game-by-game results for many seasons of historical data, starting with the 1985 season for men (the first year the NCAA® had a 64-team men\"s tournament) and the 1998 season for women. For each season, the file includes all games played from DayNum 0 through 132. It is important to realize that the \"Regular Season\" games are simply defined to be all games played on DayNum=132 or earlier (DayNum=132 is Selection Sunday, and there are always a few conference tournament finals actually played early in the day on Selection Sunday itself). Thus a game played on or before Selection Sunday will show up here whether it was a pre-season tournament, a non-conference game, a regular conference game, a conference tournament game, or whatever.\n",
    "\n",
    "* **Season** - this is the year of the associated entry in MSeasons.csv or WSeasons.csv, namely the year in which the final tournament occurs. For example, during the 2016 season, there were regular season games played between November 2015 and March 2016, and all of those games will show up with a Season of 2016.\n",
    "* **DayNum** - this integer always ranges from 0 to 132, and tells you what day the game was played on. It represents an offset from the \"DayZero\" date in the \"MSeasons.csv\" or \"WSeasons.csv\" file. For example, the first game in the \"MRegularSeasonCompactResults.csv\" file was DayNum=20. Combined with the fact from the \"MSeasons.csv\" file that day zero was 10/29/1984 that year, this means the first game was played 20 days later, or 11/18/1984. There are no teams that ever played more than one game on a given date, so you can use this fact if you need a unique key (combining Season and DayNum and WTeamID). In order to accomplish this uniqueness, we had to adjust one game\"s date. In March 2008, the men\"s SEC postseason tournament had to reschedule one game (Georgia-Kentucky) to a subsequent day because of a tornado, so Georgia had to actually play two games on the same day. In order to enforce this uniqueness, we moved the game date for the Georgia-Kentucky game back to its original scheduled date.\n",
    "* **WTeamID** - this identifies the id number of the team that won the game, as listed in the \"MTeams.csv\" or \"WTeams.csv\" file. No matter whether the game was won by the home team or visiting team, or if it was a neutral-site game, the \"WTeamID\" always identifies the winning team. Please note that in this case the \"W\" in \"WTeamID does not refer to women\"s data; the \"W\" is for \"winning\". Both the men\"s data and women\"s data will identify the winning team id by this WTeamID column. The same note applies to WScore and WLoc below - these are \"W\" for \"winning\" and not for \"women\"s\".\n",
    "* **WScore** - this identifies the number of points scored by the winning team.\n",
    "* **LTeamID** - this identifies the id number of the team that lost the game.\n",
    "* **LScore** - this identifies the number of points scored by the losing team. Thus you can be confident that WScore will be greater than LScore for all games listed.\n",
    "* **WLoc** - this identifies the \"location\" of the winning team. If the winning team was the home team, this value will be \"H\". If the winning team was the visiting (or \"away\") team, this value will be \"A\". If it was played on a neutral court, then this value will be \"N\". Sometimes it is unclear whether the site should be considered neutral, since it is near one team\"s home court, or even on their court during a tournament, but for this determination we have simply used the Kenneth Massey data in its current state, where the \"@\" sign is either listed with the winning team, the losing team, or neither team. If you would like to investigate this factor more closely, we invite you to explore Data Section 3, which provides the city that each game was played in, irrespective of whether it was considered to be a neutral site.\n",
    "* **NumOT** - this indicates the number of overtime periods in the game, an integer 0 or higher."
   ]
  },
  {
   "cell_type": "markdown",
   "id": "23114b53",
   "metadata": {
    "papermill": {
     "duration": 0.017627,
     "end_time": "2023-03-03T06:59:48.983781",
     "exception": false,
     "start_time": "2023-03-03T06:59:48.966154",
     "status": "completed"
    },
    "tags": []
   },
   "source": [
    "Concat men\"s and women\"s dataframes:"
   ]
  },
  {
   "cell_type": "code",
   "execution_count": 7,
   "id": "f3982d45",
   "metadata": {
    "execution": {
     "iopub.execute_input": "2023-03-03T06:59:49.020555Z",
     "iopub.status.busy": "2023-03-03T06:59:49.019705Z",
     "iopub.status.idle": "2023-03-03T06:59:49.399820Z",
     "shell.execute_reply": "2023-03-03T06:59:49.398417Z"
    },
    "papermill": {
     "duration": 0.401843,
     "end_time": "2023-03-03T06:59:49.402924",
     "exception": false,
     "start_time": "2023-03-03T06:59:49.001081",
     "status": "completed"
    },
    "tags": []
   },
   "outputs": [
    {
     "data": {
      "text/html": [
       "<div>\n",
       "<style scoped>\n",
       "    .dataframe tbody tr th:only-of-type {\n",
       "        vertical-align: middle;\n",
       "    }\n",
       "\n",
       "    .dataframe tbody tr th {\n",
       "        vertical-align: top;\n",
       "    }\n",
       "\n",
       "    .dataframe thead th {\n",
       "        text-align: right;\n",
       "    }\n",
       "</style>\n",
       "<table border=\"1\" class=\"dataframe\">\n",
       "  <thead>\n",
       "    <tr style=\"text-align: right;\">\n",
       "      <th></th>\n",
       "      <th>Season</th>\n",
       "      <th>DayNum</th>\n",
       "      <th>WTeamID</th>\n",
       "      <th>WScore</th>\n",
       "      <th>LTeamID</th>\n",
       "      <th>LScore</th>\n",
       "      <th>WLoc</th>\n",
       "      <th>NumOT</th>\n",
       "    </tr>\n",
       "  </thead>\n",
       "  <tbody>\n",
       "    <tr>\n",
       "      <th>0</th>\n",
       "      <td>1985</td>\n",
       "      <td>20</td>\n",
       "      <td>1228</td>\n",
       "      <td>81</td>\n",
       "      <td>1328</td>\n",
       "      <td>64</td>\n",
       "      <td>N</td>\n",
       "      <td>0</td>\n",
       "    </tr>\n",
       "    <tr>\n",
       "      <th>1</th>\n",
       "      <td>1985</td>\n",
       "      <td>25</td>\n",
       "      <td>1106</td>\n",
       "      <td>77</td>\n",
       "      <td>1354</td>\n",
       "      <td>70</td>\n",
       "      <td>H</td>\n",
       "      <td>0</td>\n",
       "    </tr>\n",
       "    <tr>\n",
       "      <th>2</th>\n",
       "      <td>1985</td>\n",
       "      <td>25</td>\n",
       "      <td>1112</td>\n",
       "      <td>63</td>\n",
       "      <td>1223</td>\n",
       "      <td>56</td>\n",
       "      <td>H</td>\n",
       "      <td>0</td>\n",
       "    </tr>\n",
       "    <tr>\n",
       "      <th>3</th>\n",
       "      <td>1985</td>\n",
       "      <td>25</td>\n",
       "      <td>1165</td>\n",
       "      <td>70</td>\n",
       "      <td>1432</td>\n",
       "      <td>54</td>\n",
       "      <td>H</td>\n",
       "      <td>0</td>\n",
       "    </tr>\n",
       "    <tr>\n",
       "      <th>4</th>\n",
       "      <td>1985</td>\n",
       "      <td>25</td>\n",
       "      <td>1192</td>\n",
       "      <td>86</td>\n",
       "      <td>1447</td>\n",
       "      <td>74</td>\n",
       "      <td>H</td>\n",
       "      <td>0</td>\n",
       "    </tr>\n",
       "  </tbody>\n",
       "</table>\n",
       "</div>"
      ],
      "text/plain": [
       "   Season  DayNum  WTeamID  WScore  LTeamID  LScore WLoc  NumOT\n",
       "0    1985      20     1228      81     1328      64    N      0\n",
       "1    1985      25     1106      77     1354      70    H      0\n",
       "2    1985      25     1112      63     1223      56    H      0\n",
       "3    1985      25     1165      70     1432      54    H      0\n",
       "4    1985      25     1192      86     1447      74    H      0"
      ]
     },
     "execution_count": 7,
     "metadata": {},
     "output_type": "execute_result"
    }
   ],
   "source": [
    "dfs = [\"MRegularSeasonCompactResults.csv\", \"WRegularSeasonCompactResults.csv\"]\n",
    "\n",
    "df_regular_season_results = concat_dfs(dfs)\n",
    "\n",
    "df_regular_season_results.head()"
   ]
  },
  {
   "cell_type": "markdown",
   "id": "aae4b865",
   "metadata": {
    "papermill": {
     "duration": 0.01647,
     "end_time": "2023-03-03T06:59:49.436498",
     "exception": false,
     "start_time": "2023-03-03T06:59:49.420028",
     "status": "completed"
    },
    "tags": []
   },
   "source": [
    "```NumOT``` & ```WLoc``` doesn\"t seem important for predicting outcomes of games given we are not predicting with knowledge of the home court advantage. Drop them:"
   ]
  },
  {
   "cell_type": "code",
   "execution_count": 8,
   "id": "fc85ec96",
   "metadata": {
    "execution": {
     "iopub.execute_input": "2023-03-03T06:59:49.472081Z",
     "iopub.status.busy": "2023-03-03T06:59:49.471594Z",
     "iopub.status.idle": "2023-03-03T06:59:49.519179Z",
     "shell.execute_reply": "2023-03-03T06:59:49.517619Z"
    },
    "papermill": {
     "duration": 0.068927,
     "end_time": "2023-03-03T06:59:49.522236",
     "exception": false,
     "start_time": "2023-03-03T06:59:49.453309",
     "status": "completed"
    },
    "tags": []
   },
   "outputs": [
    {
     "data": {
      "text/html": [
       "<div>\n",
       "<style scoped>\n",
       "    .dataframe tbody tr th:only-of-type {\n",
       "        vertical-align: middle;\n",
       "    }\n",
       "\n",
       "    .dataframe tbody tr th {\n",
       "        vertical-align: top;\n",
       "    }\n",
       "\n",
       "    .dataframe thead th {\n",
       "        text-align: right;\n",
       "    }\n",
       "</style>\n",
       "<table border=\"1\" class=\"dataframe\">\n",
       "  <thead>\n",
       "    <tr style=\"text-align: right;\">\n",
       "      <th></th>\n",
       "      <th>Season</th>\n",
       "      <th>DayNum</th>\n",
       "      <th>WTeamID</th>\n",
       "      <th>WScore</th>\n",
       "      <th>LTeamID</th>\n",
       "      <th>LScore</th>\n",
       "    </tr>\n",
       "  </thead>\n",
       "  <tbody>\n",
       "    <tr>\n",
       "      <th>0</th>\n",
       "      <td>1985</td>\n",
       "      <td>20</td>\n",
       "      <td>1228</td>\n",
       "      <td>81</td>\n",
       "      <td>1328</td>\n",
       "      <td>64</td>\n",
       "    </tr>\n",
       "    <tr>\n",
       "      <th>1</th>\n",
       "      <td>1985</td>\n",
       "      <td>25</td>\n",
       "      <td>1106</td>\n",
       "      <td>77</td>\n",
       "      <td>1354</td>\n",
       "      <td>70</td>\n",
       "    </tr>\n",
       "    <tr>\n",
       "      <th>2</th>\n",
       "      <td>1985</td>\n",
       "      <td>25</td>\n",
       "      <td>1112</td>\n",
       "      <td>63</td>\n",
       "      <td>1223</td>\n",
       "      <td>56</td>\n",
       "    </tr>\n",
       "    <tr>\n",
       "      <th>3</th>\n",
       "      <td>1985</td>\n",
       "      <td>25</td>\n",
       "      <td>1165</td>\n",
       "      <td>70</td>\n",
       "      <td>1432</td>\n",
       "      <td>54</td>\n",
       "    </tr>\n",
       "    <tr>\n",
       "      <th>4</th>\n",
       "      <td>1985</td>\n",
       "      <td>25</td>\n",
       "      <td>1192</td>\n",
       "      <td>86</td>\n",
       "      <td>1447</td>\n",
       "      <td>74</td>\n",
       "    </tr>\n",
       "  </tbody>\n",
       "</table>\n",
       "</div>"
      ],
      "text/plain": [
       "   Season  DayNum  WTeamID  WScore  LTeamID  LScore\n",
       "0    1985      20     1228      81     1328      64\n",
       "1    1985      25     1106      77     1354      70\n",
       "2    1985      25     1112      63     1223      56\n",
       "3    1985      25     1165      70     1432      54\n",
       "4    1985      25     1192      86     1447      74"
      ]
     },
     "execution_count": 8,
     "metadata": {},
     "output_type": "execute_result"
    }
   ],
   "source": [
    "df_regular_season_results = df_regular_season_results.drop(columns=[\"NumOT\", \"WLoc\"])\n",
    "\n",
    "df_regular_season_results.head()"
   ]
  },
  {
   "cell_type": "markdown",
   "id": "8408e0b8",
   "metadata": {
    "papermill": {
     "duration": 0.017387,
     "end_time": "2023-03-03T06:59:49.557627",
     "exception": false,
     "start_time": "2023-03-03T06:59:49.540240",
     "status": "completed"
    },
    "tags": []
   },
   "source": [
    "#### Create additional features"
   ]
  },
  {
   "cell_type": "markdown",
   "id": "bfd506e1",
   "metadata": {
    "papermill": {
     "duration": 0.017553,
     "end_time": "2023-03-03T06:59:49.592448",
     "exception": false,
     "start_time": "2023-03-03T06:59:49.574895",
     "status": "completed"
    },
    "tags": []
   },
   "source": [
    "**Point differential (winning team\"s score - losing team\"s score)** is an important metric that measures the strength of the winning team; strong teams not only win, but win big. Create a new point differential feature on the ```df_regular_season_results``` dataframe:"
   ]
  },
  {
   "cell_type": "code",
   "execution_count": 9,
   "id": "2a730ec3",
   "metadata": {
    "execution": {
     "iopub.execute_input": "2023-03-03T06:59:49.629659Z",
     "iopub.status.busy": "2023-03-03T06:59:49.629001Z",
     "iopub.status.idle": "2023-03-03T06:59:49.646222Z",
     "shell.execute_reply": "2023-03-03T06:59:49.645051Z"
    },
    "papermill": {
     "duration": 0.038975,
     "end_time": "2023-03-03T06:59:49.649016",
     "exception": false,
     "start_time": "2023-03-03T06:59:49.610041",
     "status": "completed"
    },
    "tags": []
   },
   "outputs": [
    {
     "data": {
      "text/html": [
       "<div>\n",
       "<style scoped>\n",
       "    .dataframe tbody tr th:only-of-type {\n",
       "        vertical-align: middle;\n",
       "    }\n",
       "\n",
       "    .dataframe tbody tr th {\n",
       "        vertical-align: top;\n",
       "    }\n",
       "\n",
       "    .dataframe thead th {\n",
       "        text-align: right;\n",
       "    }\n",
       "</style>\n",
       "<table border=\"1\" class=\"dataframe\">\n",
       "  <thead>\n",
       "    <tr style=\"text-align: right;\">\n",
       "      <th></th>\n",
       "      <th>Season</th>\n",
       "      <th>DayNum</th>\n",
       "      <th>WTeamID</th>\n",
       "      <th>WScore</th>\n",
       "      <th>LTeamID</th>\n",
       "      <th>LScore</th>\n",
       "      <th>PointDiff</th>\n",
       "    </tr>\n",
       "  </thead>\n",
       "  <tbody>\n",
       "    <tr>\n",
       "      <th>0</th>\n",
       "      <td>1985</td>\n",
       "      <td>20</td>\n",
       "      <td>1228</td>\n",
       "      <td>81</td>\n",
       "      <td>1328</td>\n",
       "      <td>64</td>\n",
       "      <td>17</td>\n",
       "    </tr>\n",
       "    <tr>\n",
       "      <th>1</th>\n",
       "      <td>1985</td>\n",
       "      <td>25</td>\n",
       "      <td>1106</td>\n",
       "      <td>77</td>\n",
       "      <td>1354</td>\n",
       "      <td>70</td>\n",
       "      <td>7</td>\n",
       "    </tr>\n",
       "    <tr>\n",
       "      <th>2</th>\n",
       "      <td>1985</td>\n",
       "      <td>25</td>\n",
       "      <td>1112</td>\n",
       "      <td>63</td>\n",
       "      <td>1223</td>\n",
       "      <td>56</td>\n",
       "      <td>7</td>\n",
       "    </tr>\n",
       "    <tr>\n",
       "      <th>3</th>\n",
       "      <td>1985</td>\n",
       "      <td>25</td>\n",
       "      <td>1165</td>\n",
       "      <td>70</td>\n",
       "      <td>1432</td>\n",
       "      <td>54</td>\n",
       "      <td>16</td>\n",
       "    </tr>\n",
       "    <tr>\n",
       "      <th>4</th>\n",
       "      <td>1985</td>\n",
       "      <td>25</td>\n",
       "      <td>1192</td>\n",
       "      <td>86</td>\n",
       "      <td>1447</td>\n",
       "      <td>74</td>\n",
       "      <td>12</td>\n",
       "    </tr>\n",
       "  </tbody>\n",
       "</table>\n",
       "</div>"
      ],
      "text/plain": [
       "   Season  DayNum  WTeamID  WScore  LTeamID  LScore  PointDiff\n",
       "0    1985      20     1228      81     1328      64         17\n",
       "1    1985      25     1106      77     1354      70          7\n",
       "2    1985      25     1112      63     1223      56          7\n",
       "3    1985      25     1165      70     1432      54         16\n",
       "4    1985      25     1192      86     1447      74         12"
      ]
     },
     "execution_count": 9,
     "metadata": {},
     "output_type": "execute_result"
    }
   ],
   "source": [
    "df_regular_season_results[\"PointDiff\"] = df_regular_season_results[\"WScore\"] - df_regular_season_results[\"LScore\"]\n",
    "\n",
    "df_regular_season_results.head()"
   ]
  },
  {
   "cell_type": "markdown",
   "id": "9dae6a4b",
   "metadata": {
    "papermill": {
     "duration": 0.016979,
     "end_time": "2023-03-03T06:59:49.683605",
     "exception": false,
     "start_time": "2023-03-03T06:59:49.666626",
     "status": "completed"
    },
    "tags": []
   },
   "source": [
    "Check for missing values:"
   ]
  },
  {
   "cell_type": "code",
   "execution_count": 10,
   "id": "b1328ba3",
   "metadata": {
    "execution": {
     "iopub.execute_input": "2023-03-03T06:59:49.721215Z",
     "iopub.status.busy": "2023-03-03T06:59:49.720236Z",
     "iopub.status.idle": "2023-03-03T06:59:49.734108Z",
     "shell.execute_reply": "2023-03-03T06:59:49.732845Z"
    },
    "papermill": {
     "duration": 0.036383,
     "end_time": "2023-03-03T06:59:49.737211",
     "exception": false,
     "start_time": "2023-03-03T06:59:49.700828",
     "status": "completed"
    },
    "tags": []
   },
   "outputs": [
    {
     "data": {
      "text/plain": [
       "Season       0\n",
       "DayNum       0\n",
       "WTeamID      0\n",
       "WScore       0\n",
       "LTeamID      0\n",
       "LScore       0\n",
       "PointDiff    0\n",
       "dtype: int64"
      ]
     },
     "execution_count": 10,
     "metadata": {},
     "output_type": "execute_result"
    }
   ],
   "source": [
    "df_regular_season_results.isnull().sum()"
   ]
  },
  {
   "cell_type": "markdown",
   "id": "72d0bf59",
   "metadata": {
    "papermill": {
     "duration": 0.017007,
     "end_time": "2023-03-03T06:59:49.771742",
     "exception": false,
     "start_time": "2023-03-03T06:59:49.754735",
     "status": "completed"
    },
    "tags": []
   },
   "source": [
    "Check for duplicated values:"
   ]
  },
  {
   "cell_type": "code",
   "execution_count": 11,
   "id": "cec47675",
   "metadata": {
    "execution": {
     "iopub.execute_input": "2023-03-03T06:59:49.810033Z",
     "iopub.status.busy": "2023-03-03T06:59:49.808578Z",
     "iopub.status.idle": "2023-03-03T06:59:49.881926Z",
     "shell.execute_reply": "2023-03-03T06:59:49.880575Z"
    },
    "papermill": {
     "duration": 0.095485,
     "end_time": "2023-03-03T06:59:49.884756",
     "exception": false,
     "start_time": "2023-03-03T06:59:49.789271",
     "status": "completed"
    },
    "tags": []
   },
   "outputs": [
    {
     "data": {
      "text/plain": [
       "0"
      ]
     },
     "execution_count": 11,
     "metadata": {},
     "output_type": "execute_result"
    }
   ],
   "source": [
    "df_regular_season_results.duplicated().sum()"
   ]
  },
  {
   "cell_type": "markdown",
   "id": "d8f69c9c",
   "metadata": {
    "papermill": {
     "duration": 0.017024,
     "end_time": "2023-03-03T06:59:49.919305",
     "exception": false,
     "start_time": "2023-03-03T06:59:49.902281",
     "status": "completed"
    },
    "tags": []
   },
   "source": [
    "**Total number of wins per season for each team:**"
   ]
  },
  {
   "cell_type": "code",
   "execution_count": 12,
   "id": "53a9a45f",
   "metadata": {
    "execution": {
     "iopub.execute_input": "2023-03-03T06:59:49.957113Z",
     "iopub.status.busy": "2023-03-03T06:59:49.956640Z",
     "iopub.status.idle": "2023-03-03T06:59:50.038534Z",
     "shell.execute_reply": "2023-03-03T06:59:50.037049Z"
    },
    "papermill": {
     "duration": 0.10395,
     "end_time": "2023-03-03T06:59:50.041503",
     "exception": false,
     "start_time": "2023-03-03T06:59:49.937553",
     "status": "completed"
    },
    "tags": []
   },
   "outputs": [
    {
     "data": {
      "text/html": [
       "<div>\n",
       "<style scoped>\n",
       "    .dataframe tbody tr th:only-of-type {\n",
       "        vertical-align: middle;\n",
       "    }\n",
       "\n",
       "    .dataframe tbody tr th {\n",
       "        vertical-align: top;\n",
       "    }\n",
       "\n",
       "    .dataframe thead th {\n",
       "        text-align: right;\n",
       "    }\n",
       "</style>\n",
       "<table border=\"1\" class=\"dataframe\">\n",
       "  <thead>\n",
       "    <tr style=\"text-align: right;\">\n",
       "      <th></th>\n",
       "      <th>Season</th>\n",
       "      <th>TeamID</th>\n",
       "      <th>TotalWins</th>\n",
       "    </tr>\n",
       "  </thead>\n",
       "  <tbody>\n",
       "    <tr>\n",
       "      <th>0</th>\n",
       "      <td>1985</td>\n",
       "      <td>1102</td>\n",
       "      <td>5</td>\n",
       "    </tr>\n",
       "    <tr>\n",
       "      <th>1</th>\n",
       "      <td>1985</td>\n",
       "      <td>1103</td>\n",
       "      <td>9</td>\n",
       "    </tr>\n",
       "    <tr>\n",
       "      <th>2</th>\n",
       "      <td>1985</td>\n",
       "      <td>1104</td>\n",
       "      <td>21</td>\n",
       "    </tr>\n",
       "    <tr>\n",
       "      <th>3</th>\n",
       "      <td>1985</td>\n",
       "      <td>1106</td>\n",
       "      <td>10</td>\n",
       "    </tr>\n",
       "    <tr>\n",
       "      <th>4</th>\n",
       "      <td>1985</td>\n",
       "      <td>1108</td>\n",
       "      <td>19</td>\n",
       "    </tr>\n",
       "  </tbody>\n",
       "</table>\n",
       "</div>"
      ],
      "text/plain": [
       "   Season  TeamID  TotalWins\n",
       "0    1985    1102          5\n",
       "1    1985    1103          9\n",
       "2    1985    1104         21\n",
       "3    1985    1106         10\n",
       "4    1985    1108         19"
      ]
     },
     "execution_count": 12,
     "metadata": {},
     "output_type": "execute_result"
    }
   ],
   "source": [
    "total_wins = df_regular_season_results.groupby([\"Season\", \"WTeamID\"]).count()\n",
    "total_wins = total_wins.reset_index()[[\"Season\", \"WTeamID\", \"DayNum\"]].rename(columns={\"DayNum\": \"TotalWins\", \"WTeamID\": \"TeamID\"})\n",
    "\n",
    "total_wins.head()"
   ]
  },
  {
   "cell_type": "markdown",
   "id": "5ce2e799",
   "metadata": {
    "papermill": {
     "duration": 0.017501,
     "end_time": "2023-03-03T06:59:50.077042",
     "exception": false,
     "start_time": "2023-03-03T06:59:50.059541",
     "status": "completed"
    },
    "tags": []
   },
   "source": [
    "**Total number of losses per season for each team:**"
   ]
  },
  {
   "cell_type": "code",
   "execution_count": 13,
   "id": "ecffeabe",
   "metadata": {
    "execution": {
     "iopub.execute_input": "2023-03-03T06:59:50.115497Z",
     "iopub.status.busy": "2023-03-03T06:59:50.114428Z",
     "iopub.status.idle": "2023-03-03T06:59:50.161275Z",
     "shell.execute_reply": "2023-03-03T06:59:50.160274Z"
    },
    "papermill": {
     "duration": 0.068855,
     "end_time": "2023-03-03T06:59:50.163686",
     "exception": false,
     "start_time": "2023-03-03T06:59:50.094831",
     "status": "completed"
    },
    "tags": []
   },
   "outputs": [
    {
     "data": {
      "text/html": [
       "<div>\n",
       "<style scoped>\n",
       "    .dataframe tbody tr th:only-of-type {\n",
       "        vertical-align: middle;\n",
       "    }\n",
       "\n",
       "    .dataframe tbody tr th {\n",
       "        vertical-align: top;\n",
       "    }\n",
       "\n",
       "    .dataframe thead th {\n",
       "        text-align: right;\n",
       "    }\n",
       "</style>\n",
       "<table border=\"1\" class=\"dataframe\">\n",
       "  <thead>\n",
       "    <tr style=\"text-align: right;\">\n",
       "      <th></th>\n",
       "      <th>Season</th>\n",
       "      <th>TeamID</th>\n",
       "      <th>TotalLosses</th>\n",
       "    </tr>\n",
       "  </thead>\n",
       "  <tbody>\n",
       "    <tr>\n",
       "      <th>0</th>\n",
       "      <td>1985</td>\n",
       "      <td>1102</td>\n",
       "      <td>19</td>\n",
       "    </tr>\n",
       "    <tr>\n",
       "      <th>1</th>\n",
       "      <td>1985</td>\n",
       "      <td>1103</td>\n",
       "      <td>14</td>\n",
       "    </tr>\n",
       "    <tr>\n",
       "      <th>2</th>\n",
       "      <td>1985</td>\n",
       "      <td>1104</td>\n",
       "      <td>9</td>\n",
       "    </tr>\n",
       "    <tr>\n",
       "      <th>3</th>\n",
       "      <td>1985</td>\n",
       "      <td>1106</td>\n",
       "      <td>14</td>\n",
       "    </tr>\n",
       "    <tr>\n",
       "      <th>4</th>\n",
       "      <td>1985</td>\n",
       "      <td>1108</td>\n",
       "      <td>6</td>\n",
       "    </tr>\n",
       "  </tbody>\n",
       "</table>\n",
       "</div>"
      ],
      "text/plain": [
       "   Season  TeamID  TotalLosses\n",
       "0    1985    1102           19\n",
       "1    1985    1103           14\n",
       "2    1985    1104            9\n",
       "3    1985    1106           14\n",
       "4    1985    1108            6"
      ]
     },
     "execution_count": 13,
     "metadata": {},
     "output_type": "execute_result"
    }
   ],
   "source": [
    "total_losses = df_regular_season_results.groupby([\"Season\", \"LTeamID\"]).count()\n",
    "total_losses = total_losses.reset_index()[[\"Season\", \"LTeamID\", \"DayNum\"]].rename(columns={\"DayNum\": \"TotalLosses\", \"LTeamID\": \"TeamID\"})\n",
    "\n",
    "total_losses.head()"
   ]
  },
  {
   "cell_type": "markdown",
   "id": "17a4ceed",
   "metadata": {
    "papermill": {
     "duration": 0.017587,
     "end_time": "2023-03-03T06:59:50.199287",
     "exception": false,
     "start_time": "2023-03-03T06:59:50.181700",
     "status": "completed"
    },
    "tags": []
   },
   "source": [
    "**Median Win Point Differential:**"
   ]
  },
  {
   "cell_type": "code",
   "execution_count": 14,
   "id": "8b7e6a90",
   "metadata": {
    "execution": {
     "iopub.execute_input": "2023-03-03T06:59:50.237970Z",
     "iopub.status.busy": "2023-03-03T06:59:50.237437Z",
     "iopub.status.idle": "2023-03-03T06:59:50.336241Z",
     "shell.execute_reply": "2023-03-03T06:59:50.335159Z"
    },
    "papermill": {
     "duration": 0.121136,
     "end_time": "2023-03-03T06:59:50.338938",
     "exception": false,
     "start_time": "2023-03-03T06:59:50.217802",
     "status": "completed"
    },
    "tags": []
   },
   "outputs": [
    {
     "data": {
      "text/html": [
       "<div>\n",
       "<style scoped>\n",
       "    .dataframe tbody tr th:only-of-type {\n",
       "        vertical-align: middle;\n",
       "    }\n",
       "\n",
       "    .dataframe tbody tr th {\n",
       "        vertical-align: top;\n",
       "    }\n",
       "\n",
       "    .dataframe thead th {\n",
       "        text-align: right;\n",
       "    }\n",
       "</style>\n",
       "<table border=\"1\" class=\"dataframe\">\n",
       "  <thead>\n",
       "    <tr style=\"text-align: right;\">\n",
       "      <th></th>\n",
       "      <th>Season</th>\n",
       "      <th>TeamID</th>\n",
       "      <th>WinPointsDiff</th>\n",
       "    </tr>\n",
       "  </thead>\n",
       "  <tbody>\n",
       "    <tr>\n",
       "      <th>0</th>\n",
       "      <td>1985</td>\n",
       "      <td>1102</td>\n",
       "      <td>4.0</td>\n",
       "    </tr>\n",
       "    <tr>\n",
       "      <th>1</th>\n",
       "      <td>1985</td>\n",
       "      <td>1103</td>\n",
       "      <td>7.0</td>\n",
       "    </tr>\n",
       "    <tr>\n",
       "      <th>2</th>\n",
       "      <td>1985</td>\n",
       "      <td>1104</td>\n",
       "      <td>13.0</td>\n",
       "    </tr>\n",
       "    <tr>\n",
       "      <th>3</th>\n",
       "      <td>1985</td>\n",
       "      <td>1106</td>\n",
       "      <td>5.5</td>\n",
       "    </tr>\n",
       "    <tr>\n",
       "      <th>4</th>\n",
       "      <td>1985</td>\n",
       "      <td>1108</td>\n",
       "      <td>14.0</td>\n",
       "    </tr>\n",
       "  </tbody>\n",
       "</table>\n",
       "</div>"
      ],
      "text/plain": [
       "   Season  TeamID  WinPointsDiff\n",
       "0    1985    1102            4.0\n",
       "1    1985    1103            7.0\n",
       "2    1985    1104           13.0\n",
       "3    1985    1106            5.5\n",
       "4    1985    1108           14.0"
      ]
     },
     "execution_count": 14,
     "metadata": {},
     "output_type": "execute_result"
    }
   ],
   "source": [
    "median_win_point_diff = df_regular_season_results.groupby([\"Season\", \"WTeamID\"]).median() # median instead of mean to better filter outliers\n",
    "median_win_point_diff = median_win_point_diff.reset_index()[[\"Season\", \"WTeamID\", \"PointDiff\"]].rename(columns={\"WTeamID\" : \"TeamID\", \"PointDiff\" : \"WinPointsDiff\"})\n",
    "\n",
    "median_win_point_diff.head()"
   ]
  },
  {
   "cell_type": "markdown",
   "id": "f68b7334",
   "metadata": {
    "papermill": {
     "duration": 0.017875,
     "end_time": "2023-03-03T06:59:50.375520",
     "exception": false,
     "start_time": "2023-03-03T06:59:50.357645",
     "status": "completed"
    },
    "tags": []
   },
   "source": [
    "**Median Loss Point Differential:**"
   ]
  },
  {
   "cell_type": "code",
   "execution_count": 15,
   "id": "82faeb0d",
   "metadata": {
    "execution": {
     "iopub.execute_input": "2023-03-03T06:59:50.415356Z",
     "iopub.status.busy": "2023-03-03T06:59:50.414394Z",
     "iopub.status.idle": "2023-03-03T06:59:50.517564Z",
     "shell.execute_reply": "2023-03-03T06:59:50.516134Z"
    },
    "papermill": {
     "duration": 0.126536,
     "end_time": "2023-03-03T06:59:50.520811",
     "exception": false,
     "start_time": "2023-03-03T06:59:50.394275",
     "status": "completed"
    },
    "tags": []
   },
   "outputs": [
    {
     "data": {
      "text/html": [
       "<div>\n",
       "<style scoped>\n",
       "    .dataframe tbody tr th:only-of-type {\n",
       "        vertical-align: middle;\n",
       "    }\n",
       "\n",
       "    .dataframe tbody tr th {\n",
       "        vertical-align: top;\n",
       "    }\n",
       "\n",
       "    .dataframe thead th {\n",
       "        text-align: right;\n",
       "    }\n",
       "</style>\n",
       "<table border=\"1\" class=\"dataframe\">\n",
       "  <thead>\n",
       "    <tr style=\"text-align: right;\">\n",
       "      <th></th>\n",
       "      <th>Season</th>\n",
       "      <th>TeamID</th>\n",
       "      <th>LossPointsDiff</th>\n",
       "    </tr>\n",
       "  </thead>\n",
       "  <tbody>\n",
       "    <tr>\n",
       "      <th>0</th>\n",
       "      <td>1985</td>\n",
       "      <td>1102</td>\n",
       "      <td>9.0</td>\n",
       "    </tr>\n",
       "    <tr>\n",
       "      <th>1</th>\n",
       "      <td>1985</td>\n",
       "      <td>1103</td>\n",
       "      <td>9.5</td>\n",
       "    </tr>\n",
       "    <tr>\n",
       "      <th>2</th>\n",
       "      <td>1985</td>\n",
       "      <td>1104</td>\n",
       "      <td>4.0</td>\n",
       "    </tr>\n",
       "    <tr>\n",
       "      <th>3</th>\n",
       "      <td>1985</td>\n",
       "      <td>1106</td>\n",
       "      <td>10.5</td>\n",
       "    </tr>\n",
       "    <tr>\n",
       "      <th>4</th>\n",
       "      <td>1985</td>\n",
       "      <td>1108</td>\n",
       "      <td>12.5</td>\n",
       "    </tr>\n",
       "  </tbody>\n",
       "</table>\n",
       "</div>"
      ],
      "text/plain": [
       "   Season  TeamID  LossPointsDiff\n",
       "0    1985    1102             9.0\n",
       "1    1985    1103             9.5\n",
       "2    1985    1104             4.0\n",
       "3    1985    1106            10.5\n",
       "4    1985    1108            12.5"
      ]
     },
     "execution_count": 15,
     "metadata": {},
     "output_type": "execute_result"
    }
   ],
   "source": [
    "median_loss_point_diff = df_regular_season_results.groupby([\"Season\", \"LTeamID\"]).median() # median instead of mean to better filter outliers\n",
    "median_loss_point_diff = median_loss_point_diff.reset_index()[[\"Season\", \"LTeamID\", \"PointDiff\"]].rename(columns={\"LTeamID\" : \"TeamID\", \"PointDiff\" : \"LossPointsDiff\"})\n",
    "\n",
    "median_loss_point_diff.head()"
   ]
  },
  {
   "cell_type": "markdown",
   "id": "d46e919a",
   "metadata": {
    "papermill": {
     "duration": 0.01797,
     "end_time": "2023-03-03T06:59:50.557426",
     "exception": false,
     "start_time": "2023-03-03T06:59:50.539456",
     "status": "completed"
    },
    "tags": []
   },
   "source": [
    "Merge new features into one dataframe:"
   ]
  },
  {
   "cell_type": "code",
   "execution_count": 16,
   "id": "ce250dbf",
   "metadata": {
    "execution": {
     "iopub.execute_input": "2023-03-03T06:59:50.597462Z",
     "iopub.status.busy": "2023-03-03T06:59:50.596409Z",
     "iopub.status.idle": "2023-03-03T06:59:50.742900Z",
     "shell.execute_reply": "2023-03-03T06:59:50.741532Z"
    },
    "papermill": {
     "duration": 0.169342,
     "end_time": "2023-03-03T06:59:50.745729",
     "exception": false,
     "start_time": "2023-03-03T06:59:50.576387",
     "status": "completed"
    },
    "tags": []
   },
   "outputs": [
    {
     "data": {
      "text/html": [
       "<div>\n",
       "<style scoped>\n",
       "    .dataframe tbody tr th:only-of-type {\n",
       "        vertical-align: middle;\n",
       "    }\n",
       "\n",
       "    .dataframe tbody tr th {\n",
       "        vertical-align: top;\n",
       "    }\n",
       "\n",
       "    .dataframe thead th {\n",
       "        text-align: right;\n",
       "    }\n",
       "</style>\n",
       "<table border=\"1\" class=\"dataframe\">\n",
       "  <thead>\n",
       "    <tr style=\"text-align: right;\">\n",
       "      <th></th>\n",
       "      <th>Season</th>\n",
       "      <th>TeamID</th>\n",
       "      <th>LossPointsDiff</th>\n",
       "      <th>WinPointsDiff</th>\n",
       "      <th>TotalLosses</th>\n",
       "      <th>TotalWins</th>\n",
       "    </tr>\n",
       "  </thead>\n",
       "  <tbody>\n",
       "    <tr>\n",
       "      <th>0</th>\n",
       "      <td>1985</td>\n",
       "      <td>1102</td>\n",
       "      <td>9.0</td>\n",
       "      <td>4.0</td>\n",
       "      <td>19</td>\n",
       "      <td>5</td>\n",
       "    </tr>\n",
       "    <tr>\n",
       "      <th>1</th>\n",
       "      <td>1985</td>\n",
       "      <td>1103</td>\n",
       "      <td>9.5</td>\n",
       "      <td>7.0</td>\n",
       "      <td>14</td>\n",
       "      <td>9</td>\n",
       "    </tr>\n",
       "    <tr>\n",
       "      <th>2</th>\n",
       "      <td>1985</td>\n",
       "      <td>1104</td>\n",
       "      <td>4.0</td>\n",
       "      <td>13.0</td>\n",
       "      <td>9</td>\n",
       "      <td>21</td>\n",
       "    </tr>\n",
       "    <tr>\n",
       "      <th>3</th>\n",
       "      <td>1985</td>\n",
       "      <td>1106</td>\n",
       "      <td>10.5</td>\n",
       "      <td>5.5</td>\n",
       "      <td>14</td>\n",
       "      <td>10</td>\n",
       "    </tr>\n",
       "    <tr>\n",
       "      <th>4</th>\n",
       "      <td>1985</td>\n",
       "      <td>1108</td>\n",
       "      <td>12.5</td>\n",
       "      <td>14.0</td>\n",
       "      <td>6</td>\n",
       "      <td>19</td>\n",
       "    </tr>\n",
       "  </tbody>\n",
       "</table>\n",
       "</div>"
      ],
      "text/plain": [
       "   Season  TeamID  LossPointsDiff  WinPointsDiff  TotalLosses  TotalWins\n",
       "0    1985    1102             9.0            4.0           19          5\n",
       "1    1985    1103             9.5            7.0           14          9\n",
       "2    1985    1104             4.0           13.0            9         21\n",
       "3    1985    1106            10.5            5.5           14         10\n",
       "4    1985    1108            12.5           14.0            6         19"
      ]
     },
     "execution_count": 16,
     "metadata": {},
     "output_type": "execute_result"
    }
   ],
   "source": [
    "df_regular_season_w = df_regular_season_results.groupby([\"Season\", \"WTeamID\"]).count().reset_index()[[\"Season\", \"WTeamID\"]].rename(columns={\"WTeamID\": \"TeamID\"})\n",
    "df_regular_season_l = df_regular_season_results.groupby([\"Season\", \"LTeamID\"]).count().reset_index()[[\"Season\", \"LTeamID\"]].rename(columns={\"LTeamID\": \"TeamID\"})\n",
    "\n",
    "dfs = [df_regular_season_w, df_regular_season_l]\n",
    "\n",
    "df_regular_season_merged = concat_dfs(dfs).drop_duplicates().sort_values([\"Season\", \"TeamID\"]).reset_index(drop=True)\n",
    "\n",
    "dfs_to_merge = [median_loss_point_diff, median_win_point_diff, total_losses, total_wins]\n",
    "merge_on = [\"Season\", \"TeamID\"]\n",
    "\n",
    "for df_to_merge in dfs_to_merge:\n",
    "    df_regular_season_merged = df_regular_season_merged.merge(df_to_merge, on=merge_on)\n",
    "    \n",
    "df_regular_season_merged.head()"
   ]
  },
  {
   "cell_type": "markdown",
   "id": "fb144e11",
   "metadata": {
    "papermill": {
     "duration": 0.017971,
     "end_time": "2023-03-03T06:59:50.782048",
     "exception": false,
     "start_time": "2023-03-03T06:59:50.764077",
     "status": "completed"
    },
    "tags": []
   },
   "source": [
    "#### Create additional summary features:"
   ]
  },
  {
   "cell_type": "markdown",
   "id": "217c0b53",
   "metadata": {
    "papermill": {
     "duration": 0.018901,
     "end_time": "2023-03-03T06:59:50.819451",
     "exception": false,
     "start_time": "2023-03-03T06:59:50.800550",
     "status": "completed"
    },
    "tags": []
   },
   "source": [
    "**Win Rate (```TotalWins``` / Total oppurtunities for wins)**"
   ]
  },
  {
   "cell_type": "code",
   "execution_count": 17,
   "id": "7f6793ba",
   "metadata": {
    "execution": {
     "iopub.execute_input": "2023-03-03T06:59:50.860303Z",
     "iopub.status.busy": "2023-03-03T06:59:50.858852Z",
     "iopub.status.idle": "2023-03-03T06:59:50.877563Z",
     "shell.execute_reply": "2023-03-03T06:59:50.876034Z"
    },
    "papermill": {
     "duration": 0.041757,
     "end_time": "2023-03-03T06:59:50.880299",
     "exception": false,
     "start_time": "2023-03-03T06:59:50.838542",
     "status": "completed"
    },
    "tags": []
   },
   "outputs": [
    {
     "data": {
      "text/html": [
       "<div>\n",
       "<style scoped>\n",
       "    .dataframe tbody tr th:only-of-type {\n",
       "        vertical-align: middle;\n",
       "    }\n",
       "\n",
       "    .dataframe tbody tr th {\n",
       "        vertical-align: top;\n",
       "    }\n",
       "\n",
       "    .dataframe thead th {\n",
       "        text-align: right;\n",
       "    }\n",
       "</style>\n",
       "<table border=\"1\" class=\"dataframe\">\n",
       "  <thead>\n",
       "    <tr style=\"text-align: right;\">\n",
       "      <th></th>\n",
       "      <th>Season</th>\n",
       "      <th>TeamID</th>\n",
       "      <th>LossPointsDiff</th>\n",
       "      <th>WinPointsDiff</th>\n",
       "      <th>TotalLosses</th>\n",
       "      <th>TotalWins</th>\n",
       "      <th>WinRate</th>\n",
       "    </tr>\n",
       "  </thead>\n",
       "  <tbody>\n",
       "    <tr>\n",
       "      <th>0</th>\n",
       "      <td>1985</td>\n",
       "      <td>1102</td>\n",
       "      <td>9.0</td>\n",
       "      <td>4.0</td>\n",
       "      <td>19</td>\n",
       "      <td>5</td>\n",
       "      <td>0.208333</td>\n",
       "    </tr>\n",
       "    <tr>\n",
       "      <th>1</th>\n",
       "      <td>1985</td>\n",
       "      <td>1103</td>\n",
       "      <td>9.5</td>\n",
       "      <td>7.0</td>\n",
       "      <td>14</td>\n",
       "      <td>9</td>\n",
       "      <td>0.391304</td>\n",
       "    </tr>\n",
       "    <tr>\n",
       "      <th>2</th>\n",
       "      <td>1985</td>\n",
       "      <td>1104</td>\n",
       "      <td>4.0</td>\n",
       "      <td>13.0</td>\n",
       "      <td>9</td>\n",
       "      <td>21</td>\n",
       "      <td>0.700000</td>\n",
       "    </tr>\n",
       "    <tr>\n",
       "      <th>3</th>\n",
       "      <td>1985</td>\n",
       "      <td>1106</td>\n",
       "      <td>10.5</td>\n",
       "      <td>5.5</td>\n",
       "      <td>14</td>\n",
       "      <td>10</td>\n",
       "      <td>0.416667</td>\n",
       "    </tr>\n",
       "    <tr>\n",
       "      <th>4</th>\n",
       "      <td>1985</td>\n",
       "      <td>1108</td>\n",
       "      <td>12.5</td>\n",
       "      <td>14.0</td>\n",
       "      <td>6</td>\n",
       "      <td>19</td>\n",
       "      <td>0.760000</td>\n",
       "    </tr>\n",
       "  </tbody>\n",
       "</table>\n",
       "</div>"
      ],
      "text/plain": [
       "   Season  TeamID  LossPointsDiff  WinPointsDiff  TotalLosses  TotalWins  \\\n",
       "0    1985    1102             9.0            4.0           19          5   \n",
       "1    1985    1103             9.5            7.0           14          9   \n",
       "2    1985    1104             4.0           13.0            9         21   \n",
       "3    1985    1106            10.5            5.5           14         10   \n",
       "4    1985    1108            12.5           14.0            6         19   \n",
       "\n",
       "    WinRate  \n",
       "0  0.208333  \n",
       "1  0.391304  \n",
       "2  0.700000  \n",
       "3  0.416667  \n",
       "4  0.760000  "
      ]
     },
     "execution_count": 17,
     "metadata": {},
     "output_type": "execute_result"
    }
   ],
   "source": [
    "df_regular_season_merged[\"WinRate\"] = df_regular_season_merged[\"TotalWins\"] / ((df_regular_season_merged[\"TotalWins\"] + df_regular_season_merged[\"TotalLosses\"]))\n",
    "\n",
    "df_regular_season_merged.head()"
   ]
  },
  {
   "cell_type": "markdown",
   "id": "0e7e8b7d",
   "metadata": {
    "papermill": {
     "duration": 0.018897,
     "end_time": "2023-03-03T06:59:50.918369",
     "exception": false,
     "start_time": "2023-03-03T06:59:50.899472",
     "status": "completed"
    },
    "tags": []
   },
   "source": [
    "Drop ```TotalWins``` & ```TotalLosses``` since ```WinRate``` captures both of these:"
   ]
  },
  {
   "cell_type": "code",
   "execution_count": 18,
   "id": "31f8852a",
   "metadata": {
    "execution": {
     "iopub.execute_input": "2023-03-03T06:59:50.961459Z",
     "iopub.status.busy": "2023-03-03T06:59:50.960193Z",
     "iopub.status.idle": "2023-03-03T06:59:50.979579Z",
     "shell.execute_reply": "2023-03-03T06:59:50.978097Z"
    },
    "papermill": {
     "duration": 0.044297,
     "end_time": "2023-03-03T06:59:50.982554",
     "exception": false,
     "start_time": "2023-03-03T06:59:50.938257",
     "status": "completed"
    },
    "tags": []
   },
   "outputs": [
    {
     "data": {
      "text/html": [
       "<div>\n",
       "<style scoped>\n",
       "    .dataframe tbody tr th:only-of-type {\n",
       "        vertical-align: middle;\n",
       "    }\n",
       "\n",
       "    .dataframe tbody tr th {\n",
       "        vertical-align: top;\n",
       "    }\n",
       "\n",
       "    .dataframe thead th {\n",
       "        text-align: right;\n",
       "    }\n",
       "</style>\n",
       "<table border=\"1\" class=\"dataframe\">\n",
       "  <thead>\n",
       "    <tr style=\"text-align: right;\">\n",
       "      <th></th>\n",
       "      <th>Season</th>\n",
       "      <th>TeamID</th>\n",
       "      <th>LossPointsDiff</th>\n",
       "      <th>WinPointsDiff</th>\n",
       "      <th>WinRate</th>\n",
       "    </tr>\n",
       "  </thead>\n",
       "  <tbody>\n",
       "    <tr>\n",
       "      <th>0</th>\n",
       "      <td>1985</td>\n",
       "      <td>1102</td>\n",
       "      <td>9.0</td>\n",
       "      <td>4.0</td>\n",
       "      <td>0.208333</td>\n",
       "    </tr>\n",
       "    <tr>\n",
       "      <th>1</th>\n",
       "      <td>1985</td>\n",
       "      <td>1103</td>\n",
       "      <td>9.5</td>\n",
       "      <td>7.0</td>\n",
       "      <td>0.391304</td>\n",
       "    </tr>\n",
       "    <tr>\n",
       "      <th>2</th>\n",
       "      <td>1985</td>\n",
       "      <td>1104</td>\n",
       "      <td>4.0</td>\n",
       "      <td>13.0</td>\n",
       "      <td>0.700000</td>\n",
       "    </tr>\n",
       "    <tr>\n",
       "      <th>3</th>\n",
       "      <td>1985</td>\n",
       "      <td>1106</td>\n",
       "      <td>10.5</td>\n",
       "      <td>5.5</td>\n",
       "      <td>0.416667</td>\n",
       "    </tr>\n",
       "    <tr>\n",
       "      <th>4</th>\n",
       "      <td>1985</td>\n",
       "      <td>1108</td>\n",
       "      <td>12.5</td>\n",
       "      <td>14.0</td>\n",
       "      <td>0.760000</td>\n",
       "    </tr>\n",
       "  </tbody>\n",
       "</table>\n",
       "</div>"
      ],
      "text/plain": [
       "   Season  TeamID  LossPointsDiff  WinPointsDiff   WinRate\n",
       "0    1985    1102             9.0            4.0  0.208333\n",
       "1    1985    1103             9.5            7.0  0.391304\n",
       "2    1985    1104             4.0           13.0  0.700000\n",
       "3    1985    1106            10.5            5.5  0.416667\n",
       "4    1985    1108            12.5           14.0  0.760000"
      ]
     },
     "execution_count": 18,
     "metadata": {},
     "output_type": "execute_result"
    }
   ],
   "source": [
    "df_regular_season_merged = df_regular_season_merged.drop(columns=[\"TotalWins\", \"TotalLosses\"])\n",
    "\n",
    "df_regular_season_merged.head()"
   ]
  },
  {
   "cell_type": "markdown",
   "id": "54f2bdde",
   "metadata": {
    "papermill": {
     "duration": 0.018486,
     "end_time": "2023-03-03T06:59:51.019969",
     "exception": false,
     "start_time": "2023-03-03T06:59:51.001483",
     "status": "completed"
    },
    "tags": []
   },
   "source": [
    "Check for missing values:"
   ]
  },
  {
   "cell_type": "code",
   "execution_count": 19,
   "id": "3f773485",
   "metadata": {
    "execution": {
     "iopub.execute_input": "2023-03-03T06:59:51.060618Z",
     "iopub.status.busy": "2023-03-03T06:59:51.059647Z",
     "iopub.status.idle": "2023-03-03T06:59:51.070535Z",
     "shell.execute_reply": "2023-03-03T06:59:51.069441Z"
    },
    "papermill": {
     "duration": 0.034368,
     "end_time": "2023-03-03T06:59:51.073236",
     "exception": false,
     "start_time": "2023-03-03T06:59:51.038868",
     "status": "completed"
    },
    "tags": []
   },
   "outputs": [
    {
     "data": {
      "text/plain": [
       "Season            0\n",
       "TeamID            0\n",
       "LossPointsDiff    0\n",
       "WinPointsDiff     0\n",
       "WinRate           0\n",
       "dtype: int64"
      ]
     },
     "execution_count": 19,
     "metadata": {},
     "output_type": "execute_result"
    }
   ],
   "source": [
    "df_regular_season_merged.isnull().sum()"
   ]
  },
  {
   "cell_type": "markdown",
   "id": "1c2fecd0",
   "metadata": {
    "papermill": {
     "duration": 0.018741,
     "end_time": "2023-03-03T06:59:51.110942",
     "exception": false,
     "start_time": "2023-03-03T06:59:51.092201",
     "status": "completed"
    },
    "tags": []
   },
   "source": [
    "Check for duplicated values:"
   ]
  },
  {
   "cell_type": "code",
   "execution_count": 20,
   "id": "ba415454",
   "metadata": {
    "execution": {
     "iopub.execute_input": "2023-03-03T06:59:51.151596Z",
     "iopub.status.busy": "2023-03-03T06:59:51.150642Z",
     "iopub.status.idle": "2023-03-03T06:59:51.165013Z",
     "shell.execute_reply": "2023-03-03T06:59:51.163704Z"
    },
    "papermill": {
     "duration": 0.037828,
     "end_time": "2023-03-03T06:59:51.167738",
     "exception": false,
     "start_time": "2023-03-03T06:59:51.129910",
     "status": "completed"
    },
    "tags": []
   },
   "outputs": [
    {
     "data": {
      "text/plain": [
       "0"
      ]
     },
     "execution_count": 20,
     "metadata": {},
     "output_type": "execute_result"
    }
   ],
   "source": [
    "df_regular_season_merged.duplicated().sum()"
   ]
  },
  {
   "cell_type": "markdown",
   "id": "93604c2d",
   "metadata": {
    "papermill": {
     "duration": 0.018767,
     "end_time": "2023-03-03T06:59:51.205567",
     "exception": false,
     "start_time": "2023-03-03T06:59:51.186800",
     "status": "completed"
    },
    "tags": []
   },
   "source": [
    "#### MNCAATourneyCompactResults.csv and WNCAATourneyCompactResults.csv\n",
    "\n",
    "These files identify the game-by-game NCAA® tournament results for all seasons of historical data. The data is formatted exactly like the corresponding RegularSeasonCompactResults data. All men\"s games will show up as neutral site (so WLoc is always N) and some women\"s games will show up as neutral site, depending on the specifics. Note that this tournament game data also includes the play-in games for those years that had play-in games. Thus each season you will see between 63 and 67 games listed, depending on how many play-in games there were.\n",
    "\n",
    "Because of the consistent structure of the NCAA® tournament schedule, you can generally tell what round a game was, depending on the exact DayNum. However, the men\"s 2021 tournament scheduling was slightly different, and the women\"s scheduling has varied a lot. Nevertheless, in general the men\"s schedule will be:\n",
    "\n",
    "* **DayNum=134 or 135 (Tue/Wed)** - play-in games to get the tournament field down to the final 64 teams\n",
    "* **DayNum=136 or 137 (Thu/Fri)** - Round 1, to bring the tournament field from 64 teams to 32 teams\n",
    "* **DayNum=138 or 139 (Sat/Sun)** - Round 2, to bring the tournament field from 32 teams to 16 teams\n",
    "* **DayNum=143 or 144 (Thu/Fri)** - Round 3, otherwise known as \"Sweet Sixteen\", to bring the tournament field from 16 teams to 8 teams\n",
    "* **DayNum=145 or 146 (Sat/Sun)** - Round 4, otherwise known as \"Elite Eight\" or \"regional finals\", to bring the tournament field from 8 teams to 4 teams\n",
    "* **DayNum=152 (Sat)** - Round 5, otherwise known as \"Final Four\" or \"national semifinals\", to bring the tournament field from 4 teams to 2 teams\n",
    "* **DayNum=154 (Mon)** - Round 6, otherwise known as \"national final\" or \"national championship\", to bring the tournament field from 2 teams to 1 champion team\n",
    "\n",
    "Special note: Each year, there are also going to be other games that happened after Selection Sunday, which are not part of the NCAA® Tournament. This includes tournaments like the postseason NIT, the CBI, the CIT, and the Vegas 16. Such games are not listed in the Regular Season or the NCAA® Tourney files; they can be found in the \"Secondary Tourney\" data files (only for men\"s data) within Data Section 6. Although they would not be games you would ever be predicting directly for the NCAA® tournament, and they would not be games you would have data from at the time of predicting NCAA® tournament outcomes, you may nevertheless wish to make use of these games for model optimization, depending on your methodology. The more games that you can test your predictions against, the better your optimized model might eventually become, depending on how applicable all those games are. A similar argument might be advanced in favor of optimizing your predictions against conference tournament games, which might be viewed as reasonable proxies for NCAA® tournament games.\n",
    "\n"
   ]
  },
  {
   "cell_type": "code",
   "execution_count": 21,
   "id": "e541534e",
   "metadata": {
    "execution": {
     "iopub.execute_input": "2023-03-03T06:59:51.246550Z",
     "iopub.status.busy": "2023-03-03T06:59:51.245583Z",
     "iopub.status.idle": "2023-03-03T06:59:51.280074Z",
     "shell.execute_reply": "2023-03-03T06:59:51.278678Z"
    },
    "papermill": {
     "duration": 0.058437,
     "end_time": "2023-03-03T06:59:51.283107",
     "exception": false,
     "start_time": "2023-03-03T06:59:51.224670",
     "status": "completed"
    },
    "tags": []
   },
   "outputs": [
    {
     "data": {
      "text/html": [
       "<div>\n",
       "<style scoped>\n",
       "    .dataframe tbody tr th:only-of-type {\n",
       "        vertical-align: middle;\n",
       "    }\n",
       "\n",
       "    .dataframe tbody tr th {\n",
       "        vertical-align: top;\n",
       "    }\n",
       "\n",
       "    .dataframe thead th {\n",
       "        text-align: right;\n",
       "    }\n",
       "</style>\n",
       "<table border=\"1\" class=\"dataframe\">\n",
       "  <thead>\n",
       "    <tr style=\"text-align: right;\">\n",
       "      <th></th>\n",
       "      <th>Season</th>\n",
       "      <th>DayNum</th>\n",
       "      <th>WTeamID</th>\n",
       "      <th>WScore</th>\n",
       "      <th>LTeamID</th>\n",
       "      <th>LScore</th>\n",
       "      <th>WLoc</th>\n",
       "      <th>NumOT</th>\n",
       "    </tr>\n",
       "  </thead>\n",
       "  <tbody>\n",
       "    <tr>\n",
       "      <th>0</th>\n",
       "      <td>1985</td>\n",
       "      <td>136</td>\n",
       "      <td>1116</td>\n",
       "      <td>63</td>\n",
       "      <td>1234</td>\n",
       "      <td>54</td>\n",
       "      <td>N</td>\n",
       "      <td>0</td>\n",
       "    </tr>\n",
       "    <tr>\n",
       "      <th>1</th>\n",
       "      <td>1985</td>\n",
       "      <td>136</td>\n",
       "      <td>1120</td>\n",
       "      <td>59</td>\n",
       "      <td>1345</td>\n",
       "      <td>58</td>\n",
       "      <td>N</td>\n",
       "      <td>0</td>\n",
       "    </tr>\n",
       "    <tr>\n",
       "      <th>2</th>\n",
       "      <td>1985</td>\n",
       "      <td>136</td>\n",
       "      <td>1207</td>\n",
       "      <td>68</td>\n",
       "      <td>1250</td>\n",
       "      <td>43</td>\n",
       "      <td>N</td>\n",
       "      <td>0</td>\n",
       "    </tr>\n",
       "    <tr>\n",
       "      <th>3</th>\n",
       "      <td>1985</td>\n",
       "      <td>136</td>\n",
       "      <td>1229</td>\n",
       "      <td>58</td>\n",
       "      <td>1425</td>\n",
       "      <td>55</td>\n",
       "      <td>N</td>\n",
       "      <td>0</td>\n",
       "    </tr>\n",
       "    <tr>\n",
       "      <th>4</th>\n",
       "      <td>1985</td>\n",
       "      <td>136</td>\n",
       "      <td>1242</td>\n",
       "      <td>49</td>\n",
       "      <td>1325</td>\n",
       "      <td>38</td>\n",
       "      <td>N</td>\n",
       "      <td>0</td>\n",
       "    </tr>\n",
       "  </tbody>\n",
       "</table>\n",
       "</div>"
      ],
      "text/plain": [
       "   Season  DayNum  WTeamID  WScore  LTeamID  LScore WLoc  NumOT\n",
       "0    1985     136     1116      63     1234      54    N      0\n",
       "1    1985     136     1120      59     1345      58    N      0\n",
       "2    1985     136     1207      68     1250      43    N      0\n",
       "3    1985     136     1229      58     1425      55    N      0\n",
       "4    1985     136     1242      49     1325      38    N      0"
      ]
     },
     "execution_count": 21,
     "metadata": {},
     "output_type": "execute_result"
    }
   ],
   "source": [
    "dfs = [\"MNCAATourneyCompactResults.csv\", \"WNCAATourneyCompactResults.csv\"]\n",
    "\n",
    "df_compact_results_concat = concat_dfs(dfs)\n",
    "\n",
    "df_compact_results_concat.head()"
   ]
  },
  {
   "cell_type": "markdown",
   "id": "9d1249c7",
   "metadata": {
    "papermill": {
     "duration": 0.018838,
     "end_time": "2023-03-03T06:59:51.321454",
     "exception": false,
     "start_time": "2023-03-03T06:59:51.302616",
     "status": "completed"
    },
    "tags": []
   },
   "source": [
    "Like previous dataframes, drop ```WLoc``` & ```NumOT```:"
   ]
  },
  {
   "cell_type": "code",
   "execution_count": 22,
   "id": "36c1ac42",
   "metadata": {
    "execution": {
     "iopub.execute_input": "2023-03-03T06:59:51.362801Z",
     "iopub.status.busy": "2023-03-03T06:59:51.361810Z",
     "iopub.status.idle": "2023-03-03T06:59:51.378506Z",
     "shell.execute_reply": "2023-03-03T06:59:51.377199Z"
    },
    "papermill": {
     "duration": 0.040818,
     "end_time": "2023-03-03T06:59:51.381662",
     "exception": false,
     "start_time": "2023-03-03T06:59:51.340844",
     "status": "completed"
    },
    "tags": []
   },
   "outputs": [
    {
     "data": {
      "text/html": [
       "<div>\n",
       "<style scoped>\n",
       "    .dataframe tbody tr th:only-of-type {\n",
       "        vertical-align: middle;\n",
       "    }\n",
       "\n",
       "    .dataframe tbody tr th {\n",
       "        vertical-align: top;\n",
       "    }\n",
       "\n",
       "    .dataframe thead th {\n",
       "        text-align: right;\n",
       "    }\n",
       "</style>\n",
       "<table border=\"1\" class=\"dataframe\">\n",
       "  <thead>\n",
       "    <tr style=\"text-align: right;\">\n",
       "      <th></th>\n",
       "      <th>Season</th>\n",
       "      <th>DayNum</th>\n",
       "      <th>WTeamID</th>\n",
       "      <th>WScore</th>\n",
       "      <th>LTeamID</th>\n",
       "      <th>LScore</th>\n",
       "    </tr>\n",
       "  </thead>\n",
       "  <tbody>\n",
       "    <tr>\n",
       "      <th>0</th>\n",
       "      <td>1985</td>\n",
       "      <td>136</td>\n",
       "      <td>1116</td>\n",
       "      <td>63</td>\n",
       "      <td>1234</td>\n",
       "      <td>54</td>\n",
       "    </tr>\n",
       "    <tr>\n",
       "      <th>1</th>\n",
       "      <td>1985</td>\n",
       "      <td>136</td>\n",
       "      <td>1120</td>\n",
       "      <td>59</td>\n",
       "      <td>1345</td>\n",
       "      <td>58</td>\n",
       "    </tr>\n",
       "    <tr>\n",
       "      <th>2</th>\n",
       "      <td>1985</td>\n",
       "      <td>136</td>\n",
       "      <td>1207</td>\n",
       "      <td>68</td>\n",
       "      <td>1250</td>\n",
       "      <td>43</td>\n",
       "    </tr>\n",
       "    <tr>\n",
       "      <th>3</th>\n",
       "      <td>1985</td>\n",
       "      <td>136</td>\n",
       "      <td>1229</td>\n",
       "      <td>58</td>\n",
       "      <td>1425</td>\n",
       "      <td>55</td>\n",
       "    </tr>\n",
       "    <tr>\n",
       "      <th>4</th>\n",
       "      <td>1985</td>\n",
       "      <td>136</td>\n",
       "      <td>1242</td>\n",
       "      <td>49</td>\n",
       "      <td>1325</td>\n",
       "      <td>38</td>\n",
       "    </tr>\n",
       "  </tbody>\n",
       "</table>\n",
       "</div>"
      ],
      "text/plain": [
       "   Season  DayNum  WTeamID  WScore  LTeamID  LScore\n",
       "0    1985     136     1116      63     1234      54\n",
       "1    1985     136     1120      59     1345      58\n",
       "2    1985     136     1207      68     1250      43\n",
       "3    1985     136     1229      58     1425      55\n",
       "4    1985     136     1242      49     1325      38"
      ]
     },
     "execution_count": 22,
     "metadata": {},
     "output_type": "execute_result"
    }
   ],
   "source": [
    "df_compact_results_concat = df_compact_results_concat.drop(columns=[\"WLoc\", \"NumOT\"])\n",
    "\n",
    "df_compact_results_concat.head()"
   ]
  },
  {
   "cell_type": "markdown",
   "id": "e584a9f6",
   "metadata": {
    "papermill": {
     "duration": 0.019102,
     "end_time": "2023-03-03T06:59:51.420741",
     "exception": false,
     "start_time": "2023-03-03T06:59:51.401639",
     "status": "completed"
    },
    "tags": []
   },
   "source": [
    "Merge winning seeds with compact results:"
   ]
  },
  {
   "cell_type": "code",
   "execution_count": 23,
   "id": "a4afbe87",
   "metadata": {
    "execution": {
     "iopub.execute_input": "2023-03-03T06:59:51.461630Z",
     "iopub.status.busy": "2023-03-03T06:59:51.461180Z",
     "iopub.status.idle": "2023-03-03T06:59:51.485171Z",
     "shell.execute_reply": "2023-03-03T06:59:51.484074Z"
    },
    "papermill": {
     "duration": 0.047535,
     "end_time": "2023-03-03T06:59:51.487742",
     "exception": false,
     "start_time": "2023-03-03T06:59:51.440207",
     "status": "completed"
    },
    "tags": []
   },
   "outputs": [
    {
     "data": {
      "text/html": [
       "<div>\n",
       "<style scoped>\n",
       "    .dataframe tbody tr th:only-of-type {\n",
       "        vertical-align: middle;\n",
       "    }\n",
       "\n",
       "    .dataframe tbody tr th {\n",
       "        vertical-align: top;\n",
       "    }\n",
       "\n",
       "    .dataframe thead th {\n",
       "        text-align: right;\n",
       "    }\n",
       "</style>\n",
       "<table border=\"1\" class=\"dataframe\">\n",
       "  <thead>\n",
       "    <tr style=\"text-align: right;\">\n",
       "      <th></th>\n",
       "      <th>Season</th>\n",
       "      <th>DayNum</th>\n",
       "      <th>WTeamID</th>\n",
       "      <th>WScore</th>\n",
       "      <th>LTeamID</th>\n",
       "      <th>LScore</th>\n",
       "      <th>SeedW</th>\n",
       "    </tr>\n",
       "  </thead>\n",
       "  <tbody>\n",
       "    <tr>\n",
       "      <th>0</th>\n",
       "      <td>1985</td>\n",
       "      <td>136</td>\n",
       "      <td>1116</td>\n",
       "      <td>63</td>\n",
       "      <td>1234</td>\n",
       "      <td>54</td>\n",
       "      <td>X09</td>\n",
       "    </tr>\n",
       "    <tr>\n",
       "      <th>1</th>\n",
       "      <td>1985</td>\n",
       "      <td>136</td>\n",
       "      <td>1120</td>\n",
       "      <td>59</td>\n",
       "      <td>1345</td>\n",
       "      <td>58</td>\n",
       "      <td>Z11</td>\n",
       "    </tr>\n",
       "    <tr>\n",
       "      <th>2</th>\n",
       "      <td>1985</td>\n",
       "      <td>136</td>\n",
       "      <td>1207</td>\n",
       "      <td>68</td>\n",
       "      <td>1250</td>\n",
       "      <td>43</td>\n",
       "      <td>W01</td>\n",
       "    </tr>\n",
       "    <tr>\n",
       "      <th>3</th>\n",
       "      <td>1985</td>\n",
       "      <td>136</td>\n",
       "      <td>1229</td>\n",
       "      <td>58</td>\n",
       "      <td>1425</td>\n",
       "      <td>55</td>\n",
       "      <td>Y09</td>\n",
       "    </tr>\n",
       "    <tr>\n",
       "      <th>4</th>\n",
       "      <td>1985</td>\n",
       "      <td>136</td>\n",
       "      <td>1242</td>\n",
       "      <td>49</td>\n",
       "      <td>1325</td>\n",
       "      <td>38</td>\n",
       "      <td>Z03</td>\n",
       "    </tr>\n",
       "  </tbody>\n",
       "</table>\n",
       "</div>"
      ],
      "text/plain": [
       "   Season  DayNum  WTeamID  WScore  LTeamID  LScore SeedW\n",
       "0    1985     136     1116      63     1234      54   X09\n",
       "1    1985     136     1120      59     1345      58   Z11\n",
       "2    1985     136     1207      68     1250      43   W01\n",
       "3    1985     136     1229      58     1425      55   Y09\n",
       "4    1985     136     1242      49     1325      38   Z03"
      ]
     },
     "execution_count": 23,
     "metadata": {},
     "output_type": "execute_result"
    }
   ],
   "source": [
    "df = pd.merge(\n",
    "    df_compact_results_concat, \n",
    "    df_tourney_seeds, \n",
    "    how=\"left\", \n",
    "    left_on=[\"Season\", \"WTeamID\"], \n",
    "    right_on=[\"Season\", \"TeamID\"]\n",
    ").drop(columns=\"TeamID\").rename(columns={\"Seed\": \"SeedW\"})\n",
    "\n",
    "df.head()"
   ]
  },
  {
   "cell_type": "markdown",
   "id": "cfeb1d0d",
   "metadata": {
    "papermill": {
     "duration": 0.02059,
     "end_time": "2023-03-03T06:59:51.528618",
     "exception": false,
     "start_time": "2023-03-03T06:59:51.508028",
     "status": "completed"
    },
    "tags": []
   },
   "source": [
    "Merge losing seeds with compact results:"
   ]
  },
  {
   "cell_type": "code",
   "execution_count": 24,
   "id": "ef8d6608",
   "metadata": {
    "execution": {
     "iopub.execute_input": "2023-03-03T06:59:51.570837Z",
     "iopub.status.busy": "2023-03-03T06:59:51.570309Z",
     "iopub.status.idle": "2023-03-03T06:59:51.595053Z",
     "shell.execute_reply": "2023-03-03T06:59:51.593551Z"
    },
    "papermill": {
     "duration": 0.049415,
     "end_time": "2023-03-03T06:59:51.597984",
     "exception": false,
     "start_time": "2023-03-03T06:59:51.548569",
     "status": "completed"
    },
    "tags": []
   },
   "outputs": [
    {
     "data": {
      "text/html": [
       "<div>\n",
       "<style scoped>\n",
       "    .dataframe tbody tr th:only-of-type {\n",
       "        vertical-align: middle;\n",
       "    }\n",
       "\n",
       "    .dataframe tbody tr th {\n",
       "        vertical-align: top;\n",
       "    }\n",
       "\n",
       "    .dataframe thead th {\n",
       "        text-align: right;\n",
       "    }\n",
       "</style>\n",
       "<table border=\"1\" class=\"dataframe\">\n",
       "  <thead>\n",
       "    <tr style=\"text-align: right;\">\n",
       "      <th></th>\n",
       "      <th>Season</th>\n",
       "      <th>DayNum</th>\n",
       "      <th>WTeamID</th>\n",
       "      <th>WScore</th>\n",
       "      <th>LTeamID</th>\n",
       "      <th>LScore</th>\n",
       "      <th>SeedW</th>\n",
       "      <th>SeedL</th>\n",
       "    </tr>\n",
       "  </thead>\n",
       "  <tbody>\n",
       "    <tr>\n",
       "      <th>0</th>\n",
       "      <td>1985</td>\n",
       "      <td>136</td>\n",
       "      <td>1116</td>\n",
       "      <td>63</td>\n",
       "      <td>1234</td>\n",
       "      <td>54</td>\n",
       "      <td>X09</td>\n",
       "      <td>X08</td>\n",
       "    </tr>\n",
       "    <tr>\n",
       "      <th>1</th>\n",
       "      <td>1985</td>\n",
       "      <td>136</td>\n",
       "      <td>1120</td>\n",
       "      <td>59</td>\n",
       "      <td>1345</td>\n",
       "      <td>58</td>\n",
       "      <td>Z11</td>\n",
       "      <td>Z06</td>\n",
       "    </tr>\n",
       "    <tr>\n",
       "      <th>2</th>\n",
       "      <td>1985</td>\n",
       "      <td>136</td>\n",
       "      <td>1207</td>\n",
       "      <td>68</td>\n",
       "      <td>1250</td>\n",
       "      <td>43</td>\n",
       "      <td>W01</td>\n",
       "      <td>W16</td>\n",
       "    </tr>\n",
       "    <tr>\n",
       "      <th>3</th>\n",
       "      <td>1985</td>\n",
       "      <td>136</td>\n",
       "      <td>1229</td>\n",
       "      <td>58</td>\n",
       "      <td>1425</td>\n",
       "      <td>55</td>\n",
       "      <td>Y09</td>\n",
       "      <td>Y08</td>\n",
       "    </tr>\n",
       "    <tr>\n",
       "      <th>4</th>\n",
       "      <td>1985</td>\n",
       "      <td>136</td>\n",
       "      <td>1242</td>\n",
       "      <td>49</td>\n",
       "      <td>1325</td>\n",
       "      <td>38</td>\n",
       "      <td>Z03</td>\n",
       "      <td>Z14</td>\n",
       "    </tr>\n",
       "  </tbody>\n",
       "</table>\n",
       "</div>"
      ],
      "text/plain": [
       "   Season  DayNum  WTeamID  WScore  LTeamID  LScore SeedW SeedL\n",
       "0    1985     136     1116      63     1234      54   X09   X08\n",
       "1    1985     136     1120      59     1345      58   Z11   Z06\n",
       "2    1985     136     1207      68     1250      43   W01   W16\n",
       "3    1985     136     1229      58     1425      55   Y09   Y08\n",
       "4    1985     136     1242      49     1325      38   Z03   Z14"
      ]
     },
     "execution_count": 24,
     "metadata": {},
     "output_type": "execute_result"
    }
   ],
   "source": [
    "df = pd.merge(\n",
    "    df, \n",
    "    df_tourney_seeds, \n",
    "    how=\"left\", \n",
    "    left_on=[\"Season\", \"LTeamID\"], \n",
    "    right_on=[\"Season\", \"TeamID\"]\n",
    ").drop(columns=\"TeamID\").rename(columns={\"Seed\": \"SeedL\"})\n",
    "\n",
    "df.head()"
   ]
  },
  {
   "cell_type": "markdown",
   "id": "d833455b",
   "metadata": {
    "papermill": {
     "duration": 0.020321,
     "end_time": "2023-03-03T06:59:51.639090",
     "exception": false,
     "start_time": "2023-03-03T06:59:51.618769",
     "status": "completed"
    },
    "tags": []
   },
   "source": [
    "```SeedL``` & ```SeedW``` look like the wrong format (str). Create a function to reformat these:"
   ]
  },
  {
   "cell_type": "code",
   "execution_count": 25,
   "id": "edbd1d8c",
   "metadata": {
    "execution": {
     "iopub.execute_input": "2023-03-03T06:59:51.681909Z",
     "iopub.status.busy": "2023-03-03T06:59:51.680891Z",
     "iopub.status.idle": "2023-03-03T06:59:51.687845Z",
     "shell.execute_reply": "2023-03-03T06:59:51.686500Z"
    },
    "papermill": {
     "duration": 0.031184,
     "end_time": "2023-03-03T06:59:51.690427",
     "exception": false,
     "start_time": "2023-03-03T06:59:51.659243",
     "status": "completed"
    },
    "tags": []
   },
   "outputs": [],
   "source": [
    "def format_seeds(seed):\n",
    "    \"\"\"Reformats seeds from strings to correct integer placements.\n",
    "    \n",
    "    Args:\n",
    "        seed - str: seed with a character followed by two numbers - A21.\n",
    "        \n",
    "    Returns:\n",
    "        formatted_seed - int: formatted seed to an int.\n",
    "    \"\"\"\n",
    "    formatted_seed = int(re.sub(\"[^0-9]\", \"\", seed))\n",
    "    return formatted_seed"
   ]
  },
  {
   "cell_type": "markdown",
   "id": "95dd0528",
   "metadata": {
    "papermill": {
     "duration": 0.0197,
     "end_time": "2023-03-03T06:59:51.730663",
     "exception": false,
     "start_time": "2023-03-03T06:59:51.710963",
     "status": "completed"
    },
    "tags": []
   },
   "source": [
    "Reformat ```SeedL``` & ```SeedW```:"
   ]
  },
  {
   "cell_type": "code",
   "execution_count": 26,
   "id": "4a81116b",
   "metadata": {
    "execution": {
     "iopub.execute_input": "2023-03-03T06:59:51.773432Z",
     "iopub.status.busy": "2023-03-03T06:59:51.772485Z",
     "iopub.status.idle": "2023-03-03T06:59:51.806442Z",
     "shell.execute_reply": "2023-03-03T06:59:51.804949Z"
    },
    "papermill": {
     "duration": 0.059253,
     "end_time": "2023-03-03T06:59:51.809765",
     "exception": false,
     "start_time": "2023-03-03T06:59:51.750512",
     "status": "completed"
    },
    "tags": []
   },
   "outputs": [
    {
     "data": {
      "text/html": [
       "<div>\n",
       "<style scoped>\n",
       "    .dataframe tbody tr th:only-of-type {\n",
       "        vertical-align: middle;\n",
       "    }\n",
       "\n",
       "    .dataframe tbody tr th {\n",
       "        vertical-align: top;\n",
       "    }\n",
       "\n",
       "    .dataframe thead th {\n",
       "        text-align: right;\n",
       "    }\n",
       "</style>\n",
       "<table border=\"1\" class=\"dataframe\">\n",
       "  <thead>\n",
       "    <tr style=\"text-align: right;\">\n",
       "      <th></th>\n",
       "      <th>Season</th>\n",
       "      <th>DayNum</th>\n",
       "      <th>WTeamID</th>\n",
       "      <th>WScore</th>\n",
       "      <th>LTeamID</th>\n",
       "      <th>LScore</th>\n",
       "      <th>SeedW</th>\n",
       "      <th>SeedL</th>\n",
       "    </tr>\n",
       "  </thead>\n",
       "  <tbody>\n",
       "    <tr>\n",
       "      <th>0</th>\n",
       "      <td>1985</td>\n",
       "      <td>136</td>\n",
       "      <td>1116</td>\n",
       "      <td>63</td>\n",
       "      <td>1234</td>\n",
       "      <td>54</td>\n",
       "      <td>9</td>\n",
       "      <td>8</td>\n",
       "    </tr>\n",
       "    <tr>\n",
       "      <th>1</th>\n",
       "      <td>1985</td>\n",
       "      <td>136</td>\n",
       "      <td>1120</td>\n",
       "      <td>59</td>\n",
       "      <td>1345</td>\n",
       "      <td>58</td>\n",
       "      <td>11</td>\n",
       "      <td>6</td>\n",
       "    </tr>\n",
       "    <tr>\n",
       "      <th>2</th>\n",
       "      <td>1985</td>\n",
       "      <td>136</td>\n",
       "      <td>1207</td>\n",
       "      <td>68</td>\n",
       "      <td>1250</td>\n",
       "      <td>43</td>\n",
       "      <td>1</td>\n",
       "      <td>16</td>\n",
       "    </tr>\n",
       "    <tr>\n",
       "      <th>3</th>\n",
       "      <td>1985</td>\n",
       "      <td>136</td>\n",
       "      <td>1229</td>\n",
       "      <td>58</td>\n",
       "      <td>1425</td>\n",
       "      <td>55</td>\n",
       "      <td>9</td>\n",
       "      <td>8</td>\n",
       "    </tr>\n",
       "    <tr>\n",
       "      <th>4</th>\n",
       "      <td>1985</td>\n",
       "      <td>136</td>\n",
       "      <td>1242</td>\n",
       "      <td>49</td>\n",
       "      <td>1325</td>\n",
       "      <td>38</td>\n",
       "      <td>3</td>\n",
       "      <td>14</td>\n",
       "    </tr>\n",
       "  </tbody>\n",
       "</table>\n",
       "</div>"
      ],
      "text/plain": [
       "   Season  DayNum  WTeamID  WScore  LTeamID  LScore  SeedW  SeedL\n",
       "0    1985     136     1116      63     1234      54      9      8\n",
       "1    1985     136     1120      59     1345      58     11      6\n",
       "2    1985     136     1207      68     1250      43      1     16\n",
       "3    1985     136     1229      58     1425      55      9      8\n",
       "4    1985     136     1242      49     1325      38      3     14"
      ]
     },
     "execution_count": 26,
     "metadata": {},
     "output_type": "execute_result"
    }
   ],
   "source": [
    "df[\"SeedL\"] = df[\"SeedL\"].apply(format_seeds)\n",
    "df[\"SeedW\"] = df[\"SeedW\"].apply(format_seeds)\n",
    "\n",
    "df.head()"
   ]
  },
  {
   "cell_type": "markdown",
   "id": "c727ce12",
   "metadata": {
    "papermill": {
     "duration": 0.021527,
     "end_time": "2023-03-03T06:59:51.853080",
     "exception": false,
     "start_time": "2023-03-03T06:59:51.831553",
     "status": "completed"
    },
    "tags": []
   },
   "source": [
    "Merge ```df_merge``` with the extracted features from the Regular Season Compact data:"
   ]
  },
  {
   "cell_type": "markdown",
   "id": "49cad329",
   "metadata": {
    "papermill": {
     "duration": 0.021262,
     "end_time": "2023-03-03T06:59:51.895044",
     "exception": false,
     "start_time": "2023-03-03T06:59:51.873782",
     "status": "completed"
    },
    "tags": []
   },
   "source": [
    "Losing TeamIDs:"
   ]
  },
  {
   "cell_type": "code",
   "execution_count": 27,
   "id": "bb259605",
   "metadata": {
    "execution": {
     "iopub.execute_input": "2023-03-03T06:59:51.938683Z",
     "iopub.status.busy": "2023-03-03T06:59:51.938206Z",
     "iopub.status.idle": "2023-03-03T06:59:51.964844Z",
     "shell.execute_reply": "2023-03-03T06:59:51.963408Z"
    },
    "papermill": {
     "duration": 0.052453,
     "end_time": "2023-03-03T06:59:51.968194",
     "exception": false,
     "start_time": "2023-03-03T06:59:51.915741",
     "status": "completed"
    },
    "tags": []
   },
   "outputs": [
    {
     "data": {
      "text/html": [
       "<div>\n",
       "<style scoped>\n",
       "    .dataframe tbody tr th:only-of-type {\n",
       "        vertical-align: middle;\n",
       "    }\n",
       "\n",
       "    .dataframe tbody tr th {\n",
       "        vertical-align: top;\n",
       "    }\n",
       "\n",
       "    .dataframe thead th {\n",
       "        text-align: right;\n",
       "    }\n",
       "</style>\n",
       "<table border=\"1\" class=\"dataframe\">\n",
       "  <thead>\n",
       "    <tr style=\"text-align: right;\">\n",
       "      <th></th>\n",
       "      <th>Season</th>\n",
       "      <th>DayNum</th>\n",
       "      <th>WTeamID</th>\n",
       "      <th>WScore</th>\n",
       "      <th>LTeamID</th>\n",
       "      <th>LScore</th>\n",
       "      <th>SeedW</th>\n",
       "      <th>SeedL</th>\n",
       "      <th>LossPointsDiffL</th>\n",
       "      <th>WinPointsDiffL</th>\n",
       "      <th>WinRateL</th>\n",
       "    </tr>\n",
       "  </thead>\n",
       "  <tbody>\n",
       "    <tr>\n",
       "      <th>0</th>\n",
       "      <td>1985</td>\n",
       "      <td>136</td>\n",
       "      <td>1116</td>\n",
       "      <td>63</td>\n",
       "      <td>1234</td>\n",
       "      <td>54</td>\n",
       "      <td>9</td>\n",
       "      <td>8</td>\n",
       "      <td>4.0</td>\n",
       "      <td>14.0</td>\n",
       "      <td>0.666667</td>\n",
       "    </tr>\n",
       "    <tr>\n",
       "      <th>1</th>\n",
       "      <td>1985</td>\n",
       "      <td>136</td>\n",
       "      <td>1120</td>\n",
       "      <td>59</td>\n",
       "      <td>1345</td>\n",
       "      <td>58</td>\n",
       "      <td>11</td>\n",
       "      <td>6</td>\n",
       "      <td>11.5</td>\n",
       "      <td>10.0</td>\n",
       "      <td>0.680000</td>\n",
       "    </tr>\n",
       "    <tr>\n",
       "      <th>2</th>\n",
       "      <td>1985</td>\n",
       "      <td>136</td>\n",
       "      <td>1207</td>\n",
       "      <td>68</td>\n",
       "      <td>1250</td>\n",
       "      <td>43</td>\n",
       "      <td>1</td>\n",
       "      <td>16</td>\n",
       "      <td>6.0</td>\n",
       "      <td>4.0</td>\n",
       "      <td>0.379310</td>\n",
       "    </tr>\n",
       "    <tr>\n",
       "      <th>3</th>\n",
       "      <td>1985</td>\n",
       "      <td>136</td>\n",
       "      <td>1229</td>\n",
       "      <td>58</td>\n",
       "      <td>1425</td>\n",
       "      <td>55</td>\n",
       "      <td>9</td>\n",
       "      <td>8</td>\n",
       "      <td>5.0</td>\n",
       "      <td>7.0</td>\n",
       "      <td>0.678571</td>\n",
       "    </tr>\n",
       "    <tr>\n",
       "      <th>4</th>\n",
       "      <td>1985</td>\n",
       "      <td>136</td>\n",
       "      <td>1242</td>\n",
       "      <td>49</td>\n",
       "      <td>1325</td>\n",
       "      <td>38</td>\n",
       "      <td>3</td>\n",
       "      <td>14</td>\n",
       "      <td>7.0</td>\n",
       "      <td>8.0</td>\n",
       "      <td>0.740741</td>\n",
       "    </tr>\n",
       "  </tbody>\n",
       "</table>\n",
       "</div>"
      ],
      "text/plain": [
       "   Season  DayNum  WTeamID  WScore  LTeamID  LScore  SeedW  SeedL  \\\n",
       "0    1985     136     1116      63     1234      54      9      8   \n",
       "1    1985     136     1120      59     1345      58     11      6   \n",
       "2    1985     136     1207      68     1250      43      1     16   \n",
       "3    1985     136     1229      58     1425      55      9      8   \n",
       "4    1985     136     1242      49     1325      38      3     14   \n",
       "\n",
       "   LossPointsDiffL  WinPointsDiffL  WinRateL  \n",
       "0              4.0            14.0  0.666667  \n",
       "1             11.5            10.0  0.680000  \n",
       "2              6.0             4.0  0.379310  \n",
       "3              5.0             7.0  0.678571  \n",
       "4              7.0             8.0  0.740741  "
      ]
     },
     "execution_count": 27,
     "metadata": {},
     "output_type": "execute_result"
    }
   ],
   "source": [
    "df = pd.merge(\n",
    "    df, \n",
    "    df_regular_season_merged, \n",
    "    how=\"left\", \n",
    "    left_on=[\"Season\", \"LTeamID\"], \n",
    "    right_on=[\"Season\", \"TeamID\"]\n",
    ").rename(columns={\"LossPointsDiff\" : \"LossPointsDiffL\",\n",
    "                  \"WinPointsDiff\" : \"WinPointsDiffL\",\n",
    "                  \"WinRate\" : \"WinRateL\"}\n",
    ").drop(columns=\"TeamID\")\n",
    "\n",
    "df.head()"
   ]
  },
  {
   "cell_type": "markdown",
   "id": "29eb518a",
   "metadata": {
    "papermill": {
     "duration": 0.020503,
     "end_time": "2023-03-03T06:59:52.009610",
     "exception": false,
     "start_time": "2023-03-03T06:59:51.989107",
     "status": "completed"
    },
    "tags": []
   },
   "source": [
    "Winning TeamIDs:"
   ]
  },
  {
   "cell_type": "code",
   "execution_count": 28,
   "id": "02910b66",
   "metadata": {
    "execution": {
     "iopub.execute_input": "2023-03-03T06:59:52.053739Z",
     "iopub.status.busy": "2023-03-03T06:59:52.052889Z",
     "iopub.status.idle": "2023-03-03T06:59:52.084111Z",
     "shell.execute_reply": "2023-03-03T06:59:52.082674Z"
    },
    "papermill": {
     "duration": 0.056817,
     "end_time": "2023-03-03T06:59:52.086915",
     "exception": false,
     "start_time": "2023-03-03T06:59:52.030098",
     "status": "completed"
    },
    "tags": []
   },
   "outputs": [
    {
     "data": {
      "text/html": [
       "<div>\n",
       "<style scoped>\n",
       "    .dataframe tbody tr th:only-of-type {\n",
       "        vertical-align: middle;\n",
       "    }\n",
       "\n",
       "    .dataframe tbody tr th {\n",
       "        vertical-align: top;\n",
       "    }\n",
       "\n",
       "    .dataframe thead th {\n",
       "        text-align: right;\n",
       "    }\n",
       "</style>\n",
       "<table border=\"1\" class=\"dataframe\">\n",
       "  <thead>\n",
       "    <tr style=\"text-align: right;\">\n",
       "      <th></th>\n",
       "      <th>Season</th>\n",
       "      <th>DayNum</th>\n",
       "      <th>WTeamID</th>\n",
       "      <th>WScore</th>\n",
       "      <th>LTeamID</th>\n",
       "      <th>LScore</th>\n",
       "      <th>SeedW</th>\n",
       "      <th>SeedL</th>\n",
       "      <th>LossPointsDiffL</th>\n",
       "      <th>WinPointsDiffL</th>\n",
       "      <th>WinRateL</th>\n",
       "      <th>LossPointsDiffW</th>\n",
       "      <th>WinPointsDiffW</th>\n",
       "      <th>WinRateW</th>\n",
       "    </tr>\n",
       "  </thead>\n",
       "  <tbody>\n",
       "    <tr>\n",
       "      <th>0</th>\n",
       "      <td>1985</td>\n",
       "      <td>136</td>\n",
       "      <td>1116</td>\n",
       "      <td>63</td>\n",
       "      <td>1234</td>\n",
       "      <td>54</td>\n",
       "      <td>9</td>\n",
       "      <td>8</td>\n",
       "      <td>4.0</td>\n",
       "      <td>14.0</td>\n",
       "      <td>0.666667</td>\n",
       "      <td>4.0</td>\n",
       "      <td>8.0</td>\n",
       "      <td>0.636364</td>\n",
       "    </tr>\n",
       "    <tr>\n",
       "      <th>1</th>\n",
       "      <td>1985</td>\n",
       "      <td>136</td>\n",
       "      <td>1120</td>\n",
       "      <td>59</td>\n",
       "      <td>1345</td>\n",
       "      <td>58</td>\n",
       "      <td>11</td>\n",
       "      <td>6</td>\n",
       "      <td>11.5</td>\n",
       "      <td>10.0</td>\n",
       "      <td>0.680000</td>\n",
       "      <td>7.0</td>\n",
       "      <td>7.0</td>\n",
       "      <td>0.620690</td>\n",
       "    </tr>\n",
       "    <tr>\n",
       "      <th>2</th>\n",
       "      <td>1985</td>\n",
       "      <td>136</td>\n",
       "      <td>1207</td>\n",
       "      <td>68</td>\n",
       "      <td>1250</td>\n",
       "      <td>43</td>\n",
       "      <td>1</td>\n",
       "      <td>16</td>\n",
       "      <td>6.0</td>\n",
       "      <td>4.0</td>\n",
       "      <td>0.379310</td>\n",
       "      <td>1.5</td>\n",
       "      <td>16.0</td>\n",
       "      <td>0.925926</td>\n",
       "    </tr>\n",
       "    <tr>\n",
       "      <th>3</th>\n",
       "      <td>1985</td>\n",
       "      <td>136</td>\n",
       "      <td>1229</td>\n",
       "      <td>58</td>\n",
       "      <td>1425</td>\n",
       "      <td>55</td>\n",
       "      <td>9</td>\n",
       "      <td>8</td>\n",
       "      <td>5.0</td>\n",
       "      <td>7.0</td>\n",
       "      <td>0.678571</td>\n",
       "      <td>10.0</td>\n",
       "      <td>10.0</td>\n",
       "      <td>0.740741</td>\n",
       "    </tr>\n",
       "    <tr>\n",
       "      <th>4</th>\n",
       "      <td>1985</td>\n",
       "      <td>136</td>\n",
       "      <td>1242</td>\n",
       "      <td>49</td>\n",
       "      <td>1325</td>\n",
       "      <td>38</td>\n",
       "      <td>3</td>\n",
       "      <td>14</td>\n",
       "      <td>7.0</td>\n",
       "      <td>8.0</td>\n",
       "      <td>0.740741</td>\n",
       "      <td>7.0</td>\n",
       "      <td>9.0</td>\n",
       "      <td>0.766667</td>\n",
       "    </tr>\n",
       "  </tbody>\n",
       "</table>\n",
       "</div>"
      ],
      "text/plain": [
       "   Season  DayNum  WTeamID  WScore  LTeamID  LScore  SeedW  SeedL  \\\n",
       "0    1985     136     1116      63     1234      54      9      8   \n",
       "1    1985     136     1120      59     1345      58     11      6   \n",
       "2    1985     136     1207      68     1250      43      1     16   \n",
       "3    1985     136     1229      58     1425      55      9      8   \n",
       "4    1985     136     1242      49     1325      38      3     14   \n",
       "\n",
       "   LossPointsDiffL  WinPointsDiffL  WinRateL  LossPointsDiffW  WinPointsDiffW  \\\n",
       "0              4.0            14.0  0.666667              4.0             8.0   \n",
       "1             11.5            10.0  0.680000              7.0             7.0   \n",
       "2              6.0             4.0  0.379310              1.5            16.0   \n",
       "3              5.0             7.0  0.678571             10.0            10.0   \n",
       "4              7.0             8.0  0.740741              7.0             9.0   \n",
       "\n",
       "   WinRateW  \n",
       "0  0.636364  \n",
       "1  0.620690  \n",
       "2  0.925926  \n",
       "3  0.740741  \n",
       "4  0.766667  "
      ]
     },
     "execution_count": 28,
     "metadata": {},
     "output_type": "execute_result"
    }
   ],
   "source": [
    "df = pd.merge(\n",
    "    df, \n",
    "    df_regular_season_merged, \n",
    "    how=\"left\", \n",
    "    left_on=[\"Season\", \"WTeamID\"], \n",
    "    right_on=[\"Season\", \"TeamID\"]\n",
    ").rename(columns={\"LossPointsDiff\" : \"LossPointsDiffW\",\n",
    "                  \"WinPointsDiff\" : \"WinPointsDiffW\",\n",
    "                  \"WinRate\" : \"WinRateW\"}\n",
    ").drop(columns=\"TeamID\")\n",
    "\n",
    "df.head()"
   ]
  },
  {
   "cell_type": "markdown",
   "id": "75027e1f",
   "metadata": {
    "papermill": {
     "duration": 0.020813,
     "end_time": "2023-03-03T06:59:52.129735",
     "exception": false,
     "start_time": "2023-03-03T06:59:52.108922",
     "status": "completed"
    },
    "tags": []
   },
   "source": [
    "Seed difference may predict the outcome of a game. It may be likely on average for higher seeds to beat lower seeds. Create ```SeedDiff``` feature for both teams:"
   ]
  },
  {
   "cell_type": "code",
   "execution_count": 29,
   "id": "e24b48d7",
   "metadata": {
    "execution": {
     "iopub.execute_input": "2023-03-03T06:59:52.176237Z",
     "iopub.status.busy": "2023-03-03T06:59:52.175714Z",
     "iopub.status.idle": "2023-03-03T06:59:52.198950Z",
     "shell.execute_reply": "2023-03-03T06:59:52.197541Z"
    },
    "papermill": {
     "duration": 0.049864,
     "end_time": "2023-03-03T06:59:52.201732",
     "exception": false,
     "start_time": "2023-03-03T06:59:52.151868",
     "status": "completed"
    },
    "tags": []
   },
   "outputs": [
    {
     "data": {
      "text/html": [
       "<div>\n",
       "<style scoped>\n",
       "    .dataframe tbody tr th:only-of-type {\n",
       "        vertical-align: middle;\n",
       "    }\n",
       "\n",
       "    .dataframe tbody tr th {\n",
       "        vertical-align: top;\n",
       "    }\n",
       "\n",
       "    .dataframe thead th {\n",
       "        text-align: right;\n",
       "    }\n",
       "</style>\n",
       "<table border=\"1\" class=\"dataframe\">\n",
       "  <thead>\n",
       "    <tr style=\"text-align: right;\">\n",
       "      <th></th>\n",
       "      <th>Season</th>\n",
       "      <th>DayNum</th>\n",
       "      <th>WTeamID</th>\n",
       "      <th>WScore</th>\n",
       "      <th>LTeamID</th>\n",
       "      <th>LScore</th>\n",
       "      <th>SeedW</th>\n",
       "      <th>SeedL</th>\n",
       "      <th>LossPointsDiffL</th>\n",
       "      <th>WinPointsDiffL</th>\n",
       "      <th>WinRateL</th>\n",
       "      <th>LossPointsDiffW</th>\n",
       "      <th>WinPointsDiffW</th>\n",
       "      <th>WinRateW</th>\n",
       "      <th>SeedDiff</th>\n",
       "    </tr>\n",
       "  </thead>\n",
       "  <tbody>\n",
       "    <tr>\n",
       "      <th>0</th>\n",
       "      <td>1985</td>\n",
       "      <td>136</td>\n",
       "      <td>1116</td>\n",
       "      <td>63</td>\n",
       "      <td>1234</td>\n",
       "      <td>54</td>\n",
       "      <td>9</td>\n",
       "      <td>8</td>\n",
       "      <td>4.0</td>\n",
       "      <td>14.0</td>\n",
       "      <td>0.666667</td>\n",
       "      <td>4.0</td>\n",
       "      <td>8.0</td>\n",
       "      <td>0.636364</td>\n",
       "      <td>1</td>\n",
       "    </tr>\n",
       "    <tr>\n",
       "      <th>1</th>\n",
       "      <td>1985</td>\n",
       "      <td>136</td>\n",
       "      <td>1120</td>\n",
       "      <td>59</td>\n",
       "      <td>1345</td>\n",
       "      <td>58</td>\n",
       "      <td>11</td>\n",
       "      <td>6</td>\n",
       "      <td>11.5</td>\n",
       "      <td>10.0</td>\n",
       "      <td>0.680000</td>\n",
       "      <td>7.0</td>\n",
       "      <td>7.0</td>\n",
       "      <td>0.620690</td>\n",
       "      <td>5</td>\n",
       "    </tr>\n",
       "    <tr>\n",
       "      <th>2</th>\n",
       "      <td>1985</td>\n",
       "      <td>136</td>\n",
       "      <td>1207</td>\n",
       "      <td>68</td>\n",
       "      <td>1250</td>\n",
       "      <td>43</td>\n",
       "      <td>1</td>\n",
       "      <td>16</td>\n",
       "      <td>6.0</td>\n",
       "      <td>4.0</td>\n",
       "      <td>0.379310</td>\n",
       "      <td>1.5</td>\n",
       "      <td>16.0</td>\n",
       "      <td>0.925926</td>\n",
       "      <td>-15</td>\n",
       "    </tr>\n",
       "    <tr>\n",
       "      <th>3</th>\n",
       "      <td>1985</td>\n",
       "      <td>136</td>\n",
       "      <td>1229</td>\n",
       "      <td>58</td>\n",
       "      <td>1425</td>\n",
       "      <td>55</td>\n",
       "      <td>9</td>\n",
       "      <td>8</td>\n",
       "      <td>5.0</td>\n",
       "      <td>7.0</td>\n",
       "      <td>0.678571</td>\n",
       "      <td>10.0</td>\n",
       "      <td>10.0</td>\n",
       "      <td>0.740741</td>\n",
       "      <td>1</td>\n",
       "    </tr>\n",
       "    <tr>\n",
       "      <th>4</th>\n",
       "      <td>1985</td>\n",
       "      <td>136</td>\n",
       "      <td>1242</td>\n",
       "      <td>49</td>\n",
       "      <td>1325</td>\n",
       "      <td>38</td>\n",
       "      <td>3</td>\n",
       "      <td>14</td>\n",
       "      <td>7.0</td>\n",
       "      <td>8.0</td>\n",
       "      <td>0.740741</td>\n",
       "      <td>7.0</td>\n",
       "      <td>9.0</td>\n",
       "      <td>0.766667</td>\n",
       "      <td>-11</td>\n",
       "    </tr>\n",
       "  </tbody>\n",
       "</table>\n",
       "</div>"
      ],
      "text/plain": [
       "   Season  DayNum  WTeamID  WScore  LTeamID  LScore  SeedW  SeedL  \\\n",
       "0    1985     136     1116      63     1234      54      9      8   \n",
       "1    1985     136     1120      59     1345      58     11      6   \n",
       "2    1985     136     1207      68     1250      43      1     16   \n",
       "3    1985     136     1229      58     1425      55      9      8   \n",
       "4    1985     136     1242      49     1325      38      3     14   \n",
       "\n",
       "   LossPointsDiffL  WinPointsDiffL  WinRateL  LossPointsDiffW  WinPointsDiffW  \\\n",
       "0              4.0            14.0  0.666667              4.0             8.0   \n",
       "1             11.5            10.0  0.680000              7.0             7.0   \n",
       "2              6.0             4.0  0.379310              1.5            16.0   \n",
       "3              5.0             7.0  0.678571             10.0            10.0   \n",
       "4              7.0             8.0  0.740741              7.0             9.0   \n",
       "\n",
       "   WinRateW  SeedDiff  \n",
       "0  0.636364         1  \n",
       "1  0.620690         5  \n",
       "2  0.925926       -15  \n",
       "3  0.740741         1  \n",
       "4  0.766667       -11  "
      ]
     },
     "execution_count": 29,
     "metadata": {},
     "output_type": "execute_result"
    }
   ],
   "source": [
    "df[\"SeedDiff\"] = df[\"SeedW\"] - df[\"SeedL\"]\n",
    "\n",
    "df.head()"
   ]
  },
  {
   "cell_type": "markdown",
   "id": "2be0e0a1",
   "metadata": {
    "papermill": {
     "duration": 0.021558,
     "end_time": "2023-03-03T06:59:52.244636",
     "exception": false,
     "start_time": "2023-03-03T06:59:52.223078",
     "status": "completed"
    },
    "tags": []
   },
   "source": [
    "The data is only made from losing matches, add losing matches:"
   ]
  },
  {
   "cell_type": "code",
   "execution_count": 30,
   "id": "13510d3c",
   "metadata": {
    "execution": {
     "iopub.execute_input": "2023-03-03T06:59:52.289948Z",
     "iopub.status.busy": "2023-03-03T06:59:52.288953Z",
     "iopub.status.idle": "2023-03-03T06:59:52.305023Z",
     "shell.execute_reply": "2023-03-03T06:59:52.303954Z"
    },
    "papermill": {
     "duration": 0.042304,
     "end_time": "2023-03-03T06:59:52.308039",
     "exception": false,
     "start_time": "2023-03-03T06:59:52.265735",
     "status": "completed"
    },
    "tags": []
   },
   "outputs": [],
   "source": [
    "def add_losing(df):\n",
    "    win_rename = {\n",
    "        \"WTeamID\": \"TeamIdA\", \n",
    "        \"WScore\" : \"ScoreA\", \n",
    "        \"LTeamID\" : \"TeamIdB\",\n",
    "        \"LScore\": \"ScoreB\",\n",
    "     }\n",
    "    win_rename.update({char : char[:-1] + \"A\" for char in df.columns if char.endswith(\"W\")})\n",
    "    win_rename.update({char : char[:-1] + \"B\" for char in df.columns if char.endswith(\"L\")})\n",
    "    \n",
    "    lose_rename = {\n",
    "        \"WTeamID\": \"TeamIdB\", \n",
    "        \"WScore\" : \"ScoreB\", \n",
    "        \"LTeamID\" : \"TeamIdA\",\n",
    "        \"LScore\": \"ScoreA\",\n",
    "    }\n",
    "    lose_rename.update({char : char[:-1] + \"B\" for char in df.columns if char.endswith(\"W\")})\n",
    "    lose_rename.update({char : char[:-1] + \"A\" for char in df.columns if char.endswith(\"L\")})\n",
    "    \n",
    "    df_win = df.copy()\n",
    "    df_lose = df.copy()\n",
    "    \n",
    "    df_win = df_win.rename(columns=win_rename)\n",
    "    df_lose = df_lose.rename(columns=lose_rename)\n",
    "    \n",
    "    return pd.concat([df_win, df_lose], axis=0, sort=False)\n",
    "\n",
    "df = add_losing(df)"
   ]
  },
  {
   "cell_type": "code",
   "execution_count": 31,
   "id": "de7f415c",
   "metadata": {
    "execution": {
     "iopub.execute_input": "2023-03-03T06:59:52.352581Z",
     "iopub.status.busy": "2023-03-03T06:59:52.352062Z",
     "iopub.status.idle": "2023-03-03T06:59:52.372770Z",
     "shell.execute_reply": "2023-03-03T06:59:52.371187Z"
    },
    "papermill": {
     "duration": 0.046907,
     "end_time": "2023-03-03T06:59:52.375841",
     "exception": false,
     "start_time": "2023-03-03T06:59:52.328934",
     "status": "completed"
    },
    "tags": []
   },
   "outputs": [
    {
     "data": {
      "text/html": [
       "<div>\n",
       "<style scoped>\n",
       "    .dataframe tbody tr th:only-of-type {\n",
       "        vertical-align: middle;\n",
       "    }\n",
       "\n",
       "    .dataframe tbody tr th {\n",
       "        vertical-align: top;\n",
       "    }\n",
       "\n",
       "    .dataframe thead th {\n",
       "        text-align: right;\n",
       "    }\n",
       "</style>\n",
       "<table border=\"1\" class=\"dataframe\">\n",
       "  <thead>\n",
       "    <tr style=\"text-align: right;\">\n",
       "      <th></th>\n",
       "      <th>Season</th>\n",
       "      <th>DayNum</th>\n",
       "      <th>TeamIdA</th>\n",
       "      <th>ScoreA</th>\n",
       "      <th>TeamIdB</th>\n",
       "      <th>ScoreB</th>\n",
       "      <th>SeedA</th>\n",
       "      <th>SeedB</th>\n",
       "      <th>LossPointsDiffB</th>\n",
       "      <th>WinPointsDiffB</th>\n",
       "      <th>WinRateB</th>\n",
       "      <th>LossPointsDiffA</th>\n",
       "      <th>WinPointsDiffA</th>\n",
       "      <th>WinRateA</th>\n",
       "      <th>SeedDiff</th>\n",
       "    </tr>\n",
       "  </thead>\n",
       "  <tbody>\n",
       "    <tr>\n",
       "      <th>0</th>\n",
       "      <td>1985</td>\n",
       "      <td>136</td>\n",
       "      <td>1116</td>\n",
       "      <td>63</td>\n",
       "      <td>1234</td>\n",
       "      <td>54</td>\n",
       "      <td>9</td>\n",
       "      <td>8</td>\n",
       "      <td>4.0</td>\n",
       "      <td>14.0</td>\n",
       "      <td>0.666667</td>\n",
       "      <td>4.0</td>\n",
       "      <td>8.0</td>\n",
       "      <td>0.636364</td>\n",
       "      <td>1</td>\n",
       "    </tr>\n",
       "    <tr>\n",
       "      <th>1</th>\n",
       "      <td>1985</td>\n",
       "      <td>136</td>\n",
       "      <td>1120</td>\n",
       "      <td>59</td>\n",
       "      <td>1345</td>\n",
       "      <td>58</td>\n",
       "      <td>11</td>\n",
       "      <td>6</td>\n",
       "      <td>11.5</td>\n",
       "      <td>10.0</td>\n",
       "      <td>0.680000</td>\n",
       "      <td>7.0</td>\n",
       "      <td>7.0</td>\n",
       "      <td>0.620690</td>\n",
       "      <td>5</td>\n",
       "    </tr>\n",
       "    <tr>\n",
       "      <th>2</th>\n",
       "      <td>1985</td>\n",
       "      <td>136</td>\n",
       "      <td>1207</td>\n",
       "      <td>68</td>\n",
       "      <td>1250</td>\n",
       "      <td>43</td>\n",
       "      <td>1</td>\n",
       "      <td>16</td>\n",
       "      <td>6.0</td>\n",
       "      <td>4.0</td>\n",
       "      <td>0.379310</td>\n",
       "      <td>1.5</td>\n",
       "      <td>16.0</td>\n",
       "      <td>0.925926</td>\n",
       "      <td>-15</td>\n",
       "    </tr>\n",
       "    <tr>\n",
       "      <th>3</th>\n",
       "      <td>1985</td>\n",
       "      <td>136</td>\n",
       "      <td>1229</td>\n",
       "      <td>58</td>\n",
       "      <td>1425</td>\n",
       "      <td>55</td>\n",
       "      <td>9</td>\n",
       "      <td>8</td>\n",
       "      <td>5.0</td>\n",
       "      <td>7.0</td>\n",
       "      <td>0.678571</td>\n",
       "      <td>10.0</td>\n",
       "      <td>10.0</td>\n",
       "      <td>0.740741</td>\n",
       "      <td>1</td>\n",
       "    </tr>\n",
       "    <tr>\n",
       "      <th>4</th>\n",
       "      <td>1985</td>\n",
       "      <td>136</td>\n",
       "      <td>1242</td>\n",
       "      <td>49</td>\n",
       "      <td>1325</td>\n",
       "      <td>38</td>\n",
       "      <td>3</td>\n",
       "      <td>14</td>\n",
       "      <td>7.0</td>\n",
       "      <td>8.0</td>\n",
       "      <td>0.740741</td>\n",
       "      <td>7.0</td>\n",
       "      <td>9.0</td>\n",
       "      <td>0.766667</td>\n",
       "      <td>-11</td>\n",
       "    </tr>\n",
       "  </tbody>\n",
       "</table>\n",
       "</div>"
      ],
      "text/plain": [
       "   Season  DayNum  TeamIdA  ScoreA  TeamIdB  ScoreB  SeedA  SeedB  \\\n",
       "0    1985     136     1116      63     1234      54      9      8   \n",
       "1    1985     136     1120      59     1345      58     11      6   \n",
       "2    1985     136     1207      68     1250      43      1     16   \n",
       "3    1985     136     1229      58     1425      55      9      8   \n",
       "4    1985     136     1242      49     1325      38      3     14   \n",
       "\n",
       "   LossPointsDiffB  WinPointsDiffB  WinRateB  LossPointsDiffA  WinPointsDiffA  \\\n",
       "0              4.0            14.0  0.666667              4.0             8.0   \n",
       "1             11.5            10.0  0.680000              7.0             7.0   \n",
       "2              6.0             4.0  0.379310              1.5            16.0   \n",
       "3              5.0             7.0  0.678571             10.0            10.0   \n",
       "4              7.0             8.0  0.740741              7.0             9.0   \n",
       "\n",
       "   WinRateA  SeedDiff  \n",
       "0  0.636364         1  \n",
       "1  0.620690         5  \n",
       "2  0.925926       -15  \n",
       "3  0.740741         1  \n",
       "4  0.766667       -11  "
      ]
     },
     "execution_count": 31,
     "metadata": {},
     "output_type": "execute_result"
    }
   ],
   "source": [
    "df.head()"
   ]
  },
  {
   "cell_type": "markdown",
   "id": "c2ef71eb",
   "metadata": {
    "papermill": {
     "duration": 0.021109,
     "end_time": "2023-03-03T06:59:52.419032",
     "exception": false,
     "start_time": "2023-03-03T06:59:52.397923",
     "status": "completed"
    },
    "tags": []
   },
   "source": [
    "### Test Data\n",
    "Prepare test data for submission format:"
   ]
  },
  {
   "cell_type": "markdown",
   "id": "4e1ae4e8",
   "metadata": {
    "papermill": {
     "duration": 0.02176,
     "end_time": "2023-03-03T06:59:52.462987",
     "exception": false,
     "start_time": "2023-03-03T06:59:52.441227",
     "status": "completed"
    },
    "tags": []
   },
   "source": [
    "The evaluation methodology for 2023 has changed from prior editions of this competition. Submissions are now evaluated on the Brier score between the predicted probabilities and the actual game outcomes (this is equivalent to mean squared error in this context). This change was made to reduce the competitive \"distractions\" caused by the 0 and 1 boundaries of the previous log-loss metric (e.g. submitting rounded predictions to gamble on a given upset, or caring deeply about the 0.99 vs 0.999 distinction that log loss would reward/punish).\n",
    "\n",
    "#### Submission File\n",
    "The submission file format also has a revised format for 2023:\n",
    "\n",
    "We have combined the Men\"s and Women\"s tournaments into one single competition. Your submission file should contain predictions for both.\n",
    "You will now be predicting the hypothetical results for every possible team matchup, not just teams that are selected for the NCAA tournament. This change was enacted to provide a longer time window to submit predictions for the 2023 tournament. Previously, the short time between Selection Sunday and the tournament tipoffs would require participants to quickly turn around updated predictions. By forecasting every possible outcome between every team, you can now submit a valid prediction at any point leading up to the tournaments.\n",
    "You may submit as many times as you wish before the tournaments start, but make sure to select the two submissions you want to count towards scoring. Do not rely on automatic selection to pick your submissions, as there is no public leaderboard score and the system will select your earliest two submissions.\n",
    "\n",
    "As with prior years, each game has a unique ```ID``` created by concatenating the season in which the game was played and the two team\"s respective ```TeamIds```. For example, \"2023_1101_1102\" indicates a hypothetical matchup between team 1101 and 1102 in the year 2023. You must predict the probability that the team with the lower ```TeamId``` beats the team with the higher ```TeamId```. Note that the men\"s teams and women\"s ```TeamIds``` do not overlap.\n",
    "\n",
    "The resulting submission format looks like the following, where ```Pred``` represents the predicted probability that the first team will win:\n",
    "\n",
    "ID,Pred\n",
    "2023_1101_1102,0.5\n",
    "2023_1101_1103,0.5\n",
    "2023_1101_1104,0.5\n",
    "...\n",
    "\n",
    "Your 2023 submissions will score 0.0 if you have submitted predictions in the right format. The leaderboard of this competition will be only meaningful once the 2023 tournaments begin and Kaggle rescores your predictions!"
   ]
  },
  {
   "cell_type": "code",
   "execution_count": 32,
   "id": "7c896fee",
   "metadata": {
    "execution": {
     "iopub.execute_input": "2023-03-03T06:59:52.509018Z",
     "iopub.status.busy": "2023-03-03T06:59:52.508552Z",
     "iopub.status.idle": "2023-03-03T06:59:52.978158Z",
     "shell.execute_reply": "2023-03-03T06:59:52.976638Z"
    },
    "papermill": {
     "duration": 0.496761,
     "end_time": "2023-03-03T06:59:52.981374",
     "exception": false,
     "start_time": "2023-03-03T06:59:52.484613",
     "status": "completed"
    },
    "tags": []
   },
   "outputs": [
    {
     "data": {
      "text/html": [
       "<div>\n",
       "<style scoped>\n",
       "    .dataframe tbody tr th:only-of-type {\n",
       "        vertical-align: middle;\n",
       "    }\n",
       "\n",
       "    .dataframe tbody tr th {\n",
       "        vertical-align: top;\n",
       "    }\n",
       "\n",
       "    .dataframe thead th {\n",
       "        text-align: right;\n",
       "    }\n",
       "</style>\n",
       "<table border=\"1\" class=\"dataframe\">\n",
       "  <thead>\n",
       "    <tr style=\"text-align: right;\">\n",
       "      <th></th>\n",
       "      <th>ID</th>\n",
       "      <th>Pred</th>\n",
       "      <th>Season</th>\n",
       "      <th>TeamIdA</th>\n",
       "      <th>TeamIdB</th>\n",
       "    </tr>\n",
       "  </thead>\n",
       "  <tbody>\n",
       "    <tr>\n",
       "      <th>0</th>\n",
       "      <td>2023_1101_1102</td>\n",
       "      <td>0.5</td>\n",
       "      <td>2023</td>\n",
       "      <td>1101</td>\n",
       "      <td>1102</td>\n",
       "    </tr>\n",
       "    <tr>\n",
       "      <th>1</th>\n",
       "      <td>2023_1101_1103</td>\n",
       "      <td>0.5</td>\n",
       "      <td>2023</td>\n",
       "      <td>1101</td>\n",
       "      <td>1103</td>\n",
       "    </tr>\n",
       "    <tr>\n",
       "      <th>2</th>\n",
       "      <td>2023_1101_1104</td>\n",
       "      <td>0.5</td>\n",
       "      <td>2023</td>\n",
       "      <td>1101</td>\n",
       "      <td>1104</td>\n",
       "    </tr>\n",
       "    <tr>\n",
       "      <th>3</th>\n",
       "      <td>2023_1101_1105</td>\n",
       "      <td>0.5</td>\n",
       "      <td>2023</td>\n",
       "      <td>1101</td>\n",
       "      <td>1105</td>\n",
       "    </tr>\n",
       "    <tr>\n",
       "      <th>4</th>\n",
       "      <td>2023_1101_1106</td>\n",
       "      <td>0.5</td>\n",
       "      <td>2023</td>\n",
       "      <td>1101</td>\n",
       "      <td>1106</td>\n",
       "    </tr>\n",
       "  </tbody>\n",
       "</table>\n",
       "</div>"
      ],
      "text/plain": [
       "               ID  Pred  Season  TeamIdA  TeamIdB\n",
       "0  2023_1101_1102   0.5    2023     1101     1102\n",
       "1  2023_1101_1103   0.5    2023     1101     1103\n",
       "2  2023_1101_1104   0.5    2023     1101     1104\n",
       "3  2023_1101_1105   0.5    2023     1101     1105\n",
       "4  2023_1101_1106   0.5    2023     1101     1106"
      ]
     },
     "execution_count": 32,
     "metadata": {},
     "output_type": "execute_result"
    }
   ],
   "source": [
    "df_test = pd.read_csv(data_dir + \"SampleSubmission2023.csv\")\n",
    "df_test[\"Season\"] = df_test[\"ID\"].apply(lambda x: int(x.split(\"_\")[0]))\n",
    "df_test[\"TeamIdA\"] = df_test[\"ID\"].apply(lambda x: int(x.split(\"_\")[1]))\n",
    "df_test[\"TeamIdB\"] = df_test[\"ID\"].apply(lambda x: int(x.split(\"_\")[2]))\n",
    "\n",
    "df_test.head()"
   ]
  },
  {
   "cell_type": "markdown",
   "id": "82182599",
   "metadata": {
    "papermill": {
     "duration": 0.021101,
     "end_time": "2023-03-03T06:59:53.024852",
     "exception": false,
     "start_time": "2023-03-03T06:59:53.003751",
     "status": "completed"
    },
    "tags": []
   },
   "source": [
    "Add features:"
   ]
  },
  {
   "cell_type": "code",
   "execution_count": 33,
   "id": "42b937e7",
   "metadata": {
    "execution": {
     "iopub.execute_input": "2023-03-03T06:59:53.070605Z",
     "iopub.status.busy": "2023-03-03T06:59:53.070058Z",
     "iopub.status.idle": "2023-03-03T06:59:53.756156Z",
     "shell.execute_reply": "2023-03-03T06:59:53.754881Z"
    },
    "papermill": {
     "duration": 0.712155,
     "end_time": "2023-03-03T06:59:53.758913",
     "exception": false,
     "start_time": "2023-03-03T06:59:53.046758",
     "status": "completed"
    },
    "tags": []
   },
   "outputs": [
    {
     "data": {
      "text/html": [
       "<div>\n",
       "<style scoped>\n",
       "    .dataframe tbody tr th:only-of-type {\n",
       "        vertical-align: middle;\n",
       "    }\n",
       "\n",
       "    .dataframe tbody tr th {\n",
       "        vertical-align: top;\n",
       "    }\n",
       "\n",
       "    .dataframe thead th {\n",
       "        text-align: right;\n",
       "    }\n",
       "</style>\n",
       "<table border=\"1\" class=\"dataframe\">\n",
       "  <thead>\n",
       "    <tr style=\"text-align: right;\">\n",
       "      <th></th>\n",
       "      <th>ID</th>\n",
       "      <th>Pred</th>\n",
       "      <th>Season</th>\n",
       "      <th>TeamIdA</th>\n",
       "      <th>TeamIdB</th>\n",
       "      <th>SeedA</th>\n",
       "      <th>SeedB</th>\n",
       "    </tr>\n",
       "  </thead>\n",
       "  <tbody>\n",
       "    <tr>\n",
       "      <th>0</th>\n",
       "      <td>2023_1101_1102</td>\n",
       "      <td>0.5</td>\n",
       "      <td>2023</td>\n",
       "      <td>1101</td>\n",
       "      <td>1102</td>\n",
       "      <td>1</td>\n",
       "      <td>1</td>\n",
       "    </tr>\n",
       "    <tr>\n",
       "      <th>1</th>\n",
       "      <td>2023_1101_1103</td>\n",
       "      <td>0.5</td>\n",
       "      <td>2023</td>\n",
       "      <td>1101</td>\n",
       "      <td>1103</td>\n",
       "      <td>1</td>\n",
       "      <td>1</td>\n",
       "    </tr>\n",
       "    <tr>\n",
       "      <th>2</th>\n",
       "      <td>2023_1101_1104</td>\n",
       "      <td>0.5</td>\n",
       "      <td>2023</td>\n",
       "      <td>1101</td>\n",
       "      <td>1104</td>\n",
       "      <td>1</td>\n",
       "      <td>1</td>\n",
       "    </tr>\n",
       "    <tr>\n",
       "      <th>3</th>\n",
       "      <td>2023_1101_1105</td>\n",
       "      <td>0.5</td>\n",
       "      <td>2023</td>\n",
       "      <td>1101</td>\n",
       "      <td>1105</td>\n",
       "      <td>1</td>\n",
       "      <td>1</td>\n",
       "    </tr>\n",
       "    <tr>\n",
       "      <th>4</th>\n",
       "      <td>2023_1101_1106</td>\n",
       "      <td>0.5</td>\n",
       "      <td>2023</td>\n",
       "      <td>1101</td>\n",
       "      <td>1106</td>\n",
       "      <td>1</td>\n",
       "      <td>1</td>\n",
       "    </tr>\n",
       "  </tbody>\n",
       "</table>\n",
       "</div>"
      ],
      "text/plain": [
       "               ID  Pred  Season  TeamIdA  TeamIdB  SeedA  SeedB\n",
       "0  2023_1101_1102   0.5    2023     1101     1102      1      1\n",
       "1  2023_1101_1103   0.5    2023     1101     1103      1      1\n",
       "2  2023_1101_1104   0.5    2023     1101     1104      1      1\n",
       "3  2023_1101_1105   0.5    2023     1101     1105      1      1\n",
       "4  2023_1101_1106   0.5    2023     1101     1106      1      1"
      ]
     },
     "execution_count": 33,
     "metadata": {},
     "output_type": "execute_result"
    }
   ],
   "source": [
    "df_test = pd.merge(\n",
    "    df_test,\n",
    "    df_tourney_seeds,\n",
    "    how=\"left\",\n",
    "    left_on=[\"Season\", \"TeamIdA\"],\n",
    "    right_on=[\"Season\", \"TeamID\"]\n",
    ").drop(columns=\"TeamID\").rename(columns={\"Seed\": \"SeedA\"}).fillna(\"W01\")\n",
    "\n",
    "df_test = pd.merge(\n",
    "    df_test, \n",
    "    df_tourney_seeds, \n",
    "    how=\"left\", \n",
    "    left_on=[\"Season\", \"TeamIdB\"], \n",
    "    right_on=[\"Season\", \"TeamID\"]\n",
    ").drop(columns=\"TeamID\").rename(columns={\"Seed\": \"SeedB\"}).fillna(\"W01\")\n",
    "df_test[\"SeedA\"] = df_test[\"SeedA\"].apply(format_seeds)\n",
    "df_test[\"SeedB\"] = df_test[\"SeedB\"].apply(format_seeds)\n",
    "\n",
    "df_test.head()"
   ]
  },
  {
   "cell_type": "code",
   "execution_count": 34,
   "id": "7cf485a6",
   "metadata": {
    "execution": {
     "iopub.execute_input": "2023-03-03T06:59:53.807313Z",
     "iopub.status.busy": "2023-03-03T06:59:53.806004Z",
     "iopub.status.idle": "2023-03-03T06:59:53.886309Z",
     "shell.execute_reply": "2023-03-03T06:59:53.884854Z"
    },
    "papermill": {
     "duration": 0.107995,
     "end_time": "2023-03-03T06:59:53.889316",
     "exception": false,
     "start_time": "2023-03-03T06:59:53.781321",
     "status": "completed"
    },
    "tags": []
   },
   "outputs": [
    {
     "data": {
      "text/html": [
       "<div>\n",
       "<style scoped>\n",
       "    .dataframe tbody tr th:only-of-type {\n",
       "        vertical-align: middle;\n",
       "    }\n",
       "\n",
       "    .dataframe tbody tr th {\n",
       "        vertical-align: top;\n",
       "    }\n",
       "\n",
       "    .dataframe thead th {\n",
       "        text-align: right;\n",
       "    }\n",
       "</style>\n",
       "<table border=\"1\" class=\"dataframe\">\n",
       "  <thead>\n",
       "    <tr style=\"text-align: right;\">\n",
       "      <th></th>\n",
       "      <th>ID</th>\n",
       "      <th>Pred</th>\n",
       "      <th>Season</th>\n",
       "      <th>TeamIdA</th>\n",
       "      <th>TeamIdB</th>\n",
       "      <th>SeedA</th>\n",
       "      <th>SeedB</th>\n",
       "      <th>LossPointsDiffA</th>\n",
       "      <th>WinPointsDiffA</th>\n",
       "      <th>WinRateA</th>\n",
       "    </tr>\n",
       "  </thead>\n",
       "  <tbody>\n",
       "    <tr>\n",
       "      <th>0</th>\n",
       "      <td>2023_1101_1102</td>\n",
       "      <td>0.5</td>\n",
       "      <td>2023</td>\n",
       "      <td>1101</td>\n",
       "      <td>1102</td>\n",
       "      <td>1</td>\n",
       "      <td>1</td>\n",
       "      <td>11.0</td>\n",
       "      <td>10.0</td>\n",
       "      <td>0.409091</td>\n",
       "    </tr>\n",
       "    <tr>\n",
       "      <th>1</th>\n",
       "      <td>2023_1101_1103</td>\n",
       "      <td>0.5</td>\n",
       "      <td>2023</td>\n",
       "      <td>1101</td>\n",
       "      <td>1103</td>\n",
       "      <td>1</td>\n",
       "      <td>1</td>\n",
       "      <td>11.0</td>\n",
       "      <td>10.0</td>\n",
       "      <td>0.409091</td>\n",
       "    </tr>\n",
       "    <tr>\n",
       "      <th>2</th>\n",
       "      <td>2023_1101_1104</td>\n",
       "      <td>0.5</td>\n",
       "      <td>2023</td>\n",
       "      <td>1101</td>\n",
       "      <td>1104</td>\n",
       "      <td>1</td>\n",
       "      <td>1</td>\n",
       "      <td>11.0</td>\n",
       "      <td>10.0</td>\n",
       "      <td>0.409091</td>\n",
       "    </tr>\n",
       "    <tr>\n",
       "      <th>3</th>\n",
       "      <td>2023_1101_1105</td>\n",
       "      <td>0.5</td>\n",
       "      <td>2023</td>\n",
       "      <td>1101</td>\n",
       "      <td>1105</td>\n",
       "      <td>1</td>\n",
       "      <td>1</td>\n",
       "      <td>11.0</td>\n",
       "      <td>10.0</td>\n",
       "      <td>0.409091</td>\n",
       "    </tr>\n",
       "    <tr>\n",
       "      <th>4</th>\n",
       "      <td>2023_1101_1106</td>\n",
       "      <td>0.5</td>\n",
       "      <td>2023</td>\n",
       "      <td>1101</td>\n",
       "      <td>1106</td>\n",
       "      <td>1</td>\n",
       "      <td>1</td>\n",
       "      <td>11.0</td>\n",
       "      <td>10.0</td>\n",
       "      <td>0.409091</td>\n",
       "    </tr>\n",
       "  </tbody>\n",
       "</table>\n",
       "</div>"
      ],
      "text/plain": [
       "               ID  Pred  Season  TeamIdA  TeamIdB  SeedA  SeedB  \\\n",
       "0  2023_1101_1102   0.5    2023     1101     1102      1      1   \n",
       "1  2023_1101_1103   0.5    2023     1101     1103      1      1   \n",
       "2  2023_1101_1104   0.5    2023     1101     1104      1      1   \n",
       "3  2023_1101_1105   0.5    2023     1101     1105      1      1   \n",
       "4  2023_1101_1106   0.5    2023     1101     1106      1      1   \n",
       "\n",
       "   LossPointsDiffA  WinPointsDiffA  WinRateA  \n",
       "0             11.0            10.0  0.409091  \n",
       "1             11.0            10.0  0.409091  \n",
       "2             11.0            10.0  0.409091  \n",
       "3             11.0            10.0  0.409091  \n",
       "4             11.0            10.0  0.409091  "
      ]
     },
     "execution_count": 34,
     "metadata": {},
     "output_type": "execute_result"
    }
   ],
   "source": [
    "df_test = pd.merge(\n",
    "    df_test, \n",
    "    df_regular_season_merged, \n",
    "    how=\"left\", \n",
    "    left_on=[\"Season\", \"TeamIdA\"], \n",
    "    right_on=[\"Season\", \"TeamID\"]\n",
    ").rename(columns={\"LossPointsDiff\" : \"LossPointsDiffA\",\n",
    "                  \"WinPointsDiff\" : \"WinPointsDiffA\",\n",
    "                  \"WinRate\" : \"WinRateA\"}\n",
    ").drop(columns=\"TeamID\")\n",
    "\n",
    "df_test.head()"
   ]
  },
  {
   "cell_type": "code",
   "execution_count": 35,
   "id": "f8af3a38",
   "metadata": {
    "execution": {
     "iopub.execute_input": "2023-03-03T06:59:53.937460Z",
     "iopub.status.busy": "2023-03-03T06:59:53.936249Z",
     "iopub.status.idle": "2023-03-03T06:59:54.021000Z",
     "shell.execute_reply": "2023-03-03T06:59:54.019583Z"
    },
    "papermill": {
     "duration": 0.111829,
     "end_time": "2023-03-03T06:59:54.024079",
     "exception": false,
     "start_time": "2023-03-03T06:59:53.912250",
     "status": "completed"
    },
    "tags": []
   },
   "outputs": [
    {
     "data": {
      "text/html": [
       "<div>\n",
       "<style scoped>\n",
       "    .dataframe tbody tr th:only-of-type {\n",
       "        vertical-align: middle;\n",
       "    }\n",
       "\n",
       "    .dataframe tbody tr th {\n",
       "        vertical-align: top;\n",
       "    }\n",
       "\n",
       "    .dataframe thead th {\n",
       "        text-align: right;\n",
       "    }\n",
       "</style>\n",
       "<table border=\"1\" class=\"dataframe\">\n",
       "  <thead>\n",
       "    <tr style=\"text-align: right;\">\n",
       "      <th></th>\n",
       "      <th>ID</th>\n",
       "      <th>Pred</th>\n",
       "      <th>Season</th>\n",
       "      <th>TeamIdA</th>\n",
       "      <th>TeamIdB</th>\n",
       "      <th>SeedA</th>\n",
       "      <th>SeedB</th>\n",
       "      <th>LossPointsDiffA</th>\n",
       "      <th>WinPointsDiffA</th>\n",
       "      <th>WinRateA</th>\n",
       "      <th>LossPointsDiffB</th>\n",
       "      <th>WinPointsDiffB</th>\n",
       "      <th>WinRateB</th>\n",
       "    </tr>\n",
       "  </thead>\n",
       "  <tbody>\n",
       "    <tr>\n",
       "      <th>0</th>\n",
       "      <td>2023_1101_1102</td>\n",
       "      <td>0.5</td>\n",
       "      <td>2023</td>\n",
       "      <td>1101</td>\n",
       "      <td>1102</td>\n",
       "      <td>1</td>\n",
       "      <td>1</td>\n",
       "      <td>11.0</td>\n",
       "      <td>10.0</td>\n",
       "      <td>0.409091</td>\n",
       "      <td>10.0</td>\n",
       "      <td>11.5</td>\n",
       "      <td>0.482759</td>\n",
       "    </tr>\n",
       "    <tr>\n",
       "      <th>1</th>\n",
       "      <td>2023_1101_1103</td>\n",
       "      <td>0.5</td>\n",
       "      <td>2023</td>\n",
       "      <td>1101</td>\n",
       "      <td>1103</td>\n",
       "      <td>1</td>\n",
       "      <td>1</td>\n",
       "      <td>11.0</td>\n",
       "      <td>10.0</td>\n",
       "      <td>0.409091</td>\n",
       "      <td>11.0</td>\n",
       "      <td>13.0</td>\n",
       "      <td>0.653846</td>\n",
       "    </tr>\n",
       "    <tr>\n",
       "      <th>2</th>\n",
       "      <td>2023_1101_1104</td>\n",
       "      <td>0.5</td>\n",
       "      <td>2023</td>\n",
       "      <td>1101</td>\n",
       "      <td>1104</td>\n",
       "      <td>1</td>\n",
       "      <td>1</td>\n",
       "      <td>11.0</td>\n",
       "      <td>10.0</td>\n",
       "      <td>0.409091</td>\n",
       "      <td>12.5</td>\n",
       "      <td>15.0</td>\n",
       "      <td>0.851852</td>\n",
       "    </tr>\n",
       "    <tr>\n",
       "      <th>3</th>\n",
       "      <td>2023_1101_1105</td>\n",
       "      <td>0.5</td>\n",
       "      <td>2023</td>\n",
       "      <td>1101</td>\n",
       "      <td>1105</td>\n",
       "      <td>1</td>\n",
       "      <td>1</td>\n",
       "      <td>11.0</td>\n",
       "      <td>10.0</td>\n",
       "      <td>0.409091</td>\n",
       "      <td>8.0</td>\n",
       "      <td>7.0</td>\n",
       "      <td>0.360000</td>\n",
       "    </tr>\n",
       "    <tr>\n",
       "      <th>4</th>\n",
       "      <td>2023_1101_1106</td>\n",
       "      <td>0.5</td>\n",
       "      <td>2023</td>\n",
       "      <td>1101</td>\n",
       "      <td>1106</td>\n",
       "      <td>1</td>\n",
       "      <td>1</td>\n",
       "      <td>11.0</td>\n",
       "      <td>10.0</td>\n",
       "      <td>0.409091</td>\n",
       "      <td>13.0</td>\n",
       "      <td>8.0</td>\n",
       "      <td>0.259259</td>\n",
       "    </tr>\n",
       "  </tbody>\n",
       "</table>\n",
       "</div>"
      ],
      "text/plain": [
       "               ID  Pred  Season  TeamIdA  TeamIdB  SeedA  SeedB  \\\n",
       "0  2023_1101_1102   0.5    2023     1101     1102      1      1   \n",
       "1  2023_1101_1103   0.5    2023     1101     1103      1      1   \n",
       "2  2023_1101_1104   0.5    2023     1101     1104      1      1   \n",
       "3  2023_1101_1105   0.5    2023     1101     1105      1      1   \n",
       "4  2023_1101_1106   0.5    2023     1101     1106      1      1   \n",
       "\n",
       "   LossPointsDiffA  WinPointsDiffA  WinRateA  LossPointsDiffB  WinPointsDiffB  \\\n",
       "0             11.0            10.0  0.409091             10.0            11.5   \n",
       "1             11.0            10.0  0.409091             11.0            13.0   \n",
       "2             11.0            10.0  0.409091             12.5            15.0   \n",
       "3             11.0            10.0  0.409091              8.0             7.0   \n",
       "4             11.0            10.0  0.409091             13.0             8.0   \n",
       "\n",
       "   WinRateB  \n",
       "0  0.482759  \n",
       "1  0.653846  \n",
       "2  0.851852  \n",
       "3  0.360000  \n",
       "4  0.259259  "
      ]
     },
     "execution_count": 35,
     "metadata": {},
     "output_type": "execute_result"
    }
   ],
   "source": [
    "df_test = pd.merge(\n",
    "    df_test, \n",
    "    df_regular_season_merged, \n",
    "    how=\"left\", \n",
    "    left_on=[\"Season\", \"TeamIdB\"], \n",
    "    right_on=[\"Season\", \"TeamID\"]\n",
    ").rename(columns={\"LossPointsDiff\" : \"LossPointsDiffB\",\n",
    "                  \"WinPointsDiff\" : \"WinPointsDiffB\",\n",
    "                  \"WinRate\" : \"WinRateB\"}\n",
    ").drop(columns=\"TeamID\")\n",
    "\n",
    "df_test.head()"
   ]
  },
  {
   "cell_type": "code",
   "execution_count": 36,
   "id": "6127ddba",
   "metadata": {
    "execution": {
     "iopub.execute_input": "2023-03-03T06:59:54.072733Z",
     "iopub.status.busy": "2023-03-03T06:59:54.071921Z",
     "iopub.status.idle": "2023-03-03T06:59:54.097590Z",
     "shell.execute_reply": "2023-03-03T06:59:54.096165Z"
    },
    "papermill": {
     "duration": 0.053024,
     "end_time": "2023-03-03T06:59:54.100432",
     "exception": false,
     "start_time": "2023-03-03T06:59:54.047408",
     "status": "completed"
    },
    "tags": []
   },
   "outputs": [
    {
     "data": {
      "text/html": [
       "<div>\n",
       "<style scoped>\n",
       "    .dataframe tbody tr th:only-of-type {\n",
       "        vertical-align: middle;\n",
       "    }\n",
       "\n",
       "    .dataframe tbody tr th {\n",
       "        vertical-align: top;\n",
       "    }\n",
       "\n",
       "    .dataframe thead th {\n",
       "        text-align: right;\n",
       "    }\n",
       "</style>\n",
       "<table border=\"1\" class=\"dataframe\">\n",
       "  <thead>\n",
       "    <tr style=\"text-align: right;\">\n",
       "      <th></th>\n",
       "      <th>Season</th>\n",
       "      <th>DayNum</th>\n",
       "      <th>TeamIdA</th>\n",
       "      <th>ScoreA</th>\n",
       "      <th>TeamIdB</th>\n",
       "      <th>ScoreB</th>\n",
       "      <th>SeedA</th>\n",
       "      <th>SeedB</th>\n",
       "      <th>LossPointsDiffB</th>\n",
       "      <th>WinPointsDiffB</th>\n",
       "      <th>WinRateB</th>\n",
       "      <th>LossPointsDiffA</th>\n",
       "      <th>WinPointsDiffA</th>\n",
       "      <th>WinRateA</th>\n",
       "      <th>SeedDiff</th>\n",
       "      <th>ScoreDiff</th>\n",
       "      <th>WinA</th>\n",
       "    </tr>\n",
       "  </thead>\n",
       "  <tbody>\n",
       "    <tr>\n",
       "      <th>0</th>\n",
       "      <td>1985</td>\n",
       "      <td>136</td>\n",
       "      <td>1116</td>\n",
       "      <td>63</td>\n",
       "      <td>1234</td>\n",
       "      <td>54</td>\n",
       "      <td>9</td>\n",
       "      <td>8</td>\n",
       "      <td>4.0</td>\n",
       "      <td>14.0</td>\n",
       "      <td>0.666667</td>\n",
       "      <td>4.0</td>\n",
       "      <td>8.0</td>\n",
       "      <td>0.636364</td>\n",
       "      <td>1</td>\n",
       "      <td>9</td>\n",
       "      <td>1</td>\n",
       "    </tr>\n",
       "    <tr>\n",
       "      <th>1</th>\n",
       "      <td>1985</td>\n",
       "      <td>136</td>\n",
       "      <td>1120</td>\n",
       "      <td>59</td>\n",
       "      <td>1345</td>\n",
       "      <td>58</td>\n",
       "      <td>11</td>\n",
       "      <td>6</td>\n",
       "      <td>11.5</td>\n",
       "      <td>10.0</td>\n",
       "      <td>0.680000</td>\n",
       "      <td>7.0</td>\n",
       "      <td>7.0</td>\n",
       "      <td>0.620690</td>\n",
       "      <td>5</td>\n",
       "      <td>1</td>\n",
       "      <td>1</td>\n",
       "    </tr>\n",
       "    <tr>\n",
       "      <th>2</th>\n",
       "      <td>1985</td>\n",
       "      <td>136</td>\n",
       "      <td>1207</td>\n",
       "      <td>68</td>\n",
       "      <td>1250</td>\n",
       "      <td>43</td>\n",
       "      <td>1</td>\n",
       "      <td>16</td>\n",
       "      <td>6.0</td>\n",
       "      <td>4.0</td>\n",
       "      <td>0.379310</td>\n",
       "      <td>1.5</td>\n",
       "      <td>16.0</td>\n",
       "      <td>0.925926</td>\n",
       "      <td>-15</td>\n",
       "      <td>25</td>\n",
       "      <td>1</td>\n",
       "    </tr>\n",
       "    <tr>\n",
       "      <th>3</th>\n",
       "      <td>1985</td>\n",
       "      <td>136</td>\n",
       "      <td>1229</td>\n",
       "      <td>58</td>\n",
       "      <td>1425</td>\n",
       "      <td>55</td>\n",
       "      <td>9</td>\n",
       "      <td>8</td>\n",
       "      <td>5.0</td>\n",
       "      <td>7.0</td>\n",
       "      <td>0.678571</td>\n",
       "      <td>10.0</td>\n",
       "      <td>10.0</td>\n",
       "      <td>0.740741</td>\n",
       "      <td>1</td>\n",
       "      <td>3</td>\n",
       "      <td>1</td>\n",
       "    </tr>\n",
       "    <tr>\n",
       "      <th>4</th>\n",
       "      <td>1985</td>\n",
       "      <td>136</td>\n",
       "      <td>1242</td>\n",
       "      <td>49</td>\n",
       "      <td>1325</td>\n",
       "      <td>38</td>\n",
       "      <td>3</td>\n",
       "      <td>14</td>\n",
       "      <td>7.0</td>\n",
       "      <td>8.0</td>\n",
       "      <td>0.740741</td>\n",
       "      <td>7.0</td>\n",
       "      <td>9.0</td>\n",
       "      <td>0.766667</td>\n",
       "      <td>-11</td>\n",
       "      <td>11</td>\n",
       "      <td>1</td>\n",
       "    </tr>\n",
       "  </tbody>\n",
       "</table>\n",
       "</div>"
      ],
      "text/plain": [
       "   Season  DayNum  TeamIdA  ScoreA  TeamIdB  ScoreB  SeedA  SeedB  \\\n",
       "0    1985     136     1116      63     1234      54      9      8   \n",
       "1    1985     136     1120      59     1345      58     11      6   \n",
       "2    1985     136     1207      68     1250      43      1     16   \n",
       "3    1985     136     1229      58     1425      55      9      8   \n",
       "4    1985     136     1242      49     1325      38      3     14   \n",
       "\n",
       "   LossPointsDiffB  WinPointsDiffB  WinRateB  LossPointsDiffA  WinPointsDiffA  \\\n",
       "0              4.0            14.0  0.666667              4.0             8.0   \n",
       "1             11.5            10.0  0.680000              7.0             7.0   \n",
       "2              6.0             4.0  0.379310              1.5            16.0   \n",
       "3              5.0             7.0  0.678571             10.0            10.0   \n",
       "4              7.0             8.0  0.740741              7.0             9.0   \n",
       "\n",
       "   WinRateA  SeedDiff  ScoreDiff  WinA  \n",
       "0  0.636364         1          9     1  \n",
       "1  0.620690         5          1     1  \n",
       "2  0.925926       -15         25     1  \n",
       "3  0.740741         1          3     1  \n",
       "4  0.766667       -11         11     1  "
      ]
     },
     "execution_count": 36,
     "metadata": {},
     "output_type": "execute_result"
    }
   ],
   "source": [
    "df[\"ScoreDiff\"] = df[\"ScoreA\"] - df[\"ScoreB\"]\n",
    "df[\"WinA\"] = (df[\"ScoreDiff\"] > 0).astype(int)\n",
    "\n",
    "df.head()"
   ]
  },
  {
   "cell_type": "markdown",
   "id": "42034d31",
   "metadata": {
    "papermill": {
     "duration": 0.022831,
     "end_time": "2023-03-03T06:59:54.147603",
     "exception": false,
     "start_time": "2023-03-03T06:59:54.124772",
     "status": "completed"
    },
    "tags": []
   },
   "source": [
    "### Exploratory Data Analysis\n",
    "Examine features to inform machine learning strategies, and prep data for machine learning."
   ]
  },
  {
   "cell_type": "markdown",
   "id": "cb9ccebe",
   "metadata": {
    "papermill": {
     "duration": 0.024501,
     "end_time": "2023-03-03T06:59:54.195835",
     "exception": false,
     "start_time": "2023-03-03T06:59:54.171334",
     "status": "completed"
    },
    "tags": []
   },
   "source": [
    "Visualize distribution of features:"
   ]
  },
  {
   "cell_type": "code",
   "execution_count": 37,
   "id": "2e30c214",
   "metadata": {
    "execution": {
     "iopub.execute_input": "2023-03-03T06:59:54.244464Z",
     "iopub.status.busy": "2023-03-03T06:59:54.243612Z",
     "iopub.status.idle": "2023-03-03T06:59:55.005691Z",
     "shell.execute_reply": "2023-03-03T06:59:55.004240Z"
    },
    "papermill": {
     "duration": 0.789885,
     "end_time": "2023-03-03T06:59:55.008478",
     "exception": false,
     "start_time": "2023-03-03T06:59:54.218593",
     "status": "completed"
    },
    "tags": []
   },
   "outputs": [
    {
     "data": {
      "image/png": "[encoded data removed]",
      "text/plain": [
       "<Figure size 640x480 with 1 Axes>"
      ]
     },
     "metadata": {},
     "output_type": "display_data"
    },
    {
     "data": {
      "image/png": "[encoded data removed]",
      "text/plain": [
       "<Figure size 640x480 with 1 Axes>"
      ]
     },
     "metadata": {},
     "output_type": "display_data"
    }
   ],
   "source": [
    "columns = [\"ScoreDiff\", \"SeedDiff\"]\n",
    "\n",
    "for column in columns:\n",
    "    \n",
    "    median = df[column].median()\n",
    "    mean = df[column].mean()\n",
    "    \n",
    "    sns.histplot(x=df[column])\n",
    "    \n",
    "    plt.axvline(median, color='red', linestyle='--', label='Median')\n",
    "    plt.axvline(mean, color='green', linestyle='--', label='Mean')\n",
    "    \n",
    "    plt.title(f\"distribution of {column}\")\n",
    "    plt.xlim(df[column].min(), df[column].max())\n",
    "    plt.show()"
   ]
  },
  {
   "cell_type": "code",
   "execution_count": null,
   "id": "2b0a0881",
   "metadata": {
    "papermill": {
     "duration": 0.023271,
     "end_time": "2023-03-03T06:59:55.055583",
     "exception": false,
     "start_time": "2023-03-03T06:59:55.032312",
     "status": "completed"
    },
    "tags": []
   },
   "outputs": [],
   "source": []
  }
 ],
 "metadata": {
  "kernelspec": {
   "display_name": "Python 3",
   "language": "python",
   "name": "python3"
  },
  "language_info": {
   "codemirror_mode": {
    "name": "ipython",
    "version": 3
   },
   "file_extension": ".py",
   "mimetype": "text/x-python",
   "name": "python",
   "nbconvert_exporter": "python",
   "pygments_lexer": "ipython3",
   "version": "3.7.12"
  },
  "papermill": {
   "default_parameters": {},
   "duration": 21.077782,
   "end_time": "2023-03-03T06:59:56.106205",
   "environment_variables": {},
   "exception": null,
   "input_path": "__notebook__.ipynb",
   "output_path": "__notebook__.ipynb",
   "parameters": {},
   "start_time": "2023-03-03T06:59:35.028423",
   "version": "2.4.0"
  }
 },
 "nbformat": 4,
 "nbformat_minor": 5
}
